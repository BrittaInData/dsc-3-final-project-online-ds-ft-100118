{
 "cells": [
  {
   "cell_type": "markdown",
   "metadata": {},
   "source": [
    "# Final Project Submission\n",
    "\n",
    "Please fill out:\n",
    "* Student name: BRITTA BETTENDORF\n",
    "* Student pace: FULL TIME\n",
    "* Scheduled project review date/time: Monday, Jan. 14, 2019, XX:XX\n",
    "* Instructor name: RAFAEL CARRASCO\n",
    "* Blog post URL: www.datenlage.blog/"
   ]
  },
  {
   "cell_type": "markdown",
   "metadata": {},
   "source": [
    "# Predicting votes in relation to a basic income\n",
    "\n",
    "### The dataset\n",
    "This study on basic income across Europe was conducted by Dalia Research in April 2016 across 28 EU member states. The sample of n = 9.649 was drawn across all 28 states, taking into account current population distributions with regard to age (14-65 years), gender and region/country. The dataset is available on kaggle: https://www.kaggle.com/daliaresearch/basic-income-survey-european-dataset/home\n",
    "\n",
    "The dataset contains **9649 records and 15 columns**, these include demographics such as age, gender, education etc. as well as opinions towards the effect of a basic income on someone's work choices, the familiarity with this idea, convincing arguments pro and con - and of course the approval for or rejection of a basic income.\n",
    "\n",
    "Our **target** in this notebook is **to predict how people are likely to vote**. The target variable originally consisted of multiple classe, however it was converted to a binary outcome. Thus we have a typical classification task to solve. **Several different classification models such as Logistic Regression, Decision Tree, Random Forest, XGBoost and Support Vector Machine (SVM)** are built, optimized, evaluated and compared.\n",
    "\n",
    "### The OSEMiN-approach\n",
    "\n",
    "The OSEMiN Process is an acronym that rhymes with “awesome” and stands for **Obtain, Scrub, Explore, Model, and iNterpret**. It can be used as a blueprint for working on data problems using machine learning tools. Scrubbing (also named cleaning) and exploring the data is the whole process of preprocessing. Building the model and of course evaluating and optimizing it is the process of machine learning."
   ]
  },
  {
   "cell_type": "markdown",
   "metadata": {},
   "source": [
    "# Table of contents\n",
    "<a id='Table of contents'></a>\n",
    "\n",
    "### <a href='#1. Obtaining and viewing the data'>1. Obtaining and viewing the data</a>\n",
    "\n",
    "### <a href='#2. Preprocessing the data'>2. Preprocessing the data</a>\n",
    "\n",
    "* <a href='#2.1. Renaming columns'>2.1. Renaming columns</a>\n",
    "* <a href='#2.2. Excluding unrelated data'>2.2. Excluding unrelated data</a>\n",
    "* <a href='#2.3. Dealing with misleading data'>2.3. Dealing with misleading data</a>\n",
    "* <a href='#2.4. Dealing with missing data'>2.4. Dealing with missing data</a>\n",
    "* <a href='#2.5. Dealing with duplicate data'>2.5. Dealing with duplicate data</a>\n",
    "* <a href='#2.6. Basic feature extraction and engineering'>2.6. Basic feature extraction and engineering</a>\n",
    "\n",
    "### <a href='#3. Data visualization'>3. Data visualization</a>\n",
    "* <a href='#3.1. Mosaic Plots'>3.1. Mosaic Plots</a>\n",
    "* <a href='#3.2. Bar Charts'>3.2. Bar Charts</a>\n",
    "\n",
    "### <a href='#4. Machine Learning'>4. Machine Learning</a>\n",
    "\n",
    "* <a href='#4.1. Recoding categorical features'>4.1. Recoding categorical features</a>\n",
    "* <a href='#4.2. Training a Logistic Regression'>4.2. Training a Logistic Regression</a>\n",
    "* <a href='#4.3. Training a Decision Tree'>4.3. Training a Decision Tree</a>\n",
    "* <a href='#4.4. Training a Random Forest Classifier'>4.4. Training a Random Forest Classifier</a>\n",
    "* <a href='#4.5. Training an XGBoost Classifier'>4.5. Training an XGBoost Classifier</a>\n",
    "* <a href='#4.6. Training a Support Vector Machine'>4.6. Training a Support Vector Machine</a>\n",
    "* <a href='#4.7. Model comparison I'>4.7. Model comparison I</a>\n",
    "* <a href='#4.8. Reducing dimensionality with PCA'>4.8. Reducing dimensionality with PCA</a>\n",
    "* <a href='#4.9. Model comparison II - after PCA'>4.9. Model comparison II - after PCA</a>\n",
    "\n",
    "### <a href='#5. Conclusions'>5. Conclusions</a>\n",
    "* <a href='#5.1. With PCA or without?'>5.1. With PCA or without?</a>\n",
    "* <a href='#5.2. Feature importance'>5.2. Feature importance</a>\n",
    "* <a href='#5.3. Recommendation'>5.3. Recommendation</a>"
   ]
  },
  {
   "cell_type": "markdown",
   "metadata": {},
   "source": [
    "### 1. Obtaining and viewing the data\n",
    "<a id='1. Obtaining and viewing the data'></a>"
   ]
  },
  {
   "cell_type": "markdown",
   "metadata": {},
   "source": [
    "Let's start by obtaining and investigating the pandas DataFrame:"
   ]
  },
  {
   "cell_type": "code",
   "execution_count": 1,
   "metadata": {},
   "outputs": [],
   "source": [
    "import xgboost as xgb\n",
    "\n",
    "import pandas as pd\n",
    "import numpy as np\n",
    "\n",
    "import matplotlib.pyplot as plt\n",
    "plt.style.use('seaborn')\n",
    "import seaborn as sns\n",
    "from pprint import pprint"
   ]
  },
  {
   "cell_type": "code",
   "execution_count": 2,
   "metadata": {},
   "outputs": [
    {
     "data": {
      "text/html": [
       "<div>\n",
       "<style scoped>\n",
       "    .dataframe tbody tr th:only-of-type {\n",
       "        vertical-align: middle;\n",
       "    }\n",
       "\n",
       "    .dataframe tbody tr th {\n",
       "        vertical-align: top;\n",
       "    }\n",
       "\n",
       "    .dataframe thead th {\n",
       "        text-align: right;\n",
       "    }\n",
       "</style>\n",
       "<table border=\"1\" class=\"dataframe\">\n",
       "  <thead>\n",
       "    <tr style=\"text-align: right;\">\n",
       "      <th></th>\n",
       "      <th>country_code</th>\n",
       "      <th>uuid</th>\n",
       "      <th>age</th>\n",
       "      <th>gender</th>\n",
       "      <th>rural</th>\n",
       "      <th>dem_education_level</th>\n",
       "      <th>dem_full_time_job</th>\n",
       "      <th>dem_has_children</th>\n",
       "      <th>question_bbi_2016wave4_basicincome_awareness</th>\n",
       "      <th>question_bbi_2016wave4_basicincome_vote</th>\n",
       "      <th>question_bbi_2016wave4_basicincome_effect</th>\n",
       "      <th>question_bbi_2016wave4_basicincome_argumentsfor</th>\n",
       "      <th>question_bbi_2016wave4_basicincome_argumentsagainst</th>\n",
       "      <th>age_group</th>\n",
       "      <th>weight</th>\n",
       "    </tr>\n",
       "  </thead>\n",
       "  <tbody>\n",
       "    <tr>\n",
       "      <th>0</th>\n",
       "      <td>AT</td>\n",
       "      <td>f6e7ee00-deac-0133-4de8-0a81e8b09a82</td>\n",
       "      <td>61</td>\n",
       "      <td>male</td>\n",
       "      <td>rural</td>\n",
       "      <td>no</td>\n",
       "      <td>no</td>\n",
       "      <td>no</td>\n",
       "      <td>I know something about it</td>\n",
       "      <td>I would not vote</td>\n",
       "      <td>None of the above</td>\n",
       "      <td>None of the above</td>\n",
       "      <td>None of the above</td>\n",
       "      <td>40_65</td>\n",
       "      <td>1.105.534.474</td>\n",
       "    </tr>\n",
       "    <tr>\n",
       "      <th>1</th>\n",
       "      <td>AT</td>\n",
       "      <td>54f0f1c0-dda1-0133-a559-0a81e8b09a82</td>\n",
       "      <td>57</td>\n",
       "      <td>male</td>\n",
       "      <td>urban</td>\n",
       "      <td>high</td>\n",
       "      <td>yes</td>\n",
       "      <td>yes</td>\n",
       "      <td>I understand it fully</td>\n",
       "      <td>I would probably vote for it</td>\n",
       "      <td>A basic income would not affect my work choices</td>\n",
       "      <td>It increases appreciation for household work a...</td>\n",
       "      <td>It might encourage people to stop working</td>\n",
       "      <td>40_65</td>\n",
       "      <td>1.533.248.826</td>\n",
       "    </tr>\n",
       "    <tr>\n",
       "      <th>2</th>\n",
       "      <td>AT</td>\n",
       "      <td>83127080-da3d-0133-c74f-0a81e8b09a82</td>\n",
       "      <td>32</td>\n",
       "      <td>male</td>\n",
       "      <td>urban</td>\n",
       "      <td>NaN</td>\n",
       "      <td>no</td>\n",
       "      <td>no</td>\n",
       "      <td>I have heard just a little about it</td>\n",
       "      <td>I would not vote</td>\n",
       "      <td>‰Û_ gain additional skills</td>\n",
       "      <td>It creates more equality of opportunity</td>\n",
       "      <td>Foreigners might come to my country and take a...</td>\n",
       "      <td>26_39</td>\n",
       "      <td>0.9775919155</td>\n",
       "    </tr>\n",
       "    <tr>\n",
       "      <th>3</th>\n",
       "      <td>AT</td>\n",
       "      <td>15626d40-db13-0133-ea5c-0a81e8b09a82</td>\n",
       "      <td>45</td>\n",
       "      <td>male</td>\n",
       "      <td>rural</td>\n",
       "      <td>high</td>\n",
       "      <td>yes</td>\n",
       "      <td>yes</td>\n",
       "      <td>I have heard just a little about it</td>\n",
       "      <td>I would probably vote for it</td>\n",
       "      <td>‰Û_ work less</td>\n",
       "      <td>It reduces anxiety about financing basic needs</td>\n",
       "      <td>None of the above</td>\n",
       "      <td>40_65</td>\n",
       "      <td>1.105.534.474</td>\n",
       "    </tr>\n",
       "    <tr>\n",
       "      <th>4</th>\n",
       "      <td>AT</td>\n",
       "      <td>24954a70-db98-0133-4a64-0a81e8b09a82</td>\n",
       "      <td>41</td>\n",
       "      <td>female</td>\n",
       "      <td>urban</td>\n",
       "      <td>high</td>\n",
       "      <td>yes</td>\n",
       "      <td>yes</td>\n",
       "      <td>I have heard just a little about it</td>\n",
       "      <td>I would probably vote for it</td>\n",
       "      <td>None of the above</td>\n",
       "      <td>It reduces anxiety about financing basic needs</td>\n",
       "      <td>It is impossible to finance | It might encoura...</td>\n",
       "      <td>40_65</td>\n",
       "      <td>58.731.136</td>\n",
       "    </tr>\n",
       "  </tbody>\n",
       "</table>\n",
       "</div>"
      ],
      "text/plain": [
       "  country_code                                  uuid  age  gender  rural  \\\n",
       "0           AT  f6e7ee00-deac-0133-4de8-0a81e8b09a82   61    male  rural   \n",
       "1           AT  54f0f1c0-dda1-0133-a559-0a81e8b09a82   57    male  urban   \n",
       "2           AT  83127080-da3d-0133-c74f-0a81e8b09a82   32    male  urban   \n",
       "3           AT  15626d40-db13-0133-ea5c-0a81e8b09a82   45    male  rural   \n",
       "4           AT  24954a70-db98-0133-4a64-0a81e8b09a82   41  female  urban   \n",
       "\n",
       "  dem_education_level dem_full_time_job dem_has_children  \\\n",
       "0                  no                no               no   \n",
       "1                high               yes              yes   \n",
       "2                 NaN                no               no   \n",
       "3                high               yes              yes   \n",
       "4                high               yes              yes   \n",
       "\n",
       "  question_bbi_2016wave4_basicincome_awareness  \\\n",
       "0                    I know something about it   \n",
       "1                        I understand it fully   \n",
       "2          I have heard just a little about it   \n",
       "3          I have heard just a little about it   \n",
       "4          I have heard just a little about it   \n",
       "\n",
       "  question_bbi_2016wave4_basicincome_vote  \\\n",
       "0                        I would not vote   \n",
       "1            I would probably vote for it   \n",
       "2                        I would not vote   \n",
       "3            I would probably vote for it   \n",
       "4            I would probably vote for it   \n",
       "\n",
       "         question_bbi_2016wave4_basicincome_effect  \\\n",
       "0                                None of the above   \n",
       "1  A basic income would not affect my work choices   \n",
       "2                       ‰Û_ gain additional skills   \n",
       "3                                    ‰Û_ work less   \n",
       "4                                None of the above   \n",
       "\n",
       "     question_bbi_2016wave4_basicincome_argumentsfor  \\\n",
       "0                                  None of the above   \n",
       "1  It increases appreciation for household work a...   \n",
       "2            It creates more equality of opportunity   \n",
       "3     It reduces anxiety about financing basic needs   \n",
       "4     It reduces anxiety about financing basic needs   \n",
       "\n",
       "  question_bbi_2016wave4_basicincome_argumentsagainst age_group         weight  \n",
       "0                                  None of the above      40_65  1.105.534.474  \n",
       "1          It might encourage people to stop working      40_65  1.533.248.826  \n",
       "2  Foreigners might come to my country and take a...      26_39   0.9775919155  \n",
       "3                                  None of the above      40_65  1.105.534.474  \n",
       "4  It is impossible to finance | It might encoura...      40_65     58.731.136  "
      ]
     },
     "execution_count": 2,
     "metadata": {},
     "output_type": "execute_result"
    }
   ],
   "source": [
    "# reading in dataset and viewing it\n",
    "df = pd.read_csv('basic_income_dataset_dalia.csv')\n",
    "df.head()"
   ]
  },
  {
   "cell_type": "code",
   "execution_count": 3,
   "metadata": {},
   "outputs": [
    {
     "name": "stdout",
     "output_type": "stream",
     "text": [
      "(9649, 15)\n",
      "\n",
      "<class 'pandas.core.frame.DataFrame'>\n",
      "RangeIndex: 9649 entries, 0 to 9648\n",
      "Data columns (total 15 columns):\n",
      "country_code                                           9649 non-null object\n",
      "uuid                                                   9649 non-null object\n",
      "age                                                    9649 non-null int64\n",
      "gender                                                 9649 non-null object\n",
      "rural                                                  9649 non-null object\n",
      "dem_education_level                                    8986 non-null object\n",
      "dem_full_time_job                                      9649 non-null object\n",
      "dem_has_children                                       9649 non-null object\n",
      "question_bbi_2016wave4_basicincome_awareness           9649 non-null object\n",
      "question_bbi_2016wave4_basicincome_vote                9649 non-null object\n",
      "question_bbi_2016wave4_basicincome_effect              9649 non-null object\n",
      "question_bbi_2016wave4_basicincome_argumentsfor        9649 non-null object\n",
      "question_bbi_2016wave4_basicincome_argumentsagainst    9649 non-null object\n",
      "age_group                                              9649 non-null object\n",
      "weight                                                 9649 non-null object\n",
      "dtypes: int64(1), object(14)\n",
      "memory usage: 1.1+ MB\n",
      "None\n"
     ]
    }
   ],
   "source": [
    "# get the number of rows and columns\n",
    "print(df.shape)\n",
    "\n",
    "# get datetype info\n",
    "print()\n",
    "print(df.info())"
   ]
  },
  {
   "cell_type": "code",
   "execution_count": 4,
   "metadata": {},
   "outputs": [
    {
     "data": {
      "text/html": [
       "<div>\n",
       "<style scoped>\n",
       "    .dataframe tbody tr th:only-of-type {\n",
       "        vertical-align: middle;\n",
       "    }\n",
       "\n",
       "    .dataframe tbody tr th {\n",
       "        vertical-align: top;\n",
       "    }\n",
       "\n",
       "    .dataframe thead th {\n",
       "        text-align: right;\n",
       "    }\n",
       "</style>\n",
       "<table border=\"1\" class=\"dataframe\">\n",
       "  <thead>\n",
       "    <tr style=\"text-align: right;\">\n",
       "      <th></th>\n",
       "      <th>count</th>\n",
       "      <th>mean</th>\n",
       "      <th>std</th>\n",
       "      <th>min</th>\n",
       "      <th>25%</th>\n",
       "      <th>50%</th>\n",
       "      <th>75%</th>\n",
       "      <th>max</th>\n",
       "    </tr>\n",
       "  </thead>\n",
       "  <tbody>\n",
       "    <tr>\n",
       "      <th>age</th>\n",
       "      <td>9649.0</td>\n",
       "      <td>37.712716</td>\n",
       "      <td>12.27063</td>\n",
       "      <td>14.0</td>\n",
       "      <td>28.0</td>\n",
       "      <td>40.0</td>\n",
       "      <td>46.0</td>\n",
       "      <td>65.0</td>\n",
       "    </tr>\n",
       "  </tbody>\n",
       "</table>\n",
       "</div>"
      ],
      "text/plain": [
       "      count       mean       std   min   25%   50%   75%   max\n",
       "age  9649.0  37.712716  12.27063  14.0  28.0  40.0  46.0  65.0"
      ]
     },
     "execution_count": 4,
     "metadata": {},
     "output_type": "execute_result"
    }
   ],
   "source": [
    "# get an overview of the numeric agecolumn (.T = transposing the dataframe's order)\n",
    "df.describe().T"
   ]
  },
  {
   "cell_type": "code",
   "execution_count": 5,
   "metadata": {
    "scrolled": false
   },
   "outputs": [
    {
     "data": {
      "text/html": [
       "<div>\n",
       "<style scoped>\n",
       "    .dataframe tbody tr th:only-of-type {\n",
       "        vertical-align: middle;\n",
       "    }\n",
       "\n",
       "    .dataframe tbody tr th {\n",
       "        vertical-align: top;\n",
       "    }\n",
       "\n",
       "    .dataframe thead th {\n",
       "        text-align: right;\n",
       "    }\n",
       "</style>\n",
       "<table border=\"1\" class=\"dataframe\">\n",
       "  <thead>\n",
       "    <tr style=\"text-align: right;\">\n",
       "      <th></th>\n",
       "      <th>count</th>\n",
       "      <th>unique</th>\n",
       "      <th>top</th>\n",
       "      <th>freq</th>\n",
       "    </tr>\n",
       "  </thead>\n",
       "  <tbody>\n",
       "    <tr>\n",
       "      <th>country_code</th>\n",
       "      <td>9649</td>\n",
       "      <td>28</td>\n",
       "      <td>DE</td>\n",
       "      <td>1420</td>\n",
       "    </tr>\n",
       "    <tr>\n",
       "      <th>uuid</th>\n",
       "      <td>9649</td>\n",
       "      <td>9649</td>\n",
       "      <td>1eb04bf0-db7e-0133-61f5-0a81e8b09a82</td>\n",
       "      <td>1</td>\n",
       "    </tr>\n",
       "    <tr>\n",
       "      <th>gender</th>\n",
       "      <td>9649</td>\n",
       "      <td>2</td>\n",
       "      <td>male</td>\n",
       "      <td>5094</td>\n",
       "    </tr>\n",
       "    <tr>\n",
       "      <th>rural</th>\n",
       "      <td>9649</td>\n",
       "      <td>2</td>\n",
       "      <td>urban</td>\n",
       "      <td>6878</td>\n",
       "    </tr>\n",
       "    <tr>\n",
       "      <th>dem_education_level</th>\n",
       "      <td>8986</td>\n",
       "      <td>4</td>\n",
       "      <td>medium</td>\n",
       "      <td>3578</td>\n",
       "    </tr>\n",
       "    <tr>\n",
       "      <th>dem_full_time_job</th>\n",
       "      <td>9649</td>\n",
       "      <td>2</td>\n",
       "      <td>yes</td>\n",
       "      <td>5702</td>\n",
       "    </tr>\n",
       "    <tr>\n",
       "      <th>dem_has_children</th>\n",
       "      <td>9649</td>\n",
       "      <td>2</td>\n",
       "      <td>yes</td>\n",
       "      <td>5049</td>\n",
       "    </tr>\n",
       "    <tr>\n",
       "      <th>question_bbi_2016wave4_basicincome_awareness</th>\n",
       "      <td>9649</td>\n",
       "      <td>4</td>\n",
       "      <td>I know something about it</td>\n",
       "      <td>3389</td>\n",
       "    </tr>\n",
       "    <tr>\n",
       "      <th>question_bbi_2016wave4_basicincome_vote</th>\n",
       "      <td>9649</td>\n",
       "      <td>5</td>\n",
       "      <td>I would probably vote for it</td>\n",
       "      <td>3272</td>\n",
       "    </tr>\n",
       "    <tr>\n",
       "      <th>question_bbi_2016wave4_basicincome_effect</th>\n",
       "      <td>9649</td>\n",
       "      <td>9</td>\n",
       "      <td>A basic income would not affect my work choices</td>\n",
       "      <td>3349</td>\n",
       "    </tr>\n",
       "    <tr>\n",
       "      <th>question_bbi_2016wave4_basicincome_argumentsfor</th>\n",
       "      <td>9649</td>\n",
       "      <td>674</td>\n",
       "      <td>None of the above</td>\n",
       "      <td>2163</td>\n",
       "    </tr>\n",
       "    <tr>\n",
       "      <th>question_bbi_2016wave4_basicincome_argumentsagainst</th>\n",
       "      <td>9649</td>\n",
       "      <td>881</td>\n",
       "      <td>None of the above</td>\n",
       "      <td>1381</td>\n",
       "    </tr>\n",
       "    <tr>\n",
       "      <th>age_group</th>\n",
       "      <td>9649</td>\n",
       "      <td>3</td>\n",
       "      <td>40_65</td>\n",
       "      <td>4896</td>\n",
       "    </tr>\n",
       "    <tr>\n",
       "      <th>weight</th>\n",
       "      <td>9649</td>\n",
       "      <td>854</td>\n",
       "      <td>0.8507042634</td>\n",
       "      <td>116</td>\n",
       "    </tr>\n",
       "  </tbody>\n",
       "</table>\n",
       "</div>"
      ],
      "text/plain": [
       "                                                   count unique  \\\n",
       "country_code                                        9649     28   \n",
       "uuid                                                9649   9649   \n",
       "gender                                              9649      2   \n",
       "rural                                               9649      2   \n",
       "dem_education_level                                 8986      4   \n",
       "dem_full_time_job                                   9649      2   \n",
       "dem_has_children                                    9649      2   \n",
       "question_bbi_2016wave4_basicincome_awareness        9649      4   \n",
       "question_bbi_2016wave4_basicincome_vote             9649      5   \n",
       "question_bbi_2016wave4_basicincome_effect           9649      9   \n",
       "question_bbi_2016wave4_basicincome_argumentsfor     9649    674   \n",
       "question_bbi_2016wave4_basicincome_argumentsaga...  9649    881   \n",
       "age_group                                           9649      3   \n",
       "weight                                              9649    854   \n",
       "\n",
       "                                                                                                top  \\\n",
       "country_code                                                                                     DE   \n",
       "uuid                                                           1eb04bf0-db7e-0133-61f5-0a81e8b09a82   \n",
       "gender                                                                                         male   \n",
       "rural                                                                                         urban   \n",
       "dem_education_level                                                                          medium   \n",
       "dem_full_time_job                                                                               yes   \n",
       "dem_has_children                                                                                yes   \n",
       "question_bbi_2016wave4_basicincome_awareness                              I know something about it   \n",
       "question_bbi_2016wave4_basicincome_vote                                I would probably vote for it   \n",
       "question_bbi_2016wave4_basicincome_effect           A basic income would not affect my work choices   \n",
       "question_bbi_2016wave4_basicincome_argumentsfor                                   None of the above   \n",
       "question_bbi_2016wave4_basicincome_argumentsaga...                                None of the above   \n",
       "age_group                                                                                     40_65   \n",
       "weight                                                                                 0.8507042634   \n",
       "\n",
       "                                                    freq  \n",
       "country_code                                        1420  \n",
       "uuid                                                   1  \n",
       "gender                                              5094  \n",
       "rural                                               6878  \n",
       "dem_education_level                                 3578  \n",
       "dem_full_time_job                                   5702  \n",
       "dem_has_children                                    5049  \n",
       "question_bbi_2016wave4_basicincome_awareness        3389  \n",
       "question_bbi_2016wave4_basicincome_vote             3272  \n",
       "question_bbi_2016wave4_basicincome_effect           3349  \n",
       "question_bbi_2016wave4_basicincome_argumentsfor     2163  \n",
       "question_bbi_2016wave4_basicincome_argumentsaga...  1381  \n",
       "age_group                                           4896  \n",
       "weight                                               116  "
      ]
     },
     "execution_count": 5,
     "metadata": {},
     "output_type": "execute_result"
    }
   ],
   "source": [
    "# get an overview of all 14 object columns/features\n",
    "df.describe(include='object').T"
   ]
  },
  {
   "cell_type": "markdown",
   "metadata": {},
   "source": [
    "*Back to: <a href='#Table of contents'> Table of contents</a>*\n",
    "### 2. Preprocessing the data\n",
    "<a id='2. Preprocessing the data'></a>"
   ]
  },
  {
   "cell_type": "markdown",
   "metadata": {},
   "source": [
    "#### 2.1. Renaming columns \n",
    "<a id='2.1. Renaming columns'></a>"
   ]
  },
  {
   "cell_type": "markdown",
   "metadata": {},
   "source": [
    "The column labels are quite wordy. Let's change that:"
   ]
  },
  {
   "cell_type": "code",
   "execution_count": 6,
   "metadata": {},
   "outputs": [],
   "source": [
    "df.rename(columns = {'rural':'city_or_rural',\n",
    "                     'dem_education_level':'education',\n",
    "                     'dem_full_time_job':'full_time_job',\n",
    "                     'dem_has_children':'has_children',\n",
    "                     'question_bbi_2016wave4_basicincome_awareness':'awareness',\n",
    "                     'question_bbi_2016wave4_basicincome_vote':'vote',\n",
    "                     'question_bbi_2016wave4_basicincome_effect':'effect',\n",
    "                     'question_bbi_2016wave4_basicincome_argumentsfor':'arg_for',\n",
    "                     'question_bbi_2016wave4_basicincome_argumentsagainst':'arg_against'},\n",
    "          inplace=True)"
   ]
  },
  {
   "cell_type": "markdown",
   "metadata": {},
   "source": [
    "#### 2.2. Excluding unrelated data\n",
    "<a id='2.2. Excluding unrelated data'></a>"
   ]
  },
  {
   "cell_type": "markdown",
   "metadata": {},
   "source": [
    "Again, our target is to predict how people are likely to vote. Hence, features should be included only if they're suspected to be related to the target variable. Insofar as the goal of supervised classification is to predict the target, features that obviously have nothing to do with the target should be excluded.\n",
    "\n",
    "Both variables the \"uuid\" and the \"weight\" (given to obtain census representative results) are irrelevant for our classification task here. As we want to construct our own age groups later, we will drop the predefined age groups:"
   ]
  },
  {
   "cell_type": "code",
   "execution_count": 7,
   "metadata": {},
   "outputs": [],
   "source": [
    "df.drop(['uuid', 'weight', 'age_group'], axis=1, inplace=True)"
   ]
  },
  {
   "cell_type": "code",
   "execution_count": 8,
   "metadata": {},
   "outputs": [
    {
     "data": {
      "text/plain": [
       "(9649, 12)"
      ]
     },
     "execution_count": 8,
     "metadata": {},
     "output_type": "execute_result"
    }
   ],
   "source": [
    "# new number of rows and columns\n",
    "df.shape"
   ]
  },
  {
   "cell_type": "markdown",
   "metadata": {},
   "source": [
    "#### 2.3. Dealing with misleading data\n",
    "<a id='2.3. Dealing with misleading data'></a>"
   ]
  },
  {
   "cell_type": "markdown",
   "metadata": {},
   "source": [
    "All data make perfectly sense, there is nothing to correct."
   ]
  },
  {
   "cell_type": "markdown",
   "metadata": {},
   "source": [
    "#### 2.4. Dealing with missing data\n",
    "<a id='2.4. Dealing with missing data'></a>"
   ]
  },
  {
   "cell_type": "code",
   "execution_count": 9,
   "metadata": {
    "scrolled": false
   },
   "outputs": [
    {
     "data": {
      "text/plain": [
       "country_code       0\n",
       "age                0\n",
       "gender             0\n",
       "city_or_rural      0\n",
       "education        663\n",
       "full_time_job      0\n",
       "has_children       0\n",
       "awareness          0\n",
       "vote               0\n",
       "effect             0\n",
       "arg_for            0\n",
       "arg_against        0\n",
       "dtype: int64"
      ]
     },
     "execution_count": 9,
     "metadata": {},
     "output_type": "execute_result"
    }
   ],
   "source": [
    "# checking how much missing data we have in total\n",
    "df.isna().sum()"
   ]
  },
  {
   "cell_type": "markdown",
   "metadata": {},
   "source": [
    "We have missing data in one varibable: \"eduation\". How much is it in percentages?"
   ]
  },
  {
   "cell_type": "code",
   "execution_count": 10,
   "metadata": {},
   "outputs": [
    {
     "data": {
      "text/plain": [
       "0.069"
      ]
     },
     "execution_count": 10,
     "metadata": {},
     "output_type": "execute_result"
    }
   ],
   "source": [
    "# in percentage: 7%\n",
    "round(df['education'].isna().sum() / len(df), 3)"
   ]
  },
  {
   "cell_type": "markdown",
   "metadata": {},
   "source": [
    "As we talk about only 7& of missing values, dropping the observations with missing values is the easiest approach and reasonable:"
   ]
  },
  {
   "cell_type": "code",
   "execution_count": 11,
   "metadata": {},
   "outputs": [
    {
     "data": {
      "text/plain": [
       "0"
      ]
     },
     "execution_count": 11,
     "metadata": {},
     "output_type": "execute_result"
    }
   ],
   "source": [
    "df.dropna(axis=0, inplace=True)\n",
    "df.isna().sum().sum()"
   ]
  },
  {
   "cell_type": "code",
   "execution_count": 12,
   "metadata": {},
   "outputs": [
    {
     "data": {
      "text/plain": [
       "(8986, 12)"
      ]
     },
     "execution_count": 12,
     "metadata": {},
     "output_type": "execute_result"
    }
   ],
   "source": [
    "# new number of rows and columns\n",
    "df.shape"
   ]
  },
  {
   "cell_type": "markdown",
   "metadata": {},
   "source": [
    "#### 2.5. Dealing with duplicate data\n",
    "<a id='2.5. Dealing with duplicate data'></a>"
   ]
  },
  {
   "cell_type": "code",
   "execution_count": 13,
   "metadata": {},
   "outputs": [
    {
     "data": {
      "text/plain": [
       "28"
      ]
     },
     "execution_count": 13,
     "metadata": {},
     "output_type": "execute_result"
    }
   ],
   "source": [
    "# check if there are any duplicates\n",
    "df.duplicated().sum()"
   ]
  },
  {
   "cell_type": "markdown",
   "metadata": {},
   "source": [
    "Indeed, we have some duplicates, so let's drop them:"
   ]
  },
  {
   "cell_type": "code",
   "execution_count": 14,
   "metadata": {},
   "outputs": [],
   "source": [
    "df.drop_duplicates(keep='first', inplace=True)"
   ]
  },
  {
   "cell_type": "code",
   "execution_count": 15,
   "metadata": {},
   "outputs": [
    {
     "data": {
      "text/plain": [
       "(8958, 12)"
      ]
     },
     "execution_count": 15,
     "metadata": {},
     "output_type": "execute_result"
    }
   ],
   "source": [
    "# final number of rows and columns\n",
    "df.shape"
   ]
  },
  {
   "cell_type": "markdown",
   "metadata": {},
   "source": [
    "#### 2.6. Basic feature extraction and engineering\n",
    "<a id='2.6. Basic feature extraction and engineering'></a>"
   ]
  },
  {
   "cell_type": "markdown",
   "metadata": {},
   "source": [
    "1. Someone who \"probably votes for\" the basic income, votes the same way, namely with \"yes\", as someone who \"votes for it\". The same holds for rejection. Our target first and foremost is to predict whether someone is for or against basic income, we're not so much interested in predicting someone who has no opinion and/or won't vote. So let's **simplify our target** and recode the answers and drop all records that won't take any clear action:"
   ]
  },
  {
   "cell_type": "code",
   "execution_count": 16,
   "metadata": {},
   "outputs": [],
   "source": [
    "# recode voting\n",
    "def vote_coding(row):\n",
    "    if row == 'I would vote for it' : return('for')\n",
    "    elif row == 'I would probably vote for it': return('for')\n",
    "    elif row == 'I would vote against it': return('against')\n",
    "    elif row == 'I would probably vote against it': return('against')\n",
    "    elif row == 'I would not vote': return('no_action')\n",
    "\n",
    "# apply function\n",
    "df['vote'] = df['vote'].apply(vote_coding)"
   ]
  },
  {
   "cell_type": "code",
   "execution_count": 17,
   "metadata": {},
   "outputs": [],
   "source": [
    "# drop all records who are not \"for\" or \"against\"\n",
    "df = df.query(\"vote != 'no_action'\")"
   ]
  },
  {
   "cell_type": "code",
   "execution_count": 18,
   "metadata": {},
   "outputs": [
    {
     "data": {
      "text/plain": [
       "for        0.715629\n",
       "against    0.284371\n",
       "Name: vote, dtype: float64"
      ]
     },
     "execution_count": 18,
     "metadata": {},
     "output_type": "execute_result"
    }
   ],
   "source": [
    "df.vote.value_counts(normalize=True)"
   ]
  },
  {
   "cell_type": "markdown",
   "metadata": {},
   "source": [
    "2. Another two columns, **\"awareness\" and \"effect\"**, contain whole sentences that need to be shortened to one word to then be ultimately ready for being processed later:"
   ]
  },
  {
   "cell_type": "code",
   "execution_count": 19,
   "metadata": {},
   "outputs": [],
   "source": [
    "def awareness_coding(row):\n",
    "    if row == 'I understand it fully': return('fully')\n",
    "    elif row == 'I know something about it': return('something')\n",
    "    elif row == 'I have heard just a little about it': return('little')\n",
    "    elif row == 'I have never heard of it': return('nothing')\n",
    "\n",
    "df['awareness'] = df['awareness'].apply(awareness_coding)"
   ]
  },
  {
   "cell_type": "code",
   "execution_count": 20,
   "metadata": {},
   "outputs": [],
   "source": [
    "def effect_coding(row):\n",
    "    if row == '‰Û_ stop working': return('stop_working')\n",
    "    elif row == '‰Û_ work less': return('work_less')\n",
    "    elif row == '‰Û_ do more volunteering work': return('volunteering_work')\n",
    "    elif row == '‰Û_ spend more time with my family': return('more_family_time')\n",
    "    elif row == '‰Û_ look for a different job': return('different_job')\n",
    "    elif row == '‰Û_ work as a freelancer': return('freelancer')\n",
    "    elif row == '‰Û_ gain additional skills': return('additional_skills')\n",
    "    elif row == 'A basic income would not affect my work choices': return('no_effect')\n",
    "    else: return('none_of_the_above')\n",
    "    \n",
    "df['effect'] = df['effect'].apply(effect_coding).astype(str)"
   ]
  },
  {
   "cell_type": "markdown",
   "metadata": {},
   "source": [
    "3. Next, let's build **new age groups** and then drop the numeric \"age\" column:"
   ]
  },
  {
   "cell_type": "code",
   "execution_count": 21,
   "metadata": {},
   "outputs": [],
   "source": [
    "def age_groups(row):\n",
    "    if (row >= 14) & (row < 20): return('Teens')\n",
    "    elif (row >= 20) & (row < 30): return('Twenties')\n",
    "    elif (row >= 30) & (row < 40): return('Thirties')\n",
    "    elif (row >= 40) & (row < 50): return('Forties')\n",
    "    elif (row >= 50) & (row < 60): return('Fivties')\n",
    "    else: return('Sixties')\n",
    "    \n",
    "df['age_group'] = df['age'].apply(age_groups)\n",
    "df.drop(['age'], axis=1, inplace=True)"
   ]
  },
  {
   "cell_type": "markdown",
   "metadata": {},
   "source": [
    "4. Lastly, let's extract the **two most mentioned arguments for and against a basic income** and build new columns with boolean values:"
   ]
  },
  {
   "cell_type": "code",
   "execution_count": 22,
   "metadata": {},
   "outputs": [
    {
     "data": {
      "image/png": "[encoded data removed]",
      "text/plain": [
       "<Figure size 720x432 with 1 Axes>"
      ]
     },
     "metadata": {
      "needs_background": "light"
     },
     "output_type": "display_data"
    }
   ],
   "source": [
    "arg_for = ['It reduces anxiety about financing basic needs',\n",
    "           'It creates more equality of opportunity',\n",
    "           'It encourages financial independence and self-responsibility',\n",
    "           'It increases solidarity, because it is funded by everyone',\n",
    "           'It reduces bureaucracy and administrative expenses',\n",
    "           'It increases appreciation for household work and volunteering',\n",
    "           'None of the above']\n",
    "\n",
    "# count all arguments\n",
    "counter = [0,0,0,0,0,0,0]\n",
    "\n",
    "for row in df.iterrows():\n",
    "    for i in range(0, len(arg_for)):\n",
    "        if arg_for[i] in row[1]['arg_for'].split('|'):\n",
    "            counter[i] = counter[i] + 1\n",
    "\n",
    "# create a new dictionary \n",
    "dict_keys = ['less anxiety', 'more equality', 'financial independance', \n",
    "             'more solidarity', 'less bureaucracy', 'appreciates volunteering', 'none']\n",
    "\n",
    "arg_dict = {}\n",
    "\n",
    "for i in range(0, len(arg_for)):\n",
    "    arg_dict[dict_keys[i]] = counter[i]\n",
    "\n",
    "# sub-df for counted arguments\n",
    "sub_df = pd.DataFrame(list(arg_dict.items()), columns=['Arguments PRO basic income', 'count'])\n",
    "\n",
    "# plotting\n",
    "sub_df.sort_values(by=['count'], ascending=True).plot(kind='barh', x='Arguments PRO basic income', y='count',  \n",
    "                                                      figsize=(10,6), legend=False,\n",
    "                                                      title='Arguments PRO basic income')\n",
    "plt.xlabel('Count'); "
   ]
  },
  {
   "cell_type": "code",
   "execution_count": 23,
   "metadata": {},
   "outputs": [],
   "source": [
    "df['anxiety'] = df['arg_for'].str.contains('anxiety')\n",
    "df['equality'] = df['arg_for'].str.contains('equality')"
   ]
  },
  {
   "cell_type": "code",
   "execution_count": 24,
   "metadata": {},
   "outputs": [
    {
     "data": {
      "image/png": "[encoded data removed]",
      "text/plain": [
       "<Figure size 720x432 with 1 Axes>"
      ]
     },
     "metadata": {
      "needs_background": "light"
     },
     "output_type": "display_data"
    }
   ],
   "source": [
    "arg_against = ['It is impossible to finance', 'It might encourage people to stop working',\n",
    "               'Foreigners might come to my country and take advantage of the benefit',\n",
    "               'It is against the principle of linking merit and reward', \n",
    "               'Only the people who need it most should get something from the state',\n",
    "               'It increases dependence on the state', 'None of the above']\n",
    "\n",
    "# count all arguments\n",
    "counter = [0,0,0,0,0,0,0]\n",
    "\n",
    "for row in df.iterrows():\n",
    "    for i in range(0, len(arg_against)):\n",
    "        if arg_against[i] in row[1]['arg_against'].split('|'):\n",
    "            counter[i] = counter[i] + 1\n",
    "\n",
    "# create a new dictionary \n",
    "dict_keys = ['impossible to finance', 'people stop working', 'foreigners take advantage', \n",
    "             'against meritocracy', 'only for people in need', 'more dependence on state', 'none']\n",
    "\n",
    "arg_dict = {}\n",
    "\n",
    "for i in range(0, len(arg_against)):\n",
    "    arg_dict[dict_keys[i]] = counter[i]\n",
    "\n",
    "# sub-df for counted arguments\n",
    "sub_df = pd.DataFrame(list(arg_dict.items()), columns=['Arguments AGAINST basic income', 'count'])\n",
    "\n",
    "# plotting\n",
    "sub_df.sort_values(by=['count'], ascending=True).plot(kind='barh', x='Arguments AGAINST basic income', y='count',  \n",
    "                                                      figsize=(10,6), legend=False,\n",
    "                                                      title='Arguments AGAINST basic income')\n",
    "plt.xlabel('Count'); "
   ]
  },
  {
   "cell_type": "code",
   "execution_count": 25,
   "metadata": {},
   "outputs": [],
   "source": [
    "df['neediness'] = df['arg_against'].str.contains('need')\n",
    "df['laziness'] = df['arg_against'].str.contains('stop working')"
   ]
  },
  {
   "cell_type": "code",
   "execution_count": 26,
   "metadata": {},
   "outputs": [],
   "source": [
    "df.drop(['arg_for', 'arg_against'], axis=1, inplace=True)"
   ]
  },
  {
   "cell_type": "code",
   "execution_count": 27,
   "metadata": {},
   "outputs": [
    {
     "data": {
      "text/html": [
       "<div>\n",
       "<style scoped>\n",
       "    .dataframe tbody tr th:only-of-type {\n",
       "        vertical-align: middle;\n",
       "    }\n",
       "\n",
       "    .dataframe tbody tr th {\n",
       "        vertical-align: top;\n",
       "    }\n",
       "\n",
       "    .dataframe thead th {\n",
       "        text-align: right;\n",
       "    }\n",
       "</style>\n",
       "<table border=\"1\" class=\"dataframe\">\n",
       "  <thead>\n",
       "    <tr style=\"text-align: right;\">\n",
       "      <th></th>\n",
       "      <th>country_code</th>\n",
       "      <th>gender</th>\n",
       "      <th>city_or_rural</th>\n",
       "      <th>education</th>\n",
       "      <th>full_time_job</th>\n",
       "      <th>has_children</th>\n",
       "      <th>awareness</th>\n",
       "      <th>vote</th>\n",
       "      <th>effect</th>\n",
       "      <th>age_group</th>\n",
       "      <th>anxiety</th>\n",
       "      <th>equality</th>\n",
       "      <th>neediness</th>\n",
       "      <th>laziness</th>\n",
       "    </tr>\n",
       "  </thead>\n",
       "  <tbody>\n",
       "    <tr>\n",
       "      <th>1</th>\n",
       "      <td>AT</td>\n",
       "      <td>male</td>\n",
       "      <td>urban</td>\n",
       "      <td>high</td>\n",
       "      <td>yes</td>\n",
       "      <td>yes</td>\n",
       "      <td>fully</td>\n",
       "      <td>for</td>\n",
       "      <td>no_effect</td>\n",
       "      <td>Fivties</td>\n",
       "      <td>True</td>\n",
       "      <td>False</td>\n",
       "      <td>False</td>\n",
       "      <td>True</td>\n",
       "    </tr>\n",
       "    <tr>\n",
       "      <th>3</th>\n",
       "      <td>AT</td>\n",
       "      <td>male</td>\n",
       "      <td>rural</td>\n",
       "      <td>high</td>\n",
       "      <td>yes</td>\n",
       "      <td>yes</td>\n",
       "      <td>little</td>\n",
       "      <td>for</td>\n",
       "      <td>work_less</td>\n",
       "      <td>Forties</td>\n",
       "      <td>True</td>\n",
       "      <td>False</td>\n",
       "      <td>False</td>\n",
       "      <td>False</td>\n",
       "    </tr>\n",
       "    <tr>\n",
       "      <th>4</th>\n",
       "      <td>AT</td>\n",
       "      <td>female</td>\n",
       "      <td>urban</td>\n",
       "      <td>high</td>\n",
       "      <td>yes</td>\n",
       "      <td>yes</td>\n",
       "      <td>little</td>\n",
       "      <td>for</td>\n",
       "      <td>none_of_the_above</td>\n",
       "      <td>Forties</td>\n",
       "      <td>True</td>\n",
       "      <td>False</td>\n",
       "      <td>False</td>\n",
       "      <td>True</td>\n",
       "    </tr>\n",
       "    <tr>\n",
       "      <th>5</th>\n",
       "      <td>AT</td>\n",
       "      <td>female</td>\n",
       "      <td>rural</td>\n",
       "      <td>high</td>\n",
       "      <td>yes</td>\n",
       "      <td>no</td>\n",
       "      <td>fully</td>\n",
       "      <td>against</td>\n",
       "      <td>no_effect</td>\n",
       "      <td>Twenties</td>\n",
       "      <td>True</td>\n",
       "      <td>False</td>\n",
       "      <td>False</td>\n",
       "      <td>True</td>\n",
       "    </tr>\n",
       "    <tr>\n",
       "      <th>6</th>\n",
       "      <td>AT</td>\n",
       "      <td>female</td>\n",
       "      <td>urban</td>\n",
       "      <td>medium</td>\n",
       "      <td>no</td>\n",
       "      <td>no</td>\n",
       "      <td>something</td>\n",
       "      <td>for</td>\n",
       "      <td>freelancer</td>\n",
       "      <td>Twenties</td>\n",
       "      <td>True</td>\n",
       "      <td>False</td>\n",
       "      <td>False</td>\n",
       "      <td>True</td>\n",
       "    </tr>\n",
       "  </tbody>\n",
       "</table>\n",
       "</div>"
      ],
      "text/plain": [
       "  country_code  gender city_or_rural education full_time_job has_children  \\\n",
       "1           AT    male         urban      high           yes          yes   \n",
       "3           AT    male         rural      high           yes          yes   \n",
       "4           AT  female         urban      high           yes          yes   \n",
       "5           AT  female         rural      high           yes           no   \n",
       "6           AT  female         urban    medium            no           no   \n",
       "\n",
       "   awareness     vote             effect age_group  anxiety  equality  \\\n",
       "1      fully      for          no_effect   Fivties     True     False   \n",
       "3     little      for          work_less   Forties     True     False   \n",
       "4     little      for  none_of_the_above   Forties     True     False   \n",
       "5      fully  against          no_effect  Twenties     True     False   \n",
       "6  something      for         freelancer  Twenties     True     False   \n",
       "\n",
       "   neediness  laziness  \n",
       "1      False      True  \n",
       "3      False     False  \n",
       "4      False      True  \n",
       "5      False      True  \n",
       "6      False      True  "
      ]
     },
     "execution_count": 27,
     "metadata": {},
     "output_type": "execute_result"
    }
   ],
   "source": [
    "df.head()"
   ]
  },
  {
   "cell_type": "code",
   "execution_count": 28,
   "metadata": {},
   "outputs": [
    {
     "data": {
      "text/plain": [
       "(7979, 14)"
      ]
     },
     "execution_count": 28,
     "metadata": {},
     "output_type": "execute_result"
    }
   ],
   "source": [
    "df.shape"
   ]
  },
  {
   "cell_type": "markdown",
   "metadata": {},
   "source": [
    "*Back to: <a href='#Table of contents'> Table of contents</a>*\n",
    "### 3. Data visualization\n",
    "<a id='3. Data visualization'></a>"
   ]
  },
  {
   "cell_type": "markdown",
   "metadata": {},
   "source": [
    "Between preprocessing and model buildung lies the important step of data visualization. It serves as a sanity check of the features and target and may help explore the relationship between both, which will guide us in model building and assist us in our understanding of the model and predictions. The target is what we are asked to predict: either a \"yes\" to basic income or a \"no\" or indifference. \n",
    "\n",
    "**We should first examine the number of votes falling into each category.**"
   ]
  },
  {
   "cell_type": "code",
   "execution_count": 29,
   "metadata": {},
   "outputs": [
    {
     "data": {
      "image/png": "[encoded data removed]",
      "text/plain": [
       "<Figure size 576x288 with 1 Axes>"
      ]
     },
     "metadata": {
      "needs_background": "light"
     },
     "output_type": "display_data"
    }
   ],
   "source": [
    "df['vote'].value_counts(normalize=True).plot(kind='barh', figsize=(8,4), \n",
    "                                             color=['maroon','midnightblue']);"
   ]
  },
  {
   "cell_type": "markdown",
   "metadata": {},
   "source": [
    "By looking at the number of records we have for each class, we see that we have roughly 70% voting for a basic income vs. 30% against."
   ]
  },
  {
   "cell_type": "markdown",
   "metadata": {},
   "source": [
    "#### 3.1. Mosaic Plots\n",
    "<a id='3.1. Mosaic Plots'></a>"
   ]
  },
  {
   "cell_type": "code",
   "execution_count": 30,
   "metadata": {},
   "outputs": [
    {
     "data": {
      "image/png": "[encoded data removed]",
      "text/plain": [
       "<Figure size 432x288 with 3 Axes>"
      ]
     },
     "metadata": {
      "needs_background": "light"
     },
     "output_type": "display_data"
    }
   ],
   "source": [
    "from statsmodels.graphics.mosaicplot import mosaic\n",
    "\n",
    "mosaic(df, ['gender', 'vote'], gap=0.015, title='Vote vs. Gender - Mosaic Chart');"
   ]
  },
  {
   "cell_type": "code",
   "execution_count": 31,
   "metadata": {},
   "outputs": [
    {
     "data": {
      "image/png": "[encoded data removed]",
      "text/plain": [
       "<Figure size 432x288 with 3 Axes>"
      ]
     },
     "metadata": {
      "needs_background": "light"
     },
     "output_type": "display_data"
    }
   ],
   "source": [
    "mosaic(df, ['city_or_rural', 'vote'], gap=0.015, title='Vote vs. Area - Mosaic Chart');"
   ]
  },
  {
   "cell_type": "code",
   "execution_count": 32,
   "metadata": {},
   "outputs": [
    {
     "data": {
      "image/png": "[encoded data removed]",
      "text/plain": [
       "<Figure size 432x288 with 3 Axes>"
      ]
     },
     "metadata": {
      "needs_background": "light"
     },
     "output_type": "display_data"
    }
   ],
   "source": [
    "mosaic(df, ['full_time_job', 'vote'], gap=0.015, \n",
    "       title='Vote vs. Having a Full Time Job or not - Mosaic Chart');"
   ]
  },
  {
   "cell_type": "code",
   "execution_count": 33,
   "metadata": {},
   "outputs": [
    {
     "data": {
      "image/png": "[encoded data removed]",
      "text/plain": [
       "<Figure size 432x288 with 3 Axes>"
      ]
     },
     "metadata": {
      "needs_background": "light"
     },
     "output_type": "display_data"
    }
   ],
   "source": [
    "mosaic(df, ['has_children', 'vote'], gap=0.015, \n",
    "       title='Vote vs. Having children or not - Mosaic Chart');"
   ]
  },
  {
   "cell_type": "markdown",
   "metadata": {},
   "source": [
    "#### 3.2. Bar Charts\n",
    "<a id='3.2. Bar Charts'></a>"
   ]
  },
  {
   "cell_type": "markdown",
   "metadata": {},
   "source": [
    "##### Vote and Full Time Job"
   ]
  },
  {
   "cell_type": "code",
   "execution_count": 34,
   "metadata": {},
   "outputs": [
    {
     "data": {
      "image/png": "[encoded data removed]",
      "text/plain": [
       "<Figure size 504x288 with 1 Axes>"
      ]
     },
     "metadata": {
      "needs_background": "light"
     },
     "output_type": "display_data"
    }
   ],
   "source": [
    "# Votes depending on having a full-time-job\n",
    "\n",
    "sub_df = df.groupby('full_time_job')['vote'].value_counts(normalize=True).unstack()\n",
    "sub_df.plot(kind='bar', color=['midnightblue', 'maroon'], figsize=(7,4))\n",
    "plt.xlabel(\"Full Time Job\")\n",
    "plt.xticks(rotation=0)\n",
    "plt.ylabel(\"Percentage of Voters\\n\")\n",
    "plt.title('\\nVote depending on having a full-time-job\\n', fontsize=14, fontweight='bold')\n",
    "plt.legend(bbox_to_anchor=(1.2, 1.0), title='Vote');"
   ]
  },
  {
   "cell_type": "code",
   "execution_count": 35,
   "metadata": {},
   "outputs": [
    {
     "data": {
      "image/png": "[encoded data removed]",
      "text/plain": [
       "<Figure size 1008x360 with 2 Axes>"
      ]
     },
     "metadata": {
      "needs_background": "light"
     },
     "output_type": "display_data"
    }
   ],
   "source": [
    "# Votes in GERMANY and GREECE - depending on having a full-time-job\n",
    "\n",
    "fig, (ax1, ax2) = plt.subplots(1, 2, figsize=(14,5))\n",
    "\n",
    "# creating sub-df for Germany\n",
    "sub_df_1 = df[df['country_code']=='DE'].groupby('full_time_job')['vote'].value_counts(normalize=True).unstack()\n",
    "sub_df_1.plot(kind='bar', color = ['midnightblue', 'maroon'], ax=ax1, legend=False)\n",
    "ax1.set_title('\\nVotes in GERMANY depending on having a full-time-job\\n', fontsize=14, fontweight='bold')\n",
    "ax1.set_xlabel(\"Full Time Job\")\n",
    "ax1.set_xticklabels(labels=['No', 'Yes'], rotation=0)\n",
    "ax1.set_ylabel(\"Percentage of Voters\\n\")\n",
    "\n",
    "# creating sub-df for Greece\n",
    "sub_df_2 = df[df['country_code']=='GR'].groupby('full_time_job')['vote'].value_counts(normalize=True).unstack()\n",
    "sub_df_2.plot(kind='bar', color = ['midnightblue', 'maroon'], ax=ax2, legend=False)\n",
    "ax2.set_title('\\nVotes in GREECE depending on having a full-time-job\\n', fontsize=14, fontweight='bold')\n",
    "ax2.set_xlabel(\"Full Time Job\")\n",
    "ax2.set_xticklabels(labels=['No', 'Yes'], rotation=0)\n",
    "ax2.set_ylabel(\"Percentage of Voters\\n\")\n",
    "\n",
    "# create one legend\n",
    "handles, labels = ax2.get_legend_handles_labels()\n",
    "fig.legend(handles, labels, bbox_to_anchor=(0.84, 0.85))\n",
    "plt.show();"
   ]
  },
  {
   "cell_type": "markdown",
   "metadata": {},
   "source": [
    "##### Vote and Education Level"
   ]
  },
  {
   "cell_type": "code",
   "execution_count": 36,
   "metadata": {},
   "outputs": [
    {
     "data": {
      "image/png": "[encoded data removed]",
      "text/plain": [
       "<Figure size 864x360 with 1 Axes>"
      ]
     },
     "metadata": {
      "needs_background": "light"
     },
     "output_type": "display_data"
    }
   ],
   "source": [
    "# Plotting vote depending on education level\n",
    "\n",
    "sub_df = df.groupby('education')['vote'].value_counts(normalize=True).unstack()\n",
    "sub_df.plot(kind='bar', color = ['midnightblue','maroon'], figsize=(12,5))\n",
    "plt.xlabel(\"Education Level\")\n",
    "plt.xticks(rotation=0)\n",
    "plt.ylabel(\"Percentage of Voters\\n\")\n",
    "plt.title('\\nVote depending on education level\\n', fontsize=14, fontweight='bold')\n",
    "plt.legend(bbox_to_anchor=(1.15, 1), title='Vote');"
   ]
  },
  {
   "cell_type": "code",
   "execution_count": 37,
   "metadata": {},
   "outputs": [
    {
     "data": {
      "image/png": "[encoded data removed]",
      "text/plain": [
       "<Figure size 1008x360 with 2 Axes>"
      ]
     },
     "metadata": {
      "needs_background": "light"
     },
     "output_type": "display_data"
    }
   ],
   "source": [
    "# Plotting votes in GERMANY and GREECE - depending on education level\n",
    "\n",
    "fig, (ax1, ax2) = plt.subplots(1, 2, figsize=(14,5))\n",
    "\n",
    "# creating sub-df for Germany\n",
    "sub_df_1 = df[df['country_code']=='DE'].groupby('education')['vote'].value_counts(normalize=True).unstack()\n",
    "sub_df_1.plot(kind='bar', color = ['midnightblue', 'maroon'], ax=ax1, legend=False)\n",
    "ax1.set_title('\\nVotes in GERMANY depending on education level\\n', fontsize=14, fontweight='bold')\n",
    "ax1.set_xlabel(\"Education Level\")\n",
    "ax1.set_xticklabels(labels=['High', 'Low', 'Medium', 'No'], rotation=0)\n",
    "ax1.set_ylabel(\"Percentage of Voters\\n\")\n",
    "\n",
    "# creating df for Greece\n",
    "sub_df_2 = df[df['country_code']=='GR'].groupby('education')['vote'].value_counts(normalize=True).unstack()\n",
    "sub_df_2.plot(kind='bar', color = ['midnightblue', 'maroon'], ax=ax2, legend=False)\n",
    "ax2.set_title('\\nVotes in GREECE depending on education level\\n', fontsize=14, fontweight='bold')\n",
    "ax2.set_xlabel(\"Education Level\")\n",
    "ax2.set_xticklabels(labels=['High', 'Low', 'Medium', 'No'], rotation=0)\n",
    "\n",
    "# create one legend\n",
    "handles, labels = ax2.get_legend_handles_labels()\n",
    "fig.legend(handles, labels, bbox_to_anchor=(0.83, 0.85))\n",
    "plt.show();"
   ]
  },
  {
   "cell_type": "code",
   "execution_count": 38,
   "metadata": {
    "scrolled": false
   },
   "outputs": [
    {
     "data": {
      "image/png": "[encoded data removed]",
      "text/plain": [
       "<Figure size 1152x864 with 4 Axes>"
      ]
     },
     "metadata": {
      "needs_background": "light"
     },
     "output_type": "display_data"
    }
   ],
   "source": [
    "# Plotting votes in 4 countries - depending on education level\n",
    "\n",
    "fig, ((ax1, ax2), (ax3, ax4)) = plt.subplots(2, 2, figsize=(16,12))\n",
    "\n",
    "# creating sub-df for Germany\n",
    "sub_df_1 = df[df['country_code']=='DE'].groupby('education')['vote'].value_counts(normalize=True).unstack()\n",
    "sub_df_1.plot(kind='bar', color = ['midnightblue', 'maroon'], ax=ax1, legend=False)\n",
    "ax1.set_title('\\nVotes in GERMANY depending on education level\\n', fontsize=14, fontweight='bold')\n",
    "ax1.set_xlabel(\"Education Level\")\n",
    "ax1.set_xticklabels(labels=['High', 'Low', 'Medium', 'No'], rotation=0)\n",
    "ax1.set_ylabel(\"Percentage of Voters\\n\")\n",
    "\n",
    "# creating sub-df for France\n",
    "sub_df_2 = df[df['country_code']=='FR'].groupby('education')['vote'].value_counts(normalize=True).unstack()\n",
    "sub_df_2.plot(kind='bar', color = ['midnightblue', 'maroon'], ax=ax2, legend=False)\n",
    "ax2.set_title('\\nVotes in France depending on education level\\n', fontsize=14, fontweight='bold')\n",
    "ax2.set_xlabel(\"Education Level\")\n",
    "ax2.set_xticklabels(labels=['High', 'Low', 'Medium', 'No'], rotation=0)\n",
    "ax2.set_ylabel(\"Percentage of Voters\\n\")\n",
    "\n",
    "# creating sub-df for Italy\n",
    "sub_df_3 = df[df['country_code']=='IT'].groupby('education')['vote'].value_counts(normalize=True).unstack()\n",
    "sub_df_3.plot(kind='bar', color = ['midnightblue', 'maroon'], ax=ax3, legend=False)\n",
    "ax3.set_title('\\nVotes in Italy depending on education level\\n', fontsize=14, fontweight='bold')\n",
    "ax3.set_xlabel(\"Education Level\")\n",
    "ax3.set_xticklabels(labels=['High', 'Low', 'Medium', 'No'], rotation=0)\n",
    "\n",
    "# creating sub-df for Slovakia\n",
    "sub_df_4 = df[df['country_code']=='SK'].groupby('education')['vote'].value_counts(normalize=True).unstack()\n",
    "sub_df_4.plot(kind='bar', color = ['midnightblue', 'maroon'], ax=ax4, legend=False)\n",
    "ax4.set_title('\\nVotes in Slovakia depending on education level\\n', fontsize=14, fontweight='bold')\n",
    "ax4.set_xlabel(\"Education Level\")\n",
    "ax4.set_xticklabels(labels=['High', 'Low', 'Medium', 'No'], rotation=0)\n",
    "\n",
    "# create only one legend\n",
    "handles, labels = ax2.get_legend_handles_labels()\n",
    "fig.legend(handles, labels, bbox_to_anchor=(1.0, 0.95))\n",
    "plt.tight_layout()\n",
    "plt.show();"
   ]
  },
  {
   "cell_type": "markdown",
   "metadata": {},
   "source": [
    "##### Vote and Awareness"
   ]
  },
  {
   "cell_type": "code",
   "execution_count": 39,
   "metadata": {},
   "outputs": [
    {
     "data": {
      "image/png": "[encoded data removed]",
      "text/plain": [
       "<Figure size 504x288 with 1 Axes>"
      ]
     },
     "metadata": {
      "needs_background": "light"
     },
     "output_type": "display_data"
    }
   ],
   "source": [
    "# Votes depending on awareness\n",
    "\n",
    "sub_df = df.groupby('awareness')['vote'].value_counts(normalize=True).unstack()\n",
    "sub_df.plot(kind='bar', color=['midnightblue', 'maroon'], figsize=(7,4))\n",
    "plt.xlabel(\"Awareness\")\n",
    "plt.xticks(rotation=0)\n",
    "plt.ylabel(\"Percentage of Voters\\n\")\n",
    "plt.title('\\nVote depending on awareness\\n', fontsize=14, fontweight='bold')\n",
    "plt.legend(bbox_to_anchor=(1.2, 1.0), title='Vote');"
   ]
  },
  {
   "cell_type": "markdown",
   "metadata": {},
   "source": [
    "##### Vote and age group"
   ]
  },
  {
   "cell_type": "code",
   "execution_count": 40,
   "metadata": {},
   "outputs": [
    {
     "data": {
      "image/png": "[encoded data removed]",
      "text/plain": [
       "<Figure size 648x360 with 1 Axes>"
      ]
     },
     "metadata": {
      "needs_background": "light"
     },
     "output_type": "display_data"
    }
   ],
   "source": [
    "# Votes depending on age\n",
    "\n",
    "sub_df = df.groupby('age_group')['vote'].value_counts(normalize=True).unstack()\n",
    "sub_df.plot(kind='bar', color=['midnightblue', 'maroon'], figsize=(9,5))\n",
    "plt.xlabel(\"Age Group\")\n",
    "plt.xticks(rotation=0)\n",
    "plt.ylabel(\"Percentage of Voters\\n\")\n",
    "plt.title('\\nVote depending on age\\n', fontsize=14, fontweight='bold')\n",
    "plt.legend(bbox_to_anchor=(1.2, 1.0), title='Vote');"
   ]
  },
  {
   "cell_type": "markdown",
   "metadata": {},
   "source": [
    "##### Vote and expected effect"
   ]
  },
  {
   "cell_type": "code",
   "execution_count": 93,
   "metadata": {},
   "outputs": [
    {
     "data": {
      "image/png": "[encoded data removed]",
      "text/plain": [
       "<Figure size 1008x360 with 1 Axes>"
      ]
     },
     "metadata": {
      "needs_background": "light"
     },
     "output_type": "display_data"
    }
   ],
   "source": [
    "# Votes depending on effect\n",
    "\n",
    "sub_df = df.groupby('effect')['vote'].value_counts(normalize=True).unstack()\n",
    "sub_df.plot(kind='bar', color=['midnightblue', 'maroon'], figsize=(14,5))\n",
    "plt.xlabel(\"\\nEffect of Basic Income\")\n",
    "plt.xticks(rotation=0)\n",
    "plt.ylabel(\"Percentage of Voters\\n\")\n",
    "plt.title('\\nVote depending on effect\\n', fontsize=14, fontweight='bold')\n",
    "plt.legend(bbox_to_anchor=(1.1, 1.0), title='Vote');"
   ]
  },
  {
   "cell_type": "markdown",
   "metadata": {},
   "source": [
    "##### Vote and arguments"
   ]
  },
  {
   "cell_type": "code",
   "execution_count": 46,
   "metadata": {},
   "outputs": [
    {
     "data": {
      "image/png": "[encoded data removed]",
      "text/plain": [
       "<Figure size 1152x864 with 4 Axes>"
      ]
     },
     "metadata": {
      "needs_background": "light"
     },
     "output_type": "display_data"
    }
   ],
   "source": [
    "# Plotting votes in 4 countries - depending on education level\n",
    "\n",
    "fig, ((ax1, ax2), (ax3, ax4)) = plt.subplots(2, 2, figsize=(16,12))\n",
    "\n",
    "# creating sub-df for those who agree/disagree to the argument:\n",
    "# \"It reduces anxiety about financing basic needs\"\n",
    "sub_df_1 = df.groupby('anxiety')['vote'].value_counts(normalize=True).unstack()\n",
    "sub_df_1.plot(kind='bar', color = ['midnightblue', 'maroon'], ax=ax1, legend=False)\n",
    "ax1.set_title('\\nVotes depending on attitude towards reducing_anxiety\\n', fontsize=14, fontweight='bold')\n",
    "ax1.set_xlabel('\"It reduces anxiety about financing basic needs\"')\n",
    "ax1.set_xticklabels(labels=['False', 'True'], rotation=0)\n",
    "ax1.set_ylabel(\"Percentage of Voters\\n\")\n",
    "\n",
    "# creating sub-df for those who agree/disagree to the argument:\n",
    "# \"It creates more equality of opportunity\"\n",
    "sub_df_2 = df.groupby('equality')['vote'].value_counts(normalize=True).unstack()\n",
    "sub_df_2.plot(kind='bar', color = ['midnightblue', 'maroon'], ax=ax2, legend=False)\n",
    "ax2.set_title('\\nVotes depending on attitude towards more_equality\\n', fontsize=14, fontweight='bold')\n",
    "ax2.set_xlabel('\"It creates more equality of opportunity\"')\n",
    "ax2.set_xticklabels(labels=['False', 'True'], rotation=0)\n",
    "\n",
    "# creating sub-df for those who agree/disagree to the argument:\n",
    "# \"It might encourage people to stop working\"\n",
    "sub_df_3 = df.groupby('laziness')['vote'].value_counts(normalize=True).unstack()\n",
    "sub_df_3.plot(kind='bar', color = ['midnightblue', 'maroon'], ax=ax3, legend=False)\n",
    "ax3.set_title('\\nVotes depending on attitude towards people_stop_working\\n', fontsize=14, fontweight='bold')\n",
    "ax3.set_xlabel('\"It might encourage people to stop working\"')\n",
    "ax3.set_xticklabels(labels=['False', 'True'], rotation=0)\n",
    "ax3.set_ylabel(\"Percentage of Voters\\n\")\n",
    "\n",
    "# creating sub-df for those who agree/disagree to the argument:\n",
    "# \"Only the people who need it most should get something from the state\"\n",
    "sub_df_4 = df.groupby('neediness')['vote'].value_counts(normalize=True).unstack()\n",
    "sub_df_4.plot(kind='bar', color = ['midnightblue', 'maroon'], ax=ax4, legend=False)\n",
    "ax4.set_title('\\nVotes depending on attitude towards only_for_people_in_need\\n', fontsize=14, fontweight='bold')\n",
    "ax4.set_xlabel('\"Only the people who need it most should get something from the state\"')\n",
    "ax4.set_xticklabels(labels=['False', 'True'], rotation=0)\n",
    "\n",
    "# create only one legend\n",
    "handles, labels = ax2.get_legend_handles_labels()\n",
    "fig.legend(handles, labels, bbox_to_anchor=(1.0, 0.95))\n",
    "plt.tight_layout()\n",
    "plt.show();"
   ]
  },
  {
   "cell_type": "markdown",
   "metadata": {},
   "source": [
    "*Back to: <a href='#Table of contents'> Table of contents</a>*\n",
    "### 4. Machine Learning\n",
    "<a id='4. Machine Learning'></a>"
   ]
  },
  {
   "cell_type": "markdown",
   "metadata": {},
   "source": [
    "#### 4.1. Recoding categorical features\n",
    "<a id='4.1. Recoding categorical features'></a>"
   ]
  },
  {
   "cell_type": "markdown",
   "metadata": {},
   "source": [
    "Machine learning algorithms generally need all data - including categorical data - in numeric form. To satisfy them, categorical features are converted into separate binary features called dummy variables.\n",
    "Therefore, we have to find a way to represent these variables as numbers before handing them off to the model. \n",
    "There are two main ways to carry out this process:\n",
    "- Label encoding: Assigns each unique category in a categorical variable with an integer. No new columns are created.\n",
    "- One-hot encoding: Creates a new column for each unique category in a categorical variable. Each observation recieves a 1 in the column for its corresponding category and a 0 in all other new columns. \n",
    "\n",
    "There is some debate about the relative merits of these approaches. I think for categorical variables with many classes, one-hot encoding is the safest approach because it does not impose arbitrary values and orders to categories. The only downside to one-hot encoding is that the number of features (dimensions of the data) can explode with categorical variables with many categories. To deal with this, we can perform one-hot encoding followed by a dimensionality reduction methods like PCA to reduce the number of dimensions (while still trying to preserve information). **For one-hot encoding, we use the pandas get_dummies(df) function.**"
   ]
  },
  {
   "cell_type": "code",
   "execution_count": 94,
   "metadata": {},
   "outputs": [],
   "source": [
    "# Define our features \n",
    "features = df.drop([\"vote\"], axis=1)\n",
    "\n",
    "# Define our target\n",
    "target = df[[\"vote\"]]\n",
    "\n",
    "# create dummy variables\n",
    "features = pd.get_dummies(features)"
   ]
  },
  {
   "cell_type": "code",
   "execution_count": 95,
   "metadata": {},
   "outputs": [
    {
     "name": "stdout",
     "output_type": "stream",
     "text": [
      "(7979, 63)\n"
     ]
    },
    {
     "data": {
      "text/html": [
       "<div>\n",
       "<style scoped>\n",
       "    .dataframe tbody tr th:only-of-type {\n",
       "        vertical-align: middle;\n",
       "    }\n",
       "\n",
       "    .dataframe tbody tr th {\n",
       "        vertical-align: top;\n",
       "    }\n",
       "\n",
       "    .dataframe thead th {\n",
       "        text-align: right;\n",
       "    }\n",
       "</style>\n",
       "<table border=\"1\" class=\"dataframe\">\n",
       "  <thead>\n",
       "    <tr style=\"text-align: right;\">\n",
       "      <th></th>\n",
       "      <th>anxiety</th>\n",
       "      <th>equality</th>\n",
       "      <th>neediness</th>\n",
       "      <th>laziness</th>\n",
       "      <th>country_code_AT</th>\n",
       "      <th>country_code_BE</th>\n",
       "      <th>country_code_BG</th>\n",
       "      <th>country_code_CY</th>\n",
       "      <th>country_code_CZ</th>\n",
       "      <th>country_code_DE</th>\n",
       "      <th>...</th>\n",
       "      <th>effect_none_of_the_above</th>\n",
       "      <th>effect_stop_working</th>\n",
       "      <th>effect_volunteering_work</th>\n",
       "      <th>effect_work_less</th>\n",
       "      <th>age_group_Fivties</th>\n",
       "      <th>age_group_Forties</th>\n",
       "      <th>age_group_Sixties</th>\n",
       "      <th>age_group_Teens</th>\n",
       "      <th>age_group_Thirties</th>\n",
       "      <th>age_group_Twenties</th>\n",
       "    </tr>\n",
       "  </thead>\n",
       "  <tbody>\n",
       "    <tr>\n",
       "      <th>9647</th>\n",
       "      <td>True</td>\n",
       "      <td>True</td>\n",
       "      <td>False</td>\n",
       "      <td>False</td>\n",
       "      <td>0</td>\n",
       "      <td>0</td>\n",
       "      <td>0</td>\n",
       "      <td>0</td>\n",
       "      <td>0</td>\n",
       "      <td>0</td>\n",
       "      <td>...</td>\n",
       "      <td>0</td>\n",
       "      <td>0</td>\n",
       "      <td>0</td>\n",
       "      <td>0</td>\n",
       "      <td>0</td>\n",
       "      <td>1</td>\n",
       "      <td>0</td>\n",
       "      <td>0</td>\n",
       "      <td>0</td>\n",
       "      <td>0</td>\n",
       "    </tr>\n",
       "    <tr>\n",
       "      <th>9648</th>\n",
       "      <td>False</td>\n",
       "      <td>False</td>\n",
       "      <td>False</td>\n",
       "      <td>True</td>\n",
       "      <td>0</td>\n",
       "      <td>0</td>\n",
       "      <td>0</td>\n",
       "      <td>0</td>\n",
       "      <td>0</td>\n",
       "      <td>0</td>\n",
       "      <td>...</td>\n",
       "      <td>0</td>\n",
       "      <td>0</td>\n",
       "      <td>0</td>\n",
       "      <td>0</td>\n",
       "      <td>1</td>\n",
       "      <td>0</td>\n",
       "      <td>0</td>\n",
       "      <td>0</td>\n",
       "      <td>0</td>\n",
       "      <td>0</td>\n",
       "    </tr>\n",
       "  </tbody>\n",
       "</table>\n",
       "<p>2 rows × 63 columns</p>\n",
       "</div>"
      ],
      "text/plain": [
       "      anxiety  equality  neediness  laziness  country_code_AT  \\\n",
       "9647     True      True      False     False                0   \n",
       "9648    False     False      False      True                0   \n",
       "\n",
       "      country_code_BE  country_code_BG  country_code_CY  country_code_CZ  \\\n",
       "9647                0                0                0                0   \n",
       "9648                0                0                0                0   \n",
       "\n",
       "      country_code_DE         ...          effect_none_of_the_above  \\\n",
       "9647                0         ...                                 0   \n",
       "9648                0         ...                                 0   \n",
       "\n",
       "      effect_stop_working  effect_volunteering_work  effect_work_less  \\\n",
       "9647                    0                         0                 0   \n",
       "9648                    0                         0                 0   \n",
       "\n",
       "      age_group_Fivties  age_group_Forties  age_group_Sixties  \\\n",
       "9647                  0                  1                  0   \n",
       "9648                  1                  0                  0   \n",
       "\n",
       "      age_group_Teens  age_group_Thirties  age_group_Twenties  \n",
       "9647                0                   0                   0  \n",
       "9648                0                   0                   0  \n",
       "\n",
       "[2 rows x 63 columns]"
      ]
     },
     "execution_count": 95,
     "metadata": {},
     "output_type": "execute_result"
    }
   ],
   "source": [
    "print(features.shape)\n",
    "features.tail(2)"
   ]
  },
  {
   "cell_type": "code",
   "execution_count": 96,
   "metadata": {
    "scrolled": false
   },
   "outputs": [
    {
     "name": "stdout",
     "output_type": "stream",
     "text": [
      "(7979, 1)\n"
     ]
    },
    {
     "data": {
      "text/html": [
       "<div>\n",
       "<style scoped>\n",
       "    .dataframe tbody tr th:only-of-type {\n",
       "        vertical-align: middle;\n",
       "    }\n",
       "\n",
       "    .dataframe tbody tr th {\n",
       "        vertical-align: top;\n",
       "    }\n",
       "\n",
       "    .dataframe thead th {\n",
       "        text-align: right;\n",
       "    }\n",
       "</style>\n",
       "<table border=\"1\" class=\"dataframe\">\n",
       "  <thead>\n",
       "    <tr style=\"text-align: right;\">\n",
       "      <th></th>\n",
       "      <th>vote</th>\n",
       "    </tr>\n",
       "  </thead>\n",
       "  <tbody>\n",
       "    <tr>\n",
       "      <th>9647</th>\n",
       "      <td>for</td>\n",
       "    </tr>\n",
       "    <tr>\n",
       "      <th>9648</th>\n",
       "      <td>against</td>\n",
       "    </tr>\n",
       "  </tbody>\n",
       "</table>\n",
       "</div>"
      ],
      "text/plain": [
       "         vote\n",
       "9647      for\n",
       "9648  against"
      ]
     },
     "execution_count": 96,
     "metadata": {},
     "output_type": "execute_result"
    }
   ],
   "source": [
    "print(target.shape)\n",
    "target.tail(2)"
   ]
  },
  {
   "cell_type": "code",
   "execution_count": 97,
   "metadata": {},
   "outputs": [
    {
     "name": "stdout",
     "output_type": "stream",
     "text": [
      "(7979, 14)\n"
     ]
    },
    {
     "data": {
      "text/html": [
       "<div>\n",
       "<style scoped>\n",
       "    .dataframe tbody tr th:only-of-type {\n",
       "        vertical-align: middle;\n",
       "    }\n",
       "\n",
       "    .dataframe tbody tr th {\n",
       "        vertical-align: top;\n",
       "    }\n",
       "\n",
       "    .dataframe thead th {\n",
       "        text-align: right;\n",
       "    }\n",
       "</style>\n",
       "<table border=\"1\" class=\"dataframe\">\n",
       "  <thead>\n",
       "    <tr style=\"text-align: right;\">\n",
       "      <th></th>\n",
       "      <th>country_code</th>\n",
       "      <th>gender</th>\n",
       "      <th>city_or_rural</th>\n",
       "      <th>education</th>\n",
       "      <th>full_time_job</th>\n",
       "      <th>has_children</th>\n",
       "      <th>awareness</th>\n",
       "      <th>vote</th>\n",
       "      <th>effect</th>\n",
       "      <th>age_group</th>\n",
       "      <th>anxiety</th>\n",
       "      <th>equality</th>\n",
       "      <th>neediness</th>\n",
       "      <th>laziness</th>\n",
       "    </tr>\n",
       "  </thead>\n",
       "  <tbody>\n",
       "    <tr>\n",
       "      <th>9647</th>\n",
       "      <td>SK</td>\n",
       "      <td>male</td>\n",
       "      <td>urban</td>\n",
       "      <td>low</td>\n",
       "      <td>yes</td>\n",
       "      <td>yes</td>\n",
       "      <td>fully</td>\n",
       "      <td>for</td>\n",
       "      <td>no_effect</td>\n",
       "      <td>Forties</td>\n",
       "      <td>True</td>\n",
       "      <td>True</td>\n",
       "      <td>False</td>\n",
       "      <td>False</td>\n",
       "    </tr>\n",
       "    <tr>\n",
       "      <th>9648</th>\n",
       "      <td>SK</td>\n",
       "      <td>female</td>\n",
       "      <td>urban</td>\n",
       "      <td>high</td>\n",
       "      <td>yes</td>\n",
       "      <td>yes</td>\n",
       "      <td>fully</td>\n",
       "      <td>against</td>\n",
       "      <td>no_effect</td>\n",
       "      <td>Fivties</td>\n",
       "      <td>False</td>\n",
       "      <td>False</td>\n",
       "      <td>False</td>\n",
       "      <td>True</td>\n",
       "    </tr>\n",
       "  </tbody>\n",
       "</table>\n",
       "</div>"
      ],
      "text/plain": [
       "     country_code  gender city_or_rural education full_time_job has_children  \\\n",
       "9647           SK    male         urban       low           yes          yes   \n",
       "9648           SK  female         urban      high           yes          yes   \n",
       "\n",
       "     awareness     vote     effect age_group  anxiety  equality  neediness  \\\n",
       "9647     fully      for  no_effect   Forties     True      True      False   \n",
       "9648     fully  against  no_effect   Fivties    False     False      False   \n",
       "\n",
       "      laziness  \n",
       "9647     False  \n",
       "9648      True  "
      ]
     },
     "execution_count": 97,
     "metadata": {},
     "output_type": "execute_result"
    }
   ],
   "source": [
    "print(df.shape)\n",
    "df.tail(2)"
   ]
  },
  {
   "cell_type": "markdown",
   "metadata": {},
   "source": [
    "*Back to: <a href='#Table of contents'> Table of contents</a>*\n",
    "#### 4.2. Training a Logistic Regression\n",
    "<a id='4.2. Training a Logistic Regression'></a>"
   ]
  },
  {
   "cell_type": "markdown",
   "metadata": {},
   "source": [
    "When approaching a supervised learning problem like ours, we should always use multiple algorithms and compare the performances of the various models. Sometimes simplest is best, and so we will start by applying logistic regression. Logistic regression makes use of what's called the logistic function to calculate the odds that a given data point belongs to a given class. Once we have more models, we can compare them on a few performance metrics.\n",
    "\n",
    "Before we start, let's prepare our work and import all libraries we need for classifying our data:"
   ]
  },
  {
   "cell_type": "code",
   "execution_count": 98,
   "metadata": {},
   "outputs": [],
   "source": [
    "# Import train_test_split function\n",
    "from sklearn.model_selection import train_test_split\n",
    "\n",
    "# Import LogisticRegression\n",
    "from sklearn.linear_model import LogisticRegression\n",
    "\n",
    "# import metrics\n",
    "from sklearn.metrics import classification_report, accuracy_score, roc_auc_score\n",
    "\n",
    "# suppress all warnings\n",
    "import warnings\n",
    "warnings.filterwarnings(\"ignore\")"
   ]
  },
  {
   "cell_type": "code",
   "execution_count": 99,
   "metadata": {},
   "outputs": [],
   "source": [
    "# Split our data based on the PCA reduced feature set\n",
    "X_train, X_test, y_train, y_test = train_test_split(features, target, test_size=0.2)"
   ]
  },
  {
   "cell_type": "code",
   "execution_count": 100,
   "metadata": {},
   "outputs": [
    {
     "name": "stdout",
     "output_type": "stream",
     "text": [
      "Logistic Regression\n",
      "------------------------\n",
      "Training Accuracy: 77.38%\n",
      "Test Accuracy:     77.94%\n"
     ]
    }
   ],
   "source": [
    "# Instantiate the logistic regression\n",
    "logreg = LogisticRegression()\n",
    "\n",
    "# Train\n",
    "logreg.fit(X_train, y_train)\n",
    "\n",
    "# Predict\n",
    "train_preds = logreg.predict(X_train)\n",
    "test_preds = logreg.predict(X_test)\n",
    "\n",
    "# Evaluate\n",
    "train_accuracy_logreg = accuracy_score(y_train, train_preds)\n",
    "test_accuracy_logreg = accuracy_score(y_test, test_preds)\n",
    "report_logreg = classification_report(y_test, test_preds)\n",
    "\n",
    "print(\"Logistic Regression\")\n",
    "print(\"------------------------\")\n",
    "print(f\"Training Accuracy: {(train_accuracy_logreg * 100):.4}%\")\n",
    "print(f\"Test Accuracy:     {(test_accuracy_logreg * 100):.4}%\")\n",
    "\n",
    "# store accuracy in a new dataframe\n",
    "score_logreg = ['Logistic Regression', train_accuracy_logreg, test_accuracy_logreg]\n",
    "models = pd.DataFrame([score_logreg])"
   ]
  },
  {
   "cell_type": "markdown",
   "metadata": {},
   "source": [
    "#### 4.3. Training a Decision Tree\n",
    "<a id='4.3. Training a Decision Tree'></a>"
   ]
  },
  {
   "cell_type": "markdown",
   "metadata": {},
   "source": [
    "Next, we will be using a simple algorithm known as a decision tree. In addition to being easy to both use and interpret, decision trees allow us to visualize the *flowchart* that the model generates from the training data."
   ]
  },
  {
   "cell_type": "code",
   "execution_count": 101,
   "metadata": {},
   "outputs": [],
   "source": [
    "# Import decision tree classifier\n",
    "from sklearn.tree import DecisionTreeClassifier"
   ]
  },
  {
   "cell_type": "code",
   "execution_count": 102,
   "metadata": {},
   "outputs": [
    {
     "name": "stdout",
     "output_type": "stream",
     "text": [
      "Plain Decision Tree\n",
      "-------------------------\n",
      "Training Accuracy: 99.31%\n",
      "Test Accuracy:     67.54%\n"
     ]
    }
   ],
   "source": [
    "# Instantiate the plain classifier\n",
    "dt = DecisionTreeClassifier()\n",
    "\n",
    "# Train\n",
    "dt.fit(X_train, y_train)\n",
    "\n",
    "# Predict\n",
    "train_preds = dt.predict(X_train)\n",
    "test_preds = dt.predict(X_test)\n",
    "\n",
    "# Evaluate\n",
    "train_accuracy_dt = accuracy_score(y_train, train_preds)\n",
    "test_accuracy_dt = accuracy_score(y_test, test_preds)\n",
    "report_dt = classification_report(y_test, test_preds)\n",
    "\n",
    "print(\"Plain Decision Tree\")\n",
    "print(\"-------------------------\")\n",
    "print(f\"Training Accuracy: {(train_accuracy_dt * 100):.4}%\")\n",
    "print(f\"Test Accuracy:     {(test_accuracy_dt * 100):.4}%\")\n",
    "\n",
    "# append accuracy score to our dataframe\n",
    "score_dt = ['Plain Decision Tree', train_accuracy_dt, test_accuracy_dt]\n",
    "models = models.append([score_dt])"
   ]
  },
  {
   "cell_type": "markdown",
   "metadata": {},
   "source": [
    "The model performs extremely accurate on the training set and fails to do the same on the test data - clearly: overfitting!\n",
    "\n",
    "To balance our model, we can apply what's called cross-validation (CV). CV attempts to split the data multiple ways and test the model on each of the splits, iteratively using each subset as a test set while using the remainder of the data as train sets. Finally, we can then aggregate the results from each fold for a final model performance score. Moreover, let's try to tune the decision hyperparameters to gain a better performance. In a grid search we will try several different combinations of those.\n",
    "1. We print our the default parameters currently in use.\n",
    "2. We apply a grid search to look for the best parameters for our decision - evaluated from a range we predefined.\n",
    "3. We use those and run a new *tuned* decision tree with the found hyperparameters."
   ]
  },
  {
   "cell_type": "code",
   "execution_count": 56,
   "metadata": {},
   "outputs": [
    {
     "name": "stdout",
     "output_type": "stream",
     "text": [
      "Decision Tree Parameters currently in use:\n",
      "\n",
      "{'class_weight': None,\n",
      " 'criterion': 'gini',\n",
      " 'max_depth': None,\n",
      " 'max_features': None,\n",
      " 'max_leaf_nodes': None,\n",
      " 'min_impurity_decrease': 0.0,\n",
      " 'min_impurity_split': None,\n",
      " 'min_samples_leaf': 1,\n",
      " 'min_samples_split': 2,\n",
      " 'min_weight_fraction_leaf': 0.0,\n",
      " 'presort': False,\n",
      " 'random_state': None,\n",
      " 'splitter': 'best'}\n"
     ]
    }
   ],
   "source": [
    "from pprint import pprint\n",
    "print('Decision Tree Parameters currently in use:\\n')\n",
    "pprint(dt.get_params())"
   ]
  },
  {
   "cell_type": "code",
   "execution_count": 57,
   "metadata": {},
   "outputs": [
    {
     "name": "stdout",
     "output_type": "stream",
     "text": [
      "{'criterion': 'entropy', 'max_depth': 7, 'max_features': 15, 'min_samples_split': 4}\n"
     ]
    }
   ],
   "source": [
    "# import Grid Search\n",
    "from sklearn.model_selection import GridSearchCV\n",
    "\n",
    "# Create Grid              \n",
    "param_grid = {'criterion': ['gini', 'entropy'],\n",
    "              'max_features': [5, 10, 15],         \n",
    "              'max_depth': [3, 5, 7],\n",
    "              'min_samples_split': [4, 5, 6]}\n",
    "\n",
    "# Instantiate the tuned random forest\n",
    "dt_grid_search = GridSearchCV(dt, param_grid, cv=3)\n",
    "\n",
    "# Train the tuned random forest\n",
    "dt_grid_search.fit(X_train, y_train)\n",
    "\n",
    "# print best estimator parameters found during the grid search\n",
    "print(dt_grid_search.best_params_)"
   ]
  },
  {
   "cell_type": "code",
   "execution_count": 103,
   "metadata": {},
   "outputs": [
    {
     "name": "stdout",
     "output_type": "stream",
     "text": [
      "Tuned Decision Tree\n",
      "-------------------------\n",
      "Training Accuracy: 76.53%\n",
      "Test Accuracy:     76.0%\n"
     ]
    }
   ],
   "source": [
    "# Instantiate the tuned decision tree classifier\n",
    "dt_tuned = DecisionTreeClassifier(criterion='entropy', max_depth=7, \n",
    "                                  max_features=15, min_samples_split=4)\n",
    "\n",
    "# Train\n",
    "dt_tuned.fit(X_train, y_train)\n",
    "\n",
    "# Predict\n",
    "train_preds = dt_tuned.predict(X_train)\n",
    "test_preds = dt_tuned.predict(X_test)\n",
    "\n",
    "# Evaluate\n",
    "train_accuracy_dt_tuned = accuracy_score(y_train, train_preds)\n",
    "test_accuracy_dt_tuned = accuracy_score(y_test, test_preds)\n",
    "report_dt_tuned = classification_report(y_test, test_preds)\n",
    "\n",
    "print(\"Tuned Decision Tree\")\n",
    "print(\"-------------------------\")\n",
    "print(f\"Training Accuracy: {(train_accuracy_dt_tuned * 100):.4}%\")\n",
    "print(f\"Test Accuracy:     {(test_accuracy_dt_tuned * 100):.4}%\")\n",
    "\n",
    "# append accuracy score to our dataframe\n",
    "score_dt_tuned = ['Tuned Decision Tree', train_accuracy_dt_tuned, test_accuracy_dt_tuned]\n",
    "models = models.append([score_dt_tuned])"
   ]
  },
  {
   "cell_type": "markdown",
   "metadata": {},
   "source": [
    "Although our tree's performance is decent, it's a bad idea to immediately assume that it's therefore the perfect tool for this job -- there's always the possibility of other models that will perform even better! It's always a worthwhile idea to at least test a few other algorithms and find the one that's best for our data."
   ]
  },
  {
   "cell_type": "markdown",
   "metadata": {},
   "source": [
    "#### 4.4. Training a Random Forest Classifier\n",
    "<a id='4.4. Training a Random Forest Classifier'></a>"
   ]
  },
  {
   "cell_type": "markdown",
   "metadata": {},
   "source": [
    "Next, let's run a simple, plain random forest without any specifications to get a sense of how the data would \"behave\" without any tuned hyperparameters."
   ]
  },
  {
   "cell_type": "code",
   "execution_count": 104,
   "metadata": {},
   "outputs": [],
   "source": [
    "# Import random forest classifier\n",
    "from sklearn.ensemble import RandomForestClassifier"
   ]
  },
  {
   "cell_type": "code",
   "execution_count": 105,
   "metadata": {},
   "outputs": [
    {
     "name": "stdout",
     "output_type": "stream",
     "text": [
      "Plain Random Forest\n",
      "-------------------------\n",
      "Training Accuracy: 98.29%\n",
      "Test Accuracy:     75.0%\n"
     ]
    }
   ],
   "source": [
    "# Instantiate the plain classifier\n",
    "forest = RandomForestClassifier()\n",
    "\n",
    "# Train\n",
    "forest.fit(X_train, y_train)\n",
    "\n",
    "# Predict\n",
    "train_preds = forest.predict(X_train)\n",
    "test_preds = forest.predict(X_test)\n",
    "\n",
    "# Evaluate\n",
    "train_accuracy_forest = accuracy_score(y_train, train_preds)\n",
    "test_accuracy_forest = accuracy_score(y_test, test_preds)\n",
    "report_forest = classification_report(y_test, test_preds)\n",
    "\n",
    "print(\"Plain Random Forest\")\n",
    "print(\"-------------------------\")\n",
    "print(f\"Training Accuracy: {(train_accuracy_forest * 100):.4}%\")\n",
    "print(f\"Test Accuracy:     {(test_accuracy_forest * 100):.4}%\")\n",
    "\n",
    "# append accuracy score to our dataframe\n",
    "score_forest = ['Plain Random Forest', train_accuracy_forest, test_accuracy_forest]\n",
    "models = models.append([score_forest])"
   ]
  },
  {
   "cell_type": "markdown",
   "metadata": {},
   "source": [
    "Again, we have to cope with overfitting! And we will, again, apply a grid search to tune our classifier."
   ]
  },
  {
   "cell_type": "code",
   "execution_count": 62,
   "metadata": {},
   "outputs": [
    {
     "name": "stdout",
     "output_type": "stream",
     "text": [
      "Random Forest Parameters currently in use:\n",
      "\n",
      "{'bootstrap': True,\n",
      " 'class_weight': None,\n",
      " 'criterion': 'gini',\n",
      " 'max_depth': None,\n",
      " 'max_features': 'auto',\n",
      " 'max_leaf_nodes': None,\n",
      " 'min_impurity_decrease': 0.0,\n",
      " 'min_impurity_split': None,\n",
      " 'min_samples_leaf': 1,\n",
      " 'min_samples_split': 2,\n",
      " 'min_weight_fraction_leaf': 0.0,\n",
      " 'n_estimators': 10,\n",
      " 'n_jobs': None,\n",
      " 'oob_score': False,\n",
      " 'random_state': None,\n",
      " 'verbose': 0,\n",
      " 'warm_start': False}\n"
     ]
    }
   ],
   "source": [
    "from pprint import pprint\n",
    "print('Random Forest Parameters currently in use:\\n')\n",
    "pprint(forest.get_params())"
   ]
  },
  {
   "cell_type": "markdown",
   "metadata": {},
   "source": [
    "Some of the important hyperparameters to tune for a Random Forest are:\n",
    "\n",
    "* n_estimators = number of trees\n",
    "* criterion = splitting criterion (for maximizing the information gain from each split)\n",
    "* max_features = max number of features considered for splitting a node\n",
    "* max_depth = max number of levels in each decision tree\n",
    "* min_samples_split = min samples needed to make a split"
   ]
  },
  {
   "cell_type": "code",
   "execution_count": 106,
   "metadata": {},
   "outputs": [
    {
     "name": "stdout",
     "output_type": "stream",
     "text": [
      "{'criterion': 'gini', 'max_depth': 10, 'max_features': 9, 'min_samples_split': 3, 'n_estimators': 100}\n"
     ]
    }
   ],
   "source": [
    "# Create Grid              \n",
    "param_grid = {'n_estimators': [80, 100, 120],\n",
    "              'criterion': ['gini', 'entropy'],\n",
    "              'max_features': [5, 7, 9],         \n",
    "              'max_depth': [5, 8, 10], \n",
    "              'min_samples_split': [2, 3, 4]}\n",
    "\n",
    "# Instantiate the tuned random forest\n",
    "forest_grid_search = GridSearchCV(forest, param_grid, cv=3)\n",
    "\n",
    "# Train the tuned random forest\n",
    "forest_grid_search.fit(X_train, y_train)\n",
    "\n",
    "# print best estimator parameters found during the grid search\n",
    "print(forest_grid_search.best_params_)"
   ]
  },
  {
   "cell_type": "code",
   "execution_count": 107,
   "metadata": {},
   "outputs": [
    {
     "name": "stdout",
     "output_type": "stream",
     "text": [
      "Tuned Random Forest\n",
      "-------------------------\n",
      "Training Accuracy: 80.76%\n",
      "Test Accuracy:     77.32%\n"
     ]
    }
   ],
   "source": [
    "# Instantiate the tuned random forest with the best found parameters\n",
    "forest_tuned = RandomForestClassifier(n_estimators=100, criterion='gini', max_features=9, \n",
    "                                      max_depth=10, min_samples_split=3)\n",
    "\n",
    "# Train the random forest\n",
    "forest_tuned.fit(X_train, y_train)\n",
    "\n",
    "# Predict\n",
    "train_preds = forest_tuned.predict(X_train)\n",
    "test_preds = forest_tuned.predict(X_test)\n",
    "\n",
    "# Evaluate\n",
    "train_accuracy_forest_tuned = accuracy_score(y_train, train_preds)\n",
    "test_accuracy_forest_tuned = accuracy_score(y_test, test_preds)\n",
    "report_forest_tuned = classification_report(y_test, test_preds)\n",
    "\n",
    "print(\"Tuned Random Forest\")\n",
    "print(\"-------------------------\")\n",
    "print(f\"Training Accuracy: {(train_accuracy_forest_tuned * 100):.4}%\")\n",
    "print(f\"Test Accuracy:     {(test_accuracy_forest_tuned * 100):.4}%\")\n",
    "\n",
    "# append accuracy score to our dataframe\n",
    "score_forest_tuned = ['Tuned Random Forest', train_accuracy_forest_tuned, test_accuracy_forest_tuned]\n",
    "models = models.append([score_forest_tuned])"
   ]
  },
  {
   "cell_type": "markdown",
   "metadata": {},
   "source": [
    "Much better with respect to our previous problem of overfitting!"
   ]
  },
  {
   "cell_type": "markdown",
   "metadata": {},
   "source": [
    "#### 4.5. Training an XGBoost Classifier\n",
    "<a id='4.5. Training an XGBoost Classifier'></a>"
   ]
  },
  {
   "cell_type": "markdown",
   "metadata": {},
   "source": [
    "Gradient Boosting is one of the most powerful concepts in machine learning right now. The term Gradient Boosting refers to a class of algorithms rather than any single one. The version with the highest performance right now is XGBoost, which is short for eXtreme Gradient Boosting.\n",
    "\n",
    "XGBoost is a great choice for classification tasks. It provides best-in-class performance compared to other classification algorithms (with the exception of Deep Learning)."
   ]
  },
  {
   "cell_type": "code",
   "execution_count": 108,
   "metadata": {},
   "outputs": [
    {
     "name": "stdout",
     "output_type": "stream",
     "text": [
      "Plain XGBoost\n",
      "-------------------------\n",
      "Training Accuracy: 78.62%\n",
      "Test Accuracy:     77.51%\n"
     ]
    }
   ],
   "source": [
    "# Instantiate xgboost\n",
    "booster = xgb.XGBClassifier()\n",
    "\n",
    "# Train\n",
    "booster.fit(X_train, y_train)\n",
    "\n",
    "# Predict\n",
    "train_preds = booster.predict(X_train)\n",
    "test_preds = booster.predict(X_test)\n",
    "\n",
    "# Evaluate\n",
    "train_accuracy_booster = accuracy_score(y_train, train_preds)\n",
    "test_accuracy_booster = accuracy_score(y_test, test_preds)\n",
    "report_booster = classification_report(y_test, test_preds)\n",
    "\n",
    "print(\"Plain XGBoost\")\n",
    "print(\"-------------------------\")\n",
    "print(f\"Training Accuracy: {(train_accuracy_booster * 100):.4}%\")\n",
    "print(f\"Test Accuracy:     {(test_accuracy_booster * 100):.4}%\")\n",
    "\n",
    "# append accuracy score to our dataframe\n",
    "score_booster = ['Plain XGBoost', train_accuracy_booster, test_accuracy_booster]\n",
    "models = models.append([score_booster])"
   ]
  },
  {
   "cell_type": "code",
   "execution_count": 65,
   "metadata": {},
   "outputs": [
    {
     "name": "stdout",
     "output_type": "stream",
     "text": [
      "XGBoost Parameters currently in use:\n",
      "\n",
      "{'base_score': 0.5,\n",
      " 'booster': 'gbtree',\n",
      " 'colsample_bylevel': 1,\n",
      " 'colsample_bytree': 1,\n",
      " 'gamma': 0,\n",
      " 'learning_rate': 0.1,\n",
      " 'max_delta_step': 0,\n",
      " 'max_depth': 3,\n",
      " 'min_child_weight': 1,\n",
      " 'missing': None,\n",
      " 'n_estimators': 100,\n",
      " 'n_jobs': 1,\n",
      " 'nthread': None,\n",
      " 'objective': 'binary:logistic',\n",
      " 'random_state': 0,\n",
      " 'reg_alpha': 0,\n",
      " 'reg_lambda': 1,\n",
      " 'scale_pos_weight': 1,\n",
      " 'seed': None,\n",
      " 'silent': True,\n",
      " 'subsample': 1}\n"
     ]
    }
   ],
   "source": [
    "from pprint import pprint\n",
    "print('XGBoost Parameters currently in use:\\n')\n",
    "pprint(booster.get_params())"
   ]
  },
  {
   "cell_type": "markdown",
   "metadata": {},
   "source": [
    "Some of the important hyperparameters to tune for an XGBoost are:\n",
    "\n",
    "* n_estimators = number of trees\n",
    "* learning_rate = rate at which our model learns patterns in data (After every round, it shrinks the feature weights to reach the best optimum:)\n",
    "* max_depth = max number of levels in each decision tree\n",
    "* colsample_bytree = similar to max_features (max number of features considered for splitting a node)\n",
    "* gamma = specifies the minimum loss reduction required to make a split"
   ]
  },
  {
   "cell_type": "code",
   "execution_count": 109,
   "metadata": {},
   "outputs": [
    {
     "name": "stdout",
     "output_type": "stream",
     "text": [
      "{'colsample_bytree': 0.7, 'gamma': 0.0, 'learning_rate': 0.05, 'max_depth': 5, 'n_estimators': 100}\n"
     ]
    }
   ],
   "source": [
    "# Create Grid\n",
    "param_grid = {'n_estimators': [100],\n",
    "              'learning_rate': [0.05, 0.1], \n",
    "              'max_depth': [3, 5, 10],\n",
    "              'colsample_bytree': [0.7, 1],\n",
    "              'gamma': [0.0, 0.1, 0.2]}\n",
    "\n",
    "# Instantiate the tuned random forest\n",
    "booster_grid_search = GridSearchCV(booster, param_grid, scoring='accuracy', cv=3)\n",
    "\n",
    "# Train the tuned random forest\n",
    "booster_grid_search.fit(X_train, y_train)\n",
    "\n",
    "# print best estimator parameters found during the grid search\n",
    "print(booster_grid_search.best_params_)"
   ]
  },
  {
   "cell_type": "code",
   "execution_count": 110,
   "metadata": {},
   "outputs": [
    {
     "name": "stdout",
     "output_type": "stream",
     "text": [
      "Tuned XGBoost\n",
      "-------------------------\n",
      "Training Accuracy: 79.66%\n",
      "Test Accuracy:     78.07%\n"
     ]
    }
   ],
   "source": [
    "# Instantiate tuned xgboost\n",
    "booster_tuned = xgb.XGBClassifier(learning_rate=0.05, max_depth=5, n_estimators=100,\n",
    "                                  colsample_bytree=0.7, gamma=0.0)\n",
    "\n",
    "# Train\n",
    "booster_tuned.fit(X_train, y_train)\n",
    "\n",
    "# Predict\n",
    "train_preds = booster_tuned.predict(X_train)\n",
    "test_preds = booster_tuned.predict(X_test)\n",
    "\n",
    "# Evaluate\n",
    "train_accuracy_booster_tuned = accuracy_score(y_train, train_preds)\n",
    "test_accuracy_booster_tuned = accuracy_score(y_test, test_preds)\n",
    "report_booster_tuned = classification_report(y_test, test_preds)\n",
    "\n",
    "print(\"Tuned XGBoost\")\n",
    "print(\"-------------------------\")\n",
    "print(f\"Training Accuracy: {(train_accuracy_booster_tuned * 100):.4}%\")\n",
    "print(f\"Test Accuracy:     {(test_accuracy_booster_tuned * 100):.4}%\")\n",
    "\n",
    "# append accuracy score to our dataframe\n",
    "score_booster_tuned = ['Tuned XGBoost', train_accuracy_booster_tuned, test_accuracy_booster_tuned]\n",
    "models = models.append([score_booster_tuned])"
   ]
  },
  {
   "cell_type": "markdown",
   "metadata": {},
   "source": [
    "#### 4.6 Training a Support Vector Machine\n",
    "<a id='4.6. Training a Support Vector Machine'></a>"
   ]
  },
  {
   "cell_type": "markdown",
   "metadata": {},
   "source": [
    "Another fast and popular classification technique is: Support Vector Machines (also referred to as SVMs). The idea behind SVMs is that we perform classification by finding the seperation line or \"hyperplane\" that best differates between two classes."
   ]
  },
  {
   "cell_type": "code",
   "execution_count": 111,
   "metadata": {},
   "outputs": [],
   "source": [
    "from sklearn import svm"
   ]
  },
  {
   "cell_type": "code",
   "execution_count": 112,
   "metadata": {},
   "outputs": [
    {
     "name": "stdout",
     "output_type": "stream",
     "text": [
      "Support Vector Machine\n",
      "-------------------------\n",
      "Training Accuracy: 76.75%\n",
      "Test Accuracy:     77.82%\n"
     ]
    }
   ],
   "source": [
    "# instantiate Support Vector Classification\n",
    "svm = svm.SVC(kernel='rbf')\n",
    "\n",
    "# Train\n",
    "svm.fit(X_train, y_train)\n",
    "\n",
    "# Predict\n",
    "train_preds = svm.predict(X_train)\n",
    "test_preds = svm.predict(X_test)\n",
    "\n",
    "# Evaluate\n",
    "train_accuracy_svm = accuracy_score(y_train, train_preds)\n",
    "test_accuracy_svm = accuracy_score(y_test, test_preds)\n",
    "report_svm = classification_report(y_test, test_preds)\n",
    "\n",
    "print(\"Support Vector Machine\")\n",
    "print(\"-------------------------\")\n",
    "print(f\"Training Accuracy: {(train_accuracy_svm * 100):.4}%\")\n",
    "print(f\"Test Accuracy:     {(test_accuracy_svm * 100):.4}%\")\n",
    "\n",
    "# append accuracy score to our dataframe\n",
    "score_svm = ['Support Vector Machine', train_accuracy_svm, test_accuracy_svm]\n",
    "models = models.append([score_svm])"
   ]
  },
  {
   "cell_type": "markdown",
   "metadata": {},
   "source": [
    "*Back to: <a href='#Table of contents'> Table of contents</a>*\n",
    "#### 4.7. Model comparison I\n",
    "<a id='4.7. Model comparison I'></a>"
   ]
  },
  {
   "cell_type": "markdown",
   "metadata": {},
   "source": [
    "Now that we run several models, let's check (and beautify) the dataframe we built on the go:"
   ]
  },
  {
   "cell_type": "code",
   "execution_count": 113,
   "metadata": {},
   "outputs": [
    {
     "data": {
      "text/html": [
       "<div>\n",
       "<style scoped>\n",
       "    .dataframe tbody tr th:only-of-type {\n",
       "        vertical-align: middle;\n",
       "    }\n",
       "\n",
       "    .dataframe tbody tr th {\n",
       "        vertical-align: top;\n",
       "    }\n",
       "\n",
       "    .dataframe thead th {\n",
       "        text-align: right;\n",
       "    }\n",
       "</style>\n",
       "<table border=\"1\" class=\"dataframe\">\n",
       "  <thead>\n",
       "    <tr style=\"text-align: right;\">\n",
       "      <th></th>\n",
       "      <th>0</th>\n",
       "      <th>1</th>\n",
       "      <th>2</th>\n",
       "    </tr>\n",
       "  </thead>\n",
       "  <tbody>\n",
       "    <tr>\n",
       "      <th>0</th>\n",
       "      <td>Logistic Regression</td>\n",
       "      <td>0.773774</td>\n",
       "      <td>0.779449</td>\n",
       "    </tr>\n",
       "    <tr>\n",
       "      <th>0</th>\n",
       "      <td>Plain Decision Tree</td>\n",
       "      <td>0.993107</td>\n",
       "      <td>0.675439</td>\n",
       "    </tr>\n",
       "    <tr>\n",
       "      <th>0</th>\n",
       "      <td>Tuned Decision Tree</td>\n",
       "      <td>0.765314</td>\n",
       "      <td>0.760025</td>\n",
       "    </tr>\n",
       "    <tr>\n",
       "      <th>0</th>\n",
       "      <td>Plain Random Forest</td>\n",
       "      <td>0.982923</td>\n",
       "      <td>0.750000</td>\n",
       "    </tr>\n",
       "    <tr>\n",
       "      <th>0</th>\n",
       "      <td>Tuned Random Forest</td>\n",
       "      <td>0.807614</td>\n",
       "      <td>0.773183</td>\n",
       "    </tr>\n",
       "    <tr>\n",
       "      <th>0</th>\n",
       "      <td>Plain XGBoost</td>\n",
       "      <td>0.786151</td>\n",
       "      <td>0.775063</td>\n",
       "    </tr>\n",
       "    <tr>\n",
       "      <th>0</th>\n",
       "      <td>Tuned XGBoost</td>\n",
       "      <td>0.796647</td>\n",
       "      <td>0.780702</td>\n",
       "    </tr>\n",
       "    <tr>\n",
       "      <th>0</th>\n",
       "      <td>Support Vector Machine</td>\n",
       "      <td>0.767507</td>\n",
       "      <td>0.778195</td>\n",
       "    </tr>\n",
       "  </tbody>\n",
       "</table>\n",
       "</div>"
      ],
      "text/plain": [
       "                        0         1         2\n",
       "0     Logistic Regression  0.773774  0.779449\n",
       "0     Plain Decision Tree  0.993107  0.675439\n",
       "0     Tuned Decision Tree  0.765314  0.760025\n",
       "0     Plain Random Forest  0.982923  0.750000\n",
       "0     Tuned Random Forest  0.807614  0.773183\n",
       "0           Plain XGBoost  0.786151  0.775063\n",
       "0           Tuned XGBoost  0.796647  0.780702\n",
       "0  Support Vector Machine  0.767507  0.778195"
      ]
     },
     "execution_count": 113,
     "metadata": {},
     "output_type": "execute_result"
    }
   ],
   "source": [
    "models"
   ]
  },
  {
   "cell_type": "code",
   "execution_count": 114,
   "metadata": {},
   "outputs": [
    {
     "data": {
      "text/html": [
       "<div>\n",
       "<style scoped>\n",
       "    .dataframe tbody tr th:only-of-type {\n",
       "        vertical-align: middle;\n",
       "    }\n",
       "\n",
       "    .dataframe tbody tr th {\n",
       "        vertical-align: top;\n",
       "    }\n",
       "\n",
       "    .dataframe thead th {\n",
       "        text-align: right;\n",
       "    }\n",
       "</style>\n",
       "<table border=\"1\" class=\"dataframe\">\n",
       "  <thead>\n",
       "    <tr style=\"text-align: right;\">\n",
       "      <th></th>\n",
       "      <th>Training Accuracy</th>\n",
       "      <th>Testing Accuracy</th>\n",
       "    </tr>\n",
       "    <tr>\n",
       "      <th>Classifier</th>\n",
       "      <th></th>\n",
       "      <th></th>\n",
       "    </tr>\n",
       "  </thead>\n",
       "  <tbody>\n",
       "    <tr>\n",
       "      <th>Tuned XGBoost</th>\n",
       "      <td>0.796647</td>\n",
       "      <td>0.780702</td>\n",
       "    </tr>\n",
       "    <tr>\n",
       "      <th>Logistic Regression</th>\n",
       "      <td>0.773774</td>\n",
       "      <td>0.779449</td>\n",
       "    </tr>\n",
       "    <tr>\n",
       "      <th>Support Vector Machine</th>\n",
       "      <td>0.767507</td>\n",
       "      <td>0.778195</td>\n",
       "    </tr>\n",
       "    <tr>\n",
       "      <th>Plain XGBoost</th>\n",
       "      <td>0.786151</td>\n",
       "      <td>0.775063</td>\n",
       "    </tr>\n",
       "    <tr>\n",
       "      <th>Tuned Random Forest</th>\n",
       "      <td>0.807614</td>\n",
       "      <td>0.773183</td>\n",
       "    </tr>\n",
       "    <tr>\n",
       "      <th>Tuned Decision Tree</th>\n",
       "      <td>0.765314</td>\n",
       "      <td>0.760025</td>\n",
       "    </tr>\n",
       "    <tr>\n",
       "      <th>Plain Random Forest</th>\n",
       "      <td>0.982923</td>\n",
       "      <td>0.750000</td>\n",
       "    </tr>\n",
       "    <tr>\n",
       "      <th>Plain Decision Tree</th>\n",
       "      <td>0.993107</td>\n",
       "      <td>0.675439</td>\n",
       "    </tr>\n",
       "  </tbody>\n",
       "</table>\n",
       "</div>"
      ],
      "text/plain": [
       "                        Training Accuracy  Testing Accuracy\n",
       "Classifier                                                 \n",
       "Tuned XGBoost                    0.796647          0.780702\n",
       "Logistic Regression              0.773774          0.779449\n",
       "Support Vector Machine           0.767507          0.778195\n",
       "Plain XGBoost                    0.786151          0.775063\n",
       "Tuned Random Forest              0.807614          0.773183\n",
       "Tuned Decision Tree              0.765314          0.760025\n",
       "Plain Random Forest              0.982923          0.750000\n",
       "Plain Decision Tree              0.993107          0.675439"
      ]
     },
     "execution_count": 114,
     "metadata": {},
     "output_type": "execute_result"
    }
   ],
   "source": [
    "models.columns = ['Classifier', 'Training Accuracy', \"Testing Accuracy\"]\n",
    "models.set_index(['Classifier'], inplace=True)\n",
    "# sort by testing accuracy\n",
    "models.sort_values(['Testing Accuracy'], ascending=[False])"
   ]
  },
  {
   "cell_type": "markdown",
   "metadata": {},
   "source": [
    "*Back to: <a href='#Table of contents'> Table of contents</a>*\n",
    "#### 4.8. Reducing dimensionality with PCA\n",
    "<a id='4.8. Reducing dimensionality with PCA'></a>"
   ]
  },
  {
   "cell_type": "markdown",
   "metadata": {},
   "source": [
    "Now that we have preprocessed our data, we are ready to use PCA to determine by how much we can reduce the dimensionality of our data. We can use scree-plots and cumulative explained ratio plots to find the number of components to use in further analyses.\n",
    "\n",
    "**Scree-plots display the number of components against the variance explained by each component, sorted in descending order of variance.** Scree-plots help us get a better sense of which components explain a sufficient amount of variance in our data. When using scree plots, an 'elbow' (a steep drop from one data point to the next) in the plot is typically used to decide on an appropriate cutoff."
   ]
  },
  {
   "cell_type": "code",
   "execution_count": 115,
   "metadata": {},
   "outputs": [
    {
     "data": {
      "image/png": "[encoded data removed]",
      "text/plain": [
       "<Figure size 720x432 with 2 Axes>"
      ]
     },
     "metadata": {
      "needs_background": "light"
     },
     "output_type": "display_data"
    }
   ],
   "source": [
    "plt.figure(figsize=(10,6))\n",
    "sns.heatmap(features.corr(), center=0);"
   ]
  },
  {
   "cell_type": "code",
   "execution_count": 116,
   "metadata": {},
   "outputs": [
    {
     "name": "stdout",
     "output_type": "stream",
     "text": [
      "[1.00382378e-01 8.23016092e-02 6.73710163e-02 5.69356883e-02\n",
      " 5.40452226e-02 4.93153268e-02 4.80560258e-02 4.05247482e-02\n",
      " 3.90395402e-02 3.80150206e-02 3.23835128e-02 3.16599077e-02\n",
      " 3.11725454e-02 2.93409036e-02 2.82596840e-02 2.14959763e-02\n",
      " 2.06538212e-02 1.95623237e-02 1.89834900e-02 1.79709759e-02\n",
      " 1.76761785e-02 1.64788094e-02 1.40250374e-02 1.30952000e-02\n",
      " 1.02734765e-02 1.01258860e-02 9.72074029e-03 9.45990590e-03\n",
      " 8.14508935e-03 7.40207854e-03 6.23745756e-03 5.81227458e-03\n",
      " 5.56317804e-03 5.07403988e-03 4.26101539e-03 3.30371632e-03\n",
      " 3.16118383e-03 2.85571591e-03 2.63446389e-03 2.53224684e-03\n",
      " 2.32090067e-03 2.09628864e-03 1.93599595e-03 1.64732494e-03\n",
      " 1.50961954e-03 1.43130162e-03 1.32691262e-03 7.76186392e-04\n",
      " 5.26200348e-04 4.05171685e-04 2.36433708e-04 2.09926308e-04\n",
      " 1.39330354e-04 1.30996957e-04 6.93451602e-32 5.47894404e-33\n",
      " 4.63492361e-33 4.50653085e-33 1.99548281e-33 1.95001285e-33\n",
      " 1.81151097e-33 1.46728106e-33 1.40368574e-33]\n",
      "63\n"
     ]
    }
   ],
   "source": [
    "# Importing PCA\n",
    "from sklearn.decomposition import PCA\n",
    "\n",
    "# Get our explained variance ratios from PCA using all features\n",
    "pca = PCA()\n",
    "pca.fit(features)\n",
    "exp_variance = pca.explained_variance_ratio_\n",
    "\n",
    "print(pca.explained_variance_ratio_)\n",
    "print(pca.n_components_)"
   ]
  },
  {
   "cell_type": "code",
   "execution_count": 117,
   "metadata": {},
   "outputs": [
    {
     "data": {
      "image/png": "[encoded data removed]",
      "text/plain": [
       "<Figure size 864x288 with 1 Axes>"
      ]
     },
     "metadata": {
      "needs_background": "light"
     },
     "output_type": "display_data"
    }
   ],
   "source": [
    "# plot the explained variance using a barplot\n",
    "fig, ax = plt.subplots(figsize=(12,4))\n",
    "ax.bar(range(63), exp_variance)\n",
    "ax.set_xlabel('Principal Component #');"
   ]
  },
  {
   "cell_type": "markdown",
   "metadata": {},
   "source": [
    "Unfortunately, there does not appear to be a clear elbow in this scree plot, which means it is not straightforward to find the number of intrinsic dimensions using this method. Instead, we can also look at the cumulative explained variance plot to determine how many features are required to explain, say, about 90% of the variance (cutoffs are somewhat arbitrary here, and usually decided upon by 'rules of thumb'). Once we determine the appropriate number of components, we can perform PCA with that many components, ideally reducing the dimensionality of our data."
   ]
  },
  {
   "cell_type": "code",
   "execution_count": 118,
   "metadata": {},
   "outputs": [
    {
     "data": {
      "image/png": "[encoded data removed]",
      "text/plain": [
       "<Figure size 864x288 with 1 Axes>"
      ]
     },
     "metadata": {
      "needs_background": "light"
     },
     "output_type": "display_data"
    }
   ],
   "source": [
    "# Calculate the cumulative explained variance\n",
    "cum_exp_variance = np.cumsum(exp_variance)\n",
    "\n",
    "# Plot the cumulative explained variance and draw a dashed line at 0.90\n",
    "fig, ax = plt.subplots(figsize=(12,4))\n",
    "ax.plot(range(63), cum_exp_variance)\n",
    "ax.axhline(y=0.95, linestyle='--', color='grey');"
   ]
  },
  {
   "cell_type": "code",
   "execution_count": 119,
   "metadata": {},
   "outputs": [],
   "source": [
    "# choose the number of components with a cumulative explained variance of 90%\n",
    "n_components = 30\n",
    "\n",
    "# Perform PCA with the chosen number of components and project data onto components\n",
    "pca = PCA(n_components)\n",
    "pca.fit(features)\n",
    "pca_projection = pca.transform(features)"
   ]
  },
  {
   "cell_type": "code",
   "execution_count": 120,
   "metadata": {},
   "outputs": [
    {
     "data": {
      "image/png": "[encoded data removed]",
      "text/plain": [
       "<Figure size 720x432 with 2 Axes>"
      ]
     },
     "metadata": {
      "needs_background": "light"
     },
     "output_type": "display_data"
    }
   ],
   "source": [
    "plt.figure(figsize=(10,6))\n",
    "sns.heatmap(pd.DataFrame(pca_projection).corr(), center=0);"
   ]
  },
  {
   "cell_type": "markdown",
   "metadata": {},
   "source": [
    "##### Training different classifiers"
   ]
  },
  {
   "cell_type": "code",
   "execution_count": 121,
   "metadata": {},
   "outputs": [],
   "source": [
    "# Split our data based on the PCA reduced feature set\n",
    "X_train, X_test, y_train, y_test = train_test_split(pca_projection, target, test_size=0.25)"
   ]
  },
  {
   "cell_type": "markdown",
   "metadata": {},
   "source": [
    "**a) Logistic Regression:**"
   ]
  },
  {
   "cell_type": "code",
   "execution_count": 122,
   "metadata": {},
   "outputs": [
    {
     "name": "stdout",
     "output_type": "stream",
     "text": [
      "Logistic Regression\n",
      "------------------------\n",
      "Training Accuracy: 77.11%\n",
      "Test Accuracy:     76.49%\n"
     ]
    }
   ],
   "source": [
    "# Instantiate the logistic regression\n",
    "logreg_2 = LogisticRegression()\n",
    "\n",
    "# Train\n",
    "logreg_2.fit(X_train, y_train)\n",
    "\n",
    "# Predict\n",
    "train_preds = logreg_2.predict(X_train)\n",
    "test_preds = logreg_2.predict(X_test)\n",
    "\n",
    "# Evaluate\n",
    "train_accuracy_logreg_2 = accuracy_score(y_train, train_preds)\n",
    "test_accuracy_logreg_2 = accuracy_score(y_test, test_preds)\n",
    "report_logreg_2 = classification_report(y_test, test_preds)\n",
    "\n",
    "print(\"Logistic Regression\")\n",
    "print(\"------------------------\")\n",
    "print(f\"Training Accuracy: {(train_accuracy_logreg_2 * 100):.4}%\")\n",
    "print(f\"Test Accuracy:     {(test_accuracy_logreg_2 * 100):.4}%\")\n",
    "\n",
    "# store accuracy in a new dataframe\n",
    "score_logreg_2 = ['Logistic Regression', train_accuracy_logreg_2, test_accuracy_logreg_2]\n",
    "models_2 = pd.DataFrame([score_logreg_2])"
   ]
  },
  {
   "cell_type": "markdown",
   "metadata": {},
   "source": [
    "**b) Decision Tree:**"
   ]
  },
  {
   "cell_type": "code",
   "execution_count": 123,
   "metadata": {},
   "outputs": [
    {
     "name": "stdout",
     "output_type": "stream",
     "text": [
      "Plain Decision Tree\n",
      "-------------------------\n",
      "Training Accuracy: 99.35%\n",
      "Test Accuracy:     66.22%\n"
     ]
    }
   ],
   "source": [
    "# Instantiate plain decision tree\n",
    "dt_2 = DecisionTreeClassifier()\n",
    "\n",
    "# Train\n",
    "dt_2.fit(X_train, y_train)\n",
    "\n",
    "# Predict\n",
    "train_preds = dt_2.predict(X_train)\n",
    "test_preds = dt_2.predict(X_test)\n",
    "\n",
    "# Evaluate\n",
    "train_accuracy_dt_2 = accuracy_score(y_train, train_preds)\n",
    "test_accuracy_dt_2 = accuracy_score(y_test, test_preds)\n",
    "report_dt_2 = classification_report(y_test, test_preds)\n",
    "\n",
    "print(\"Plain Decision Tree\")\n",
    "print(\"-------------------------\")\n",
    "print(f\"Training Accuracy: {(train_accuracy_dt_2 * 100):.4}%\")\n",
    "print(f\"Test Accuracy:     {(test_accuracy_dt_2 * 100):.4}%\")\n",
    "\n",
    "# append accuracy score to our dataframe\n",
    "score_dt_2 = ['Plain Decision Tree', train_accuracy_dt_2, test_accuracy_dt_2]\n",
    "models_2 = models_2.append([score_dt_2])"
   ]
  },
  {
   "cell_type": "code",
   "execution_count": 80,
   "metadata": {},
   "outputs": [
    {
     "name": "stdout",
     "output_type": "stream",
     "text": [
      "{'criterion': 'gini', 'max_depth': 3, 'max_features': 15, 'min_samples_split': 6}\n"
     ]
    }
   ],
   "source": [
    "# import Grid Search\n",
    "from sklearn.model_selection import GridSearchCV\n",
    "\n",
    "# Create Grid              \n",
    "param_grid = {'criterion': ['gini', 'entropy'],\n",
    "              'max_features': [5, 10, 15],         \n",
    "              'max_depth': [3, 5, 7],\n",
    "              'min_samples_split': [4, 5, 6]}\n",
    "\n",
    "# Instantiate the tuned random forest\n",
    "dt_2_grid_search = GridSearchCV(dt_2, param_grid, cv=3)\n",
    "\n",
    "# Train the tuned random forest\n",
    "dt_2_grid_search.fit(X_train, y_train)\n",
    "\n",
    "# print best estimator parameters found during the grid search\n",
    "print(dt_2_grid_search.best_params_)"
   ]
  },
  {
   "cell_type": "code",
   "execution_count": 124,
   "metadata": {},
   "outputs": [
    {
     "name": "stdout",
     "output_type": "stream",
     "text": [
      "Tuned Decision Tree\n",
      "-------------------------\n",
      "Training Accuracy: 74.36%\n",
      "Test Accuracy:     72.98%\n"
     ]
    }
   ],
   "source": [
    "# Instantiate the tuned decision tree classifier\n",
    "dt_2_tuned = DecisionTreeClassifier(criterion='gini', max_depth=3, \n",
    "                                    max_features=15, min_samples_split=6)\n",
    "\n",
    "# Train\n",
    "dt_2_tuned.fit(X_train, y_train)\n",
    "\n",
    "# Predict\n",
    "train_preds = dt_2_tuned.predict(X_train)\n",
    "test_preds = dt_2_tuned.predict(X_test)\n",
    "\n",
    "# Evaluate\n",
    "train_accuracy_dt_2_tuned = accuracy_score(y_train, train_preds)\n",
    "test_accuracy_dt_2_tuned = accuracy_score(y_test, test_preds)\n",
    "report_dt_2_tuned = classification_report(y_test, test_preds)\n",
    "\n",
    "print(\"Tuned Decision Tree\")\n",
    "print(\"-------------------------\")\n",
    "print(f\"Training Accuracy: {(train_accuracy_dt_2_tuned * 100):.4}%\")\n",
    "print(f\"Test Accuracy:     {(test_accuracy_dt_2_tuned * 100):.4}%\")\n",
    "\n",
    "# append accuracy score to our dataframe\n",
    "score_dt_2_tuned = ['Tuned Decision Tree', train_accuracy_dt_2_tuned, test_accuracy_dt_2_tuned]\n",
    "models_2 = models_2.append([score_dt_2_tuned])"
   ]
  },
  {
   "cell_type": "markdown",
   "metadata": {},
   "source": [
    "**c) Random Forest:**"
   ]
  },
  {
   "cell_type": "code",
   "execution_count": 125,
   "metadata": {},
   "outputs": [
    {
     "name": "stdout",
     "output_type": "stream",
     "text": [
      "Plain Random Forest\n",
      "-------------------------\n",
      "Training Accuracy: 98.5%\n",
      "Test Accuracy:     72.03%\n"
     ]
    }
   ],
   "source": [
    "# Instantiate the plain classifier\n",
    "forest_2 = RandomForestClassifier()\n",
    "\n",
    "# Train\n",
    "forest_2.fit(X_train, y_train)\n",
    "\n",
    "# Predict\n",
    "train_preds = forest_2.predict(X_train)\n",
    "test_preds = forest_2.predict(X_test)\n",
    "\n",
    "# Evaluate\n",
    "train_accuracy_forest_2 = accuracy_score(y_train, train_preds)\n",
    "test_accuracy_forest_2 = accuracy_score(y_test, test_preds)\n",
    "report_forest_2 = classification_report(y_test, test_preds)\n",
    "\n",
    "print(\"Plain Random Forest\")\n",
    "print(\"-------------------------\")\n",
    "print(f\"Training Accuracy: {(train_accuracy_forest_2 * 100):.4}%\")\n",
    "print(f\"Test Accuracy:     {(test_accuracy_forest_2 * 100):.4}%\")\n",
    "\n",
    "# append accuracy score to our dataframe\n",
    "score_forest_2 = ['Plain Random Forest', train_accuracy_forest_2, test_accuracy_forest_2]\n",
    "models_2 = models_2.append([score_forest_2])"
   ]
  },
  {
   "cell_type": "code",
   "execution_count": 83,
   "metadata": {},
   "outputs": [
    {
     "name": "stdout",
     "output_type": "stream",
     "text": [
      "{'criterion': 'entropy', 'max_depth': 8, 'max_features': 9, 'min_samples_split': 2, 'n_estimators': 80}\n"
     ]
    }
   ],
   "source": [
    "# Create Grid              \n",
    "param_grid = {'n_estimators': [80, 100, 120],\n",
    "              'criterion': ['gini', 'entropy'],\n",
    "              'max_features': [5, 7, 9],         \n",
    "              'max_depth': [5, 8, 10], \n",
    "              'min_samples_split': [2, 3, 4]}\n",
    "\n",
    "# Instantiate the tuned random forest\n",
    "forest_2_grid_search = GridSearchCV(forest_2, param_grid, cv=3)\n",
    "\n",
    "# Train the tuned random forest\n",
    "forest_2_grid_search.fit(X_train, y_train)\n",
    "\n",
    "# print best estimator parameters found during the grid search\n",
    "print(forest_2_grid_search.best_params_)"
   ]
  },
  {
   "cell_type": "code",
   "execution_count": 126,
   "metadata": {},
   "outputs": [
    {
     "name": "stdout",
     "output_type": "stream",
     "text": [
      "Tuned Random Forest\n",
      "-------------------------\n",
      "Training Accuracy: 82.95%\n",
      "Test Accuracy:     76.69%\n"
     ]
    }
   ],
   "source": [
    "# Instantiate the tuned random forest with the best found parameters\n",
    "forest_2_tuned = RandomForestClassifier(n_estimators=80, criterion='entropy', max_features=9, \n",
    "                                        max_depth=8, min_samples_split=2)\n",
    "\n",
    "# Train the random forest\n",
    "forest_2_tuned.fit(X_train, y_train)\n",
    "\n",
    "# Predict\n",
    "train_preds = forest_2_tuned.predict(X_train)\n",
    "test_preds = forest_2_tuned.predict(X_test)\n",
    "\n",
    "# Evaluate\n",
    "train_accuracy_forest_2_tuned = accuracy_score(y_train, train_preds)\n",
    "test_accuracy_forest_2_tuned = accuracy_score(y_test, test_preds)\n",
    "report_forest_forest_2_tuned = classification_report(y_test, test_preds)\n",
    "\n",
    "print(\"Tuned Random Forest\")\n",
    "print(\"-------------------------\")\n",
    "print(f\"Training Accuracy: {(train_accuracy_forest_2_tuned * 100):.4}%\")\n",
    "print(f\"Test Accuracy:     {(test_accuracy_forest_2_tuned * 100):.4}%\")\n",
    "\n",
    "# append accuracy score to our dataframe\n",
    "score_forest_2_tuned = ['Tuned Random Forest 2', train_accuracy_forest_2_tuned, test_accuracy_forest_2_tuned]\n",
    "models_2 = models_2.append([score_forest_2_tuned])"
   ]
  },
  {
   "cell_type": "markdown",
   "metadata": {},
   "source": [
    "**d) XGBoost:**"
   ]
  },
  {
   "cell_type": "code",
   "execution_count": 127,
   "metadata": {},
   "outputs": [
    {
     "name": "stdout",
     "output_type": "stream",
     "text": [
      "Plain XGBoost\n",
      "-------------------------\n",
      "Training Accuracy: 80.38%\n",
      "Test Accuracy:     76.79%\n"
     ]
    }
   ],
   "source": [
    "# Instantiate xgboost\n",
    "booster_2 = xgb.XGBClassifier()\n",
    "\n",
    "# Train\n",
    "booster_2.fit(X_train, y_train)\n",
    "\n",
    "# Predict\n",
    "train_preds = booster_2.predict(X_train)\n",
    "test_preds = booster_2.predict(X_test)\n",
    "\n",
    "# Evaluate\n",
    "train_accuracy_booster_2 = accuracy_score(y_train, train_preds)\n",
    "test_accuracy_booster_2 = accuracy_score(y_test, test_preds)\n",
    "report_booster_2 = classification_report(y_test, test_preds)\n",
    "\n",
    "print(\"Plain XGBoost\")\n",
    "print(\"-------------------------\")\n",
    "print(f\"Training Accuracy: {(train_accuracy_booster_2 * 100):.4}%\")\n",
    "print(f\"Test Accuracy:     {(test_accuracy_booster_2 * 100):.4}%\")\n",
    "\n",
    "# append accuracy score to our dataframe\n",
    "score_booster_2 = ['Plain XGBoost', train_accuracy_booster_2, test_accuracy_booster_2]\n",
    "models_2 = models_2.append([score_booster_2])"
   ]
  },
  {
   "cell_type": "code",
   "execution_count": 128,
   "metadata": {},
   "outputs": [
    {
     "name": "stdout",
     "output_type": "stream",
     "text": [
      "{'colsample_bytree': 0.7, 'gamma': 0.1, 'learning_rate': 0.1, 'max_depth': 3, 'n_estimators': 100}\n"
     ]
    }
   ],
   "source": [
    "# Create Grid\n",
    "param_grid = {'n_estimators': [100],\n",
    "              'learning_rate': [0.05, 0.1], \n",
    "              'max_depth': [3, 5, 10],\n",
    "              'colsample_bytree': [0.7, 1],\n",
    "              'gamma': [0.0, 0.1, 0.2]}\n",
    "\n",
    "# Instantiate the tuned random forest\n",
    "booster_2_grid_search = GridSearchCV(booster_2, param_grid, scoring='accuracy', cv=3)\n",
    "\n",
    "# Train the tuned random forest\n",
    "booster_2_grid_search.fit(X_train, y_train)\n",
    "\n",
    "# print best estimator parameters found during the grid search\n",
    "print(booster_2_grid_search.best_params_)"
   ]
  },
  {
   "cell_type": "code",
   "execution_count": 129,
   "metadata": {},
   "outputs": [
    {
     "name": "stdout",
     "output_type": "stream",
     "text": [
      "Tuned XGBoost\n",
      "-------------------------\n",
      "Training Accuracy: 80.28%\n",
      "Test Accuracy:     77.14%\n"
     ]
    }
   ],
   "source": [
    "# Instantiate tuned xgboost\n",
    "booster_2_tuned = xgb.XGBClassifier(learning_rate=0.1, max_depth=3, n_estimators=100,\n",
    "                                    colsample_bytree=0.7, gamma=0.1)\n",
    "\n",
    "# Train\n",
    "booster_2_tuned.fit(X_train, y_train)\n",
    "\n",
    "# Predict\n",
    "train_preds = booster_2_tuned.predict(X_train)\n",
    "test_preds = booster_2_tuned.predict(X_test)\n",
    "\n",
    "# Evaluate\n",
    "train_accuracy_booster_2_tuned = accuracy_score(y_train, train_preds)\n",
    "test_accuracy_booster_2_tuned = accuracy_score(y_test, test_preds)\n",
    "report_booster_2_tuned = classification_report(y_test, test_preds)\n",
    "\n",
    "print(\"Tuned XGBoost\")\n",
    "print(\"-------------------------\")\n",
    "print(f\"Training Accuracy: {(train_accuracy_booster_2_tuned * 100):.4}%\")\n",
    "print(f\"Test Accuracy:     {(test_accuracy_booster_2_tuned * 100):.4}%\")\n",
    "\n",
    "# append accuracy score to our dataframe\n",
    "score_booster_2_tuned = ['Tuned XGBoost', train_accuracy_booster_2_tuned, test_accuracy_booster_2_tuned]\n",
    "models_2 = models_2.append([score_booster_2_tuned])"
   ]
  },
  {
   "cell_type": "markdown",
   "metadata": {},
   "source": [
    "**e) SVM:**"
   ]
  },
  {
   "cell_type": "code",
   "execution_count": 130,
   "metadata": {},
   "outputs": [],
   "source": [
    "from sklearn import svm"
   ]
  },
  {
   "cell_type": "code",
   "execution_count": 131,
   "metadata": {},
   "outputs": [
    {
     "name": "stdout",
     "output_type": "stream",
     "text": [
      "Support Vector Machine\n",
      "-------------------------\n",
      "Training Accuracy: 77.76%\n",
      "Test Accuracy:     77.24%\n"
     ]
    }
   ],
   "source": [
    "# instantiate Support Vector Classification\n",
    "svm_2 = svm.SVC(kernel='rbf')\n",
    "\n",
    "# Train\n",
    "svm_2.fit(X_train, y_train)\n",
    "\n",
    "# Predict\n",
    "train_preds = svm_2.predict(X_train)\n",
    "test_preds = svm_2.predict(X_test)\n",
    "\n",
    "# Evaluate\n",
    "train_accuracy_svm_2 = accuracy_score(y_train, train_preds)\n",
    "test_accuracy_svm_2 = accuracy_score(y_test, test_preds)\n",
    "report_svm_2 = classification_report(y_test, test_preds)\n",
    "\n",
    "print(\"Support Vector Machine\")\n",
    "print(\"-------------------------\")\n",
    "print(f\"Training Accuracy: {(train_accuracy_svm_2 * 100):.4}%\")\n",
    "print(f\"Test Accuracy:     {(test_accuracy_svm_2 * 100):.4}%\")\n",
    "\n",
    "# append accuracy score to our dataframe\n",
    "score_svm_2 = ['Support Vector Machine', train_accuracy_svm_2, test_accuracy_svm_2]\n",
    "models_2 = models_2.append([score_svm])"
   ]
  },
  {
   "cell_type": "markdown",
   "metadata": {},
   "source": [
    "#### 4.9. Model comparison II - after PCA\n",
    "<a id='4.9. Model comparison II - after PCA'></a>"
   ]
  },
  {
   "cell_type": "code",
   "execution_count": 132,
   "metadata": {},
   "outputs": [
    {
     "data": {
      "text/html": [
       "<div>\n",
       "<style scoped>\n",
       "    .dataframe tbody tr th:only-of-type {\n",
       "        vertical-align: middle;\n",
       "    }\n",
       "\n",
       "    .dataframe tbody tr th {\n",
       "        vertical-align: top;\n",
       "    }\n",
       "\n",
       "    .dataframe thead th {\n",
       "        text-align: right;\n",
       "    }\n",
       "</style>\n",
       "<table border=\"1\" class=\"dataframe\">\n",
       "  <thead>\n",
       "    <tr style=\"text-align: right;\">\n",
       "      <th></th>\n",
       "      <th>0</th>\n",
       "      <th>1</th>\n",
       "      <th>2</th>\n",
       "    </tr>\n",
       "  </thead>\n",
       "  <tbody>\n",
       "    <tr>\n",
       "      <th>0</th>\n",
       "      <td>Logistic Regression</td>\n",
       "      <td>0.771056</td>\n",
       "      <td>0.764912</td>\n",
       "    </tr>\n",
       "    <tr>\n",
       "      <th>0</th>\n",
       "      <td>Plain Decision Tree</td>\n",
       "      <td>0.993483</td>\n",
       "      <td>0.662155</td>\n",
       "    </tr>\n",
       "    <tr>\n",
       "      <th>0</th>\n",
       "      <td>Tuned Decision Tree</td>\n",
       "      <td>0.743650</td>\n",
       "      <td>0.729825</td>\n",
       "    </tr>\n",
       "    <tr>\n",
       "      <th>0</th>\n",
       "      <td>Plain Random Forest</td>\n",
       "      <td>0.984960</td>\n",
       "      <td>0.720301</td>\n",
       "    </tr>\n",
       "    <tr>\n",
       "      <th>0</th>\n",
       "      <td>Tuned Random Forest 2</td>\n",
       "      <td>0.829545</td>\n",
       "      <td>0.766917</td>\n",
       "    </tr>\n",
       "    <tr>\n",
       "      <th>0</th>\n",
       "      <td>Plain XGBoost</td>\n",
       "      <td>0.803810</td>\n",
       "      <td>0.767920</td>\n",
       "    </tr>\n",
       "    <tr>\n",
       "      <th>0</th>\n",
       "      <td>Tuned XGBoost</td>\n",
       "      <td>0.802807</td>\n",
       "      <td>0.771429</td>\n",
       "    </tr>\n",
       "    <tr>\n",
       "      <th>0</th>\n",
       "      <td>Support Vector Machine</td>\n",
       "      <td>0.767507</td>\n",
       "      <td>0.778195</td>\n",
       "    </tr>\n",
       "  </tbody>\n",
       "</table>\n",
       "</div>"
      ],
      "text/plain": [
       "                        0         1         2\n",
       "0     Logistic Regression  0.771056  0.764912\n",
       "0     Plain Decision Tree  0.993483  0.662155\n",
       "0     Tuned Decision Tree  0.743650  0.729825\n",
       "0     Plain Random Forest  0.984960  0.720301\n",
       "0   Tuned Random Forest 2  0.829545  0.766917\n",
       "0           Plain XGBoost  0.803810  0.767920\n",
       "0           Tuned XGBoost  0.802807  0.771429\n",
       "0  Support Vector Machine  0.767507  0.778195"
      ]
     },
     "execution_count": 132,
     "metadata": {},
     "output_type": "execute_result"
    }
   ],
   "source": [
    "models_2"
   ]
  },
  {
   "cell_type": "code",
   "execution_count": 133,
   "metadata": {},
   "outputs": [
    {
     "data": {
      "text/html": [
       "<div>\n",
       "<style scoped>\n",
       "    .dataframe tbody tr th:only-of-type {\n",
       "        vertical-align: middle;\n",
       "    }\n",
       "\n",
       "    .dataframe tbody tr th {\n",
       "        vertical-align: top;\n",
       "    }\n",
       "\n",
       "    .dataframe thead th {\n",
       "        text-align: right;\n",
       "    }\n",
       "</style>\n",
       "<table border=\"1\" class=\"dataframe\">\n",
       "  <thead>\n",
       "    <tr style=\"text-align: right;\">\n",
       "      <th></th>\n",
       "      <th>Training Accuracy</th>\n",
       "      <th>Testing Accuracy</th>\n",
       "    </tr>\n",
       "    <tr>\n",
       "      <th>Classifier after PCA</th>\n",
       "      <th></th>\n",
       "      <th></th>\n",
       "    </tr>\n",
       "  </thead>\n",
       "  <tbody>\n",
       "    <tr>\n",
       "      <th>Support Vector Machine</th>\n",
       "      <td>0.767507</td>\n",
       "      <td>0.778195</td>\n",
       "    </tr>\n",
       "    <tr>\n",
       "      <th>Tuned XGBoost</th>\n",
       "      <td>0.802807</td>\n",
       "      <td>0.771429</td>\n",
       "    </tr>\n",
       "    <tr>\n",
       "      <th>Plain XGBoost</th>\n",
       "      <td>0.803810</td>\n",
       "      <td>0.767920</td>\n",
       "    </tr>\n",
       "    <tr>\n",
       "      <th>Tuned Random Forest 2</th>\n",
       "      <td>0.829545</td>\n",
       "      <td>0.766917</td>\n",
       "    </tr>\n",
       "    <tr>\n",
       "      <th>Logistic Regression</th>\n",
       "      <td>0.771056</td>\n",
       "      <td>0.764912</td>\n",
       "    </tr>\n",
       "    <tr>\n",
       "      <th>Tuned Decision Tree</th>\n",
       "      <td>0.743650</td>\n",
       "      <td>0.729825</td>\n",
       "    </tr>\n",
       "    <tr>\n",
       "      <th>Plain Random Forest</th>\n",
       "      <td>0.984960</td>\n",
       "      <td>0.720301</td>\n",
       "    </tr>\n",
       "    <tr>\n",
       "      <th>Plain Decision Tree</th>\n",
       "      <td>0.993483</td>\n",
       "      <td>0.662155</td>\n",
       "    </tr>\n",
       "  </tbody>\n",
       "</table>\n",
       "</div>"
      ],
      "text/plain": [
       "                        Training Accuracy  Testing Accuracy\n",
       "Classifier after PCA                                       \n",
       "Support Vector Machine           0.767507          0.778195\n",
       "Tuned XGBoost                    0.802807          0.771429\n",
       "Plain XGBoost                    0.803810          0.767920\n",
       "Tuned Random Forest 2            0.829545          0.766917\n",
       "Logistic Regression              0.771056          0.764912\n",
       "Tuned Decision Tree              0.743650          0.729825\n",
       "Plain Random Forest              0.984960          0.720301\n",
       "Plain Decision Tree              0.993483          0.662155"
      ]
     },
     "execution_count": 133,
     "metadata": {},
     "output_type": "execute_result"
    }
   ],
   "source": [
    "models_2.columns = ['Classifier after PCA', 'Training Accuracy', \"Testing Accuracy\"]\n",
    "models_2.set_index(['Classifier after PCA'], inplace=True)\n",
    "# sort by testing accuracy\n",
    "models_2.sort_values(['Testing Accuracy'], ascending=[False])"
   ]
  },
  {
   "cell_type": "markdown",
   "metadata": {},
   "source": [
    "*Back to: <a href='#Table of contents'> Table of contents</a>*\n",
    "### 5. Conclusions\n",
    "<a id='5. Conclusions'></a>"
   ]
  },
  {
   "cell_type": "markdown",
   "metadata": {},
   "source": [
    "#### 5.1. With PCA or without? \n",
    "<a id='5.1. With PCA or without?'></a>"
   ]
  },
  {
   "cell_type": "markdown",
   "metadata": {},
   "source": [
    "We ran all our models twice: the first round contained all features exactly the way we prepared them, the second round reduced their dimensionality ahead using PCA. Which method performed better?"
   ]
  },
  {
   "cell_type": "code",
   "execution_count": 134,
   "metadata": {},
   "outputs": [
    {
     "data": {
      "text/html": [
       "<div>\n",
       "<style scoped>\n",
       "    .dataframe tbody tr th:only-of-type {\n",
       "        vertical-align: middle;\n",
       "    }\n",
       "\n",
       "    .dataframe tbody tr th {\n",
       "        vertical-align: top;\n",
       "    }\n",
       "\n",
       "    .dataframe thead th {\n",
       "        text-align: right;\n",
       "    }\n",
       "</style>\n",
       "<table border=\"1\" class=\"dataframe\">\n",
       "  <thead>\n",
       "    <tr style=\"text-align: right;\">\n",
       "      <th></th>\n",
       "      <th>Training Accuracy</th>\n",
       "      <th>Testing Accuracy</th>\n",
       "    </tr>\n",
       "    <tr>\n",
       "      <th>Classifier</th>\n",
       "      <th></th>\n",
       "      <th></th>\n",
       "    </tr>\n",
       "  </thead>\n",
       "  <tbody>\n",
       "    <tr>\n",
       "      <th>Tuned XGBoost</th>\n",
       "      <td>0.796647</td>\n",
       "      <td>0.780702</td>\n",
       "    </tr>\n",
       "    <tr>\n",
       "      <th>Logistic Regression</th>\n",
       "      <td>0.773774</td>\n",
       "      <td>0.779449</td>\n",
       "    </tr>\n",
       "    <tr>\n",
       "      <th>Support Vector Machine</th>\n",
       "      <td>0.767507</td>\n",
       "      <td>0.778195</td>\n",
       "    </tr>\n",
       "    <tr>\n",
       "      <th>Plain XGBoost</th>\n",
       "      <td>0.786151</td>\n",
       "      <td>0.775063</td>\n",
       "    </tr>\n",
       "    <tr>\n",
       "      <th>Tuned Random Forest</th>\n",
       "      <td>0.807614</td>\n",
       "      <td>0.773183</td>\n",
       "    </tr>\n",
       "    <tr>\n",
       "      <th>Tuned Decision Tree</th>\n",
       "      <td>0.765314</td>\n",
       "      <td>0.760025</td>\n",
       "    </tr>\n",
       "    <tr>\n",
       "      <th>Plain Random Forest</th>\n",
       "      <td>0.982923</td>\n",
       "      <td>0.750000</td>\n",
       "    </tr>\n",
       "    <tr>\n",
       "      <th>Plain Decision Tree</th>\n",
       "      <td>0.993107</td>\n",
       "      <td>0.675439</td>\n",
       "    </tr>\n",
       "  </tbody>\n",
       "</table>\n",
       "</div>"
      ],
      "text/plain": [
       "                        Training Accuracy  Testing Accuracy\n",
       "Classifier                                                 \n",
       "Tuned XGBoost                    0.796647          0.780702\n",
       "Logistic Regression              0.773774          0.779449\n",
       "Support Vector Machine           0.767507          0.778195\n",
       "Plain XGBoost                    0.786151          0.775063\n",
       "Tuned Random Forest              0.807614          0.773183\n",
       "Tuned Decision Tree              0.765314          0.760025\n",
       "Plain Random Forest              0.982923          0.750000\n",
       "Plain Decision Tree              0.993107          0.675439"
      ]
     },
     "execution_count": 134,
     "metadata": {},
     "output_type": "execute_result"
    }
   ],
   "source": [
    "# all models without dimensionality reduction\n",
    "models.sort_values(['Testing Accuracy'], ascending=[False])"
   ]
  },
  {
   "cell_type": "code",
   "execution_count": 135,
   "metadata": {},
   "outputs": [
    {
     "data": {
      "text/html": [
       "<div>\n",
       "<style scoped>\n",
       "    .dataframe tbody tr th:only-of-type {\n",
       "        vertical-align: middle;\n",
       "    }\n",
       "\n",
       "    .dataframe tbody tr th {\n",
       "        vertical-align: top;\n",
       "    }\n",
       "\n",
       "    .dataframe thead th {\n",
       "        text-align: right;\n",
       "    }\n",
       "</style>\n",
       "<table border=\"1\" class=\"dataframe\">\n",
       "  <thead>\n",
       "    <tr style=\"text-align: right;\">\n",
       "      <th></th>\n",
       "      <th>Training Accuracy</th>\n",
       "      <th>Testing Accuracy</th>\n",
       "    </tr>\n",
       "    <tr>\n",
       "      <th>Classifier after PCA</th>\n",
       "      <th></th>\n",
       "      <th></th>\n",
       "    </tr>\n",
       "  </thead>\n",
       "  <tbody>\n",
       "    <tr>\n",
       "      <th>Support Vector Machine</th>\n",
       "      <td>0.767507</td>\n",
       "      <td>0.778195</td>\n",
       "    </tr>\n",
       "    <tr>\n",
       "      <th>Tuned XGBoost</th>\n",
       "      <td>0.802807</td>\n",
       "      <td>0.771429</td>\n",
       "    </tr>\n",
       "    <tr>\n",
       "      <th>Plain XGBoost</th>\n",
       "      <td>0.803810</td>\n",
       "      <td>0.767920</td>\n",
       "    </tr>\n",
       "    <tr>\n",
       "      <th>Tuned Random Forest 2</th>\n",
       "      <td>0.829545</td>\n",
       "      <td>0.766917</td>\n",
       "    </tr>\n",
       "    <tr>\n",
       "      <th>Logistic Regression</th>\n",
       "      <td>0.771056</td>\n",
       "      <td>0.764912</td>\n",
       "    </tr>\n",
       "    <tr>\n",
       "      <th>Tuned Decision Tree</th>\n",
       "      <td>0.743650</td>\n",
       "      <td>0.729825</td>\n",
       "    </tr>\n",
       "    <tr>\n",
       "      <th>Plain Random Forest</th>\n",
       "      <td>0.984960</td>\n",
       "      <td>0.720301</td>\n",
       "    </tr>\n",
       "    <tr>\n",
       "      <th>Plain Decision Tree</th>\n",
       "      <td>0.993483</td>\n",
       "      <td>0.662155</td>\n",
       "    </tr>\n",
       "  </tbody>\n",
       "</table>\n",
       "</div>"
      ],
      "text/plain": [
       "                        Training Accuracy  Testing Accuracy\n",
       "Classifier after PCA                                       \n",
       "Support Vector Machine           0.767507          0.778195\n",
       "Tuned XGBoost                    0.802807          0.771429\n",
       "Plain XGBoost                    0.803810          0.767920\n",
       "Tuned Random Forest 2            0.829545          0.766917\n",
       "Logistic Regression              0.771056          0.764912\n",
       "Tuned Decision Tree              0.743650          0.729825\n",
       "Plain Random Forest              0.984960          0.720301\n",
       "Plain Decision Tree              0.993483          0.662155"
      ]
     },
     "execution_count": 135,
     "metadata": {},
     "output_type": "execute_result"
    }
   ],
   "source": [
    "# all models WITH dimensionality reduction\n",
    "models_2.sort_values(['Testing Accuracy'], ascending=[False])"
   ]
  },
  {
   "cell_type": "markdown",
   "metadata": {},
   "source": [
    "The difference in **testing accuracy scores** is tiny to not existent, only overfitting is a bit more of a problem in the PCA prepared models. To avoid this, let's go with the models **without PCA**."
   ]
  },
  {
   "cell_type": "markdown",
   "metadata": {},
   "source": [
    "#### 5.2. Feature importance \n",
    "<a id='5.2. Feature importance'></a>"
   ]
  },
  {
   "cell_type": "markdown",
   "metadata": {},
   "source": [
    "Coming to an end, let's eventually glance at the 10 most important features for prediction. <br> For the sake of simplicity we take three of our models (without PCA):"
   ]
  },
  {
   "cell_type": "code",
   "execution_count": 142,
   "metadata": {},
   "outputs": [
    {
     "data": {
      "image/png": "[encoded data removed]",
      "text/plain": [
       "<Figure size 720x360 with 1 Axes>"
      ]
     },
     "metadata": {
      "needs_background": "light"
     },
     "output_type": "display_data"
    }
   ],
   "source": [
    "# plot the important features - based on tuned XGBoost\n",
    "feat_importances = pd.Series(booster_tuned.feature_importances_, index=features.columns)\n",
    "feat_importances.nlargest(10).sort_values().plot(kind='barh', color='darkgrey', figsize=(10,5))\n",
    "plt.xlabel('Relative Feature Importance with tuned XGBoost');"
   ]
  },
  {
   "cell_type": "code",
   "execution_count": 139,
   "metadata": {},
   "outputs": [
    {
     "data": {
      "image/png": "[encoded data removed]",
      "text/plain": [
       "<Figure size 720x360 with 1 Axes>"
      ]
     },
     "metadata": {
      "needs_background": "light"
     },
     "output_type": "display_data"
    }
   ],
   "source": [
    "# plot the important features - based on plain XGBoost\n",
    "feat_importances = pd.Series(booster.feature_importances_, index=features.columns)\n",
    "feat_importances.nlargest(10).sort_values().plot(kind='barh', color='darkgrey', figsize=(10,5))\n",
    "plt.xlabel('Relative Feature Importance with XGBoost');"
   ]
  },
  {
   "cell_type": "code",
   "execution_count": 144,
   "metadata": {},
   "outputs": [
    {
     "data": {
      "image/png": "[encoded data removed]",
      "text/plain": [
       "<Figure size 720x360 with 1 Axes>"
      ]
     },
     "metadata": {
      "needs_background": "light"
     },
     "output_type": "display_data"
    }
   ],
   "source": [
    "# plot the important features - based on tuned Random Forest\n",
    "feat_importances = pd.Series(forest_tuned.feature_importances_, index=features.columns)\n",
    "feat_importances.nlargest(10).sort_values().plot(kind='barh', color='darkgrey', figsize=(10,5))\n",
    "plt.xlabel('Relative Feature Importance with tuned Random Forest');"
   ]
  },
  {
   "cell_type": "markdown",
   "metadata": {},
   "source": [
    "This last plot, produced by our tuned Random Forest, draws the most distinct picture. We see that the attitude towards the argument *\"It creates more equality of opportunity\"* is the first and most important feature to split people."
   ]
  },
  {
   "cell_type": "markdown",
   "metadata": {},
   "source": [
    "#### 5.3. Recommendation \n",
    "<a id='5.3. Recommendation'></a>"
   ]
  },
  {
   "cell_type": "markdown",
   "metadata": {},
   "source": [
    "Before we give a final recommendation, let's check the full **classification reports** for our 5 best performing models:"
   ]
  },
  {
   "cell_type": "code",
   "execution_count": 145,
   "metadata": {},
   "outputs": [
    {
     "name": "stdout",
     "output_type": "stream",
     "text": [
      "Classification Report tuned XGBoost: \n",
      "               precision    recall  f1-score   support\n",
      "\n",
      "     against       0.69      0.38      0.49       444\n",
      "         for       0.80      0.94      0.86      1152\n",
      "\n",
      "   micro avg       0.78      0.78      0.78      1596\n",
      "   macro avg       0.75      0.66      0.68      1596\n",
      "weighted avg       0.77      0.78      0.76      1596\n",
      "\n",
      "------------------------------------------------------\n",
      "Classification Report Logistic Regression: \n",
      "               precision    recall  f1-score   support\n",
      "\n",
      "     against       0.67      0.41      0.51       444\n",
      "         for       0.80      0.92      0.86      1152\n",
      "\n",
      "   micro avg       0.78      0.78      0.78      1596\n",
      "   macro avg       0.74      0.67      0.68      1596\n",
      "weighted avg       0.77      0.78      0.76      1596\n",
      "\n",
      "------------------------------------------------------\n",
      "Classification Report SVM: \n",
      "               precision    recall  f1-score   support\n",
      "\n",
      "     against       0.80      0.27      0.40       444\n",
      "         for       0.78      0.97      0.86      1152\n",
      "\n",
      "   micro avg       0.78      0.78      0.78      1596\n",
      "   macro avg       0.79      0.62      0.63      1596\n",
      "weighted avg       0.78      0.78      0.74      1596\n",
      "\n",
      "------------------------------------------------------\n",
      "Classification Report plain XGBoost: \n",
      "               precision    recall  f1-score   support\n",
      "\n",
      "     against       0.68      0.36      0.47       444\n",
      "         for       0.79      0.93      0.86      1152\n",
      "\n",
      "   micro avg       0.78      0.78      0.78      1596\n",
      "   macro avg       0.74      0.65      0.66      1596\n",
      "weighted avg       0.76      0.78      0.75      1596\n",
      "\n",
      "------------------------------------------------------\n",
      "Classification Report tuned Random Forest: \n",
      "               precision    recall  f1-score   support\n",
      "\n",
      "     against       0.73      0.29      0.42       444\n",
      "         for       0.78      0.96      0.86      1152\n",
      "\n",
      "   micro avg       0.77      0.77      0.77      1596\n",
      "   macro avg       0.75      0.63      0.64      1596\n",
      "weighted avg       0.77      0.77      0.74      1596\n",
      "\n"
     ]
    }
   ],
   "source": [
    "print('Classification Report tuned XGBoost: \\n', report_booster_tuned)\n",
    "print('------------------------------------------------------')\n",
    "print('Classification Report Logistic Regression: \\n', report_logreg)\n",
    "print('------------------------------------------------------')\n",
    "print('Classification Report SVM: \\n', report_svm)\n",
    "print('------------------------------------------------------')\n",
    "print('Classification Report plain XGBoost: \\n', report_booster)\n",
    "print('------------------------------------------------------')\n",
    "print('Classification Report tuned Random Forest: \\n', report_forest_tuned)"
   ]
  },
  {
   "cell_type": "markdown",
   "metadata": {},
   "source": [
    "The F1 score considers both the precision and the recall of the test. It's high when it comes to predict the \"for\" votes across all models, but substantially lower when it comes to the \"against\" votes. The highest F1 scores for these very \"against\" votes are yielded by the **tuned XGBoost** and (interestingly!) by good, old **Logistic Regression**. These two models are the one we'd recommend."
   ]
  },
  {
   "cell_type": "markdown",
   "metadata": {},
   "source": [
    "*Back to: <a href='#Table of contents'> Table of contents</a>*"
   ]
  }
 ],
 "metadata": {
  "kernelspec": {
   "display_name": "Python 3",
   "language": "python",
   "name": "python3"
  },
  "language_info": {
   "codemirror_mode": {
    "name": "ipython",
    "version": 3
   },
   "file_extension": ".py",
   "mimetype": "text/x-python",
   "name": "python",
   "nbconvert_exporter": "python",
   "pygments_lexer": "ipython3",
   "version": "3.6.6"
  }
 },
 "nbformat": 4,
 "nbformat_minor": 2
}
