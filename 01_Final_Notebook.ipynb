{
 "cells": [
  {
   "cell_type": "markdown",
   "metadata": {},
   "source": [
    "# Final Project Submission\n",
    "\n",
    "Please fill out:\n",
    "* Student name: BRITTA BETTENDORF\n",
    "* Student pace: FULL TIME\n",
    "* Scheduled project review date/time: Monday, January 14, 2019, 3pm\n",
    "* Instructor name: RAFAEL CARRASCO\n",
    "* Blog post URL: www.datenlage.blog/2019/01/10/classification/"
   ]
  },
  {
   "cell_type": "markdown",
   "metadata": {},
   "source": [
    "# Predicting votes in relation to a basic income\n",
    "\n",
    "### The dataset\n",
    "This study on basic income across Europe was conducted by Dalia Research in April 2016 across 28 EU member states. The sample of n = 9.649 was drawn across all 28 states, taking into account current population distributions with regard to age (14-65 years), gender and region/country. The dataset is available on kaggle: https://www.kaggle.com/daliaresearch/basic-income-survey-european-dataset/home\n",
    "\n",
    "The dataset contains **9649 records and 15 columns**, these include demographics such as age, gender, education etc. as well as opinions towards the effect of a basic income on someone's work choices, the familiarity with this idea, convincing arguments pro and con - and of course the approval for or rejection of a basic income.\n",
    "\n",
    "Our **target** in this notebook is **to predict how people are likely to vote**. The target variable originally consisted of multiple classe, however it was converted to a binary outcome. Thus we have a typical classification task to solve. **Several different classification models such as Logistic Regression, Decision Tree, Random Forest, XGBoost and Support Vector Machine (SVM)** are built, optimized, evaluated and compared.\n",
    "\n",
    "### The OSEMiN-approach\n",
    "\n",
    "The OSEMiN Process is an acronym that rhymes with “awesome” and stands for **Obtain, Scrub, Explore, Model, and iNterpret**. It can be used as a blueprint for working on data problems using machine learning tools. Scrubbing (also named cleaning) and exploring the data is the whole process of preprocessing. Building the model and of course evaluating and optimizing it is the process of machine learning."
   ]
  },
  {
   "cell_type": "markdown",
   "metadata": {},
   "source": [
    "# Table of contents\n",
    "<a id='Table of contents'></a>\n",
    "\n",
    "### <a href='#1. Obtaining and viewing the data'>1. Obtaining and viewing the data</a>\n",
    "\n",
    "### <a href='#2. Preprocessing the data'>2. Preprocessing the data</a>\n",
    "\n",
    "* <a href='#2.1. Renaming columns'>2.1. Renaming columns</a>\n",
    "* <a href='#2.2. Excluding unrelated data'>2.2. Excluding unrelated data</a>\n",
    "* <a href='#2.3. Dealing with misleading data'>2.3. Dealing with misleading data</a>\n",
    "* <a href='#2.4. Dealing with missing data'>2.4. Dealing with missing data</a>\n",
    "* <a href='#2.5. Dealing with duplicate data'>2.5. Dealing with duplicate data</a>\n",
    "* <a href='#2.6. Basic feature extraction and engineering'>2.6. Basic feature extraction and engineering</a>\n",
    "\n",
    "### <a href='#3. Data visualization'>3. Data visualization</a>\n",
    "* <a href='#3.1. Mosaic Plots'>3.1. Mosaic Plots</a>\n",
    "* <a href='#3.2. Bar Charts'>3.2. Bar Charts</a>\n",
    "\n",
    "### <a href='#4. Machine Learning'>4. Machine Learning</a>\n",
    "\n",
    "* <a href='#4.1. Recoding categorical features'>4.1. Recoding categorical features</a>\n",
    "* <a href='#4.2. Training a Logistic Regression'>4.2. Training a Logistic Regression</a>\n",
    "* <a href='#4.3. Training a Random Forest Classifier'>4.3. Training a Random Forest Classifier</a>\n",
    "* <a href='#4.4. Training an XGBoost Classifier'>4.4. Training an XGBoost Classifier</a>\n",
    "* <a href='#4.5. Training a Support Vector Machine'>4.5. Training a Support Vector Machine</a>\n",
    "* <a href='#4.6. Model comparison'>4.6. Model comparison</a>\n",
    "* <a href='#4.7. Balancing the data'>4.7. Balancing the data</a>\n",
    "* <a href='#4.8. Model comparison II'>4.8. Model comparison II</a>\n",
    "\n",
    "### <a href='#5. Conclusions'>5. Conclusions</a>\n",
    "* <a href='#5.1. Feature importance'>5.1. Feature importance</a>\n",
    "* <a href='#5.2. Recommendation'>5.2. Recommendation</a>"
   ]
  },
  {
   "cell_type": "markdown",
   "metadata": {},
   "source": [
    "### 1. Obtaining and viewing the data\n",
    "<a id='1. Obtaining and viewing the data'></a>"
   ]
  },
  {
   "cell_type": "markdown",
   "metadata": {},
   "source": [
    "Let's start by obtaining and investigating the pandas DataFrame:"
   ]
  },
  {
   "cell_type": "code",
   "execution_count": 1,
   "metadata": {},
   "outputs": [],
   "source": [
    "import xgboost as xgb\n",
    "\n",
    "import pandas as pd\n",
    "import numpy as np\n",
    "\n",
    "import matplotlib.pyplot as plt\n",
    "plt.style.use('seaborn')\n",
    "import seaborn as sns\n",
    "from pprint import pprint"
   ]
  },
  {
   "cell_type": "code",
   "execution_count": 2,
   "metadata": {},
   "outputs": [
    {
     "data": {
      "text/html": [
       "<div>\n",
       "<style scoped>\n",
       "    .dataframe tbody tr th:only-of-type {\n",
       "        vertical-align: middle;\n",
       "    }\n",
       "\n",
       "    .dataframe tbody tr th {\n",
       "        vertical-align: top;\n",
       "    }\n",
       "\n",
       "    .dataframe thead th {\n",
       "        text-align: right;\n",
       "    }\n",
       "</style>\n",
       "<table border=\"1\" class=\"dataframe\">\n",
       "  <thead>\n",
       "    <tr style=\"text-align: right;\">\n",
       "      <th></th>\n",
       "      <th>country_code</th>\n",
       "      <th>uuid</th>\n",
       "      <th>age</th>\n",
       "      <th>gender</th>\n",
       "      <th>rural</th>\n",
       "      <th>dem_education_level</th>\n",
       "      <th>dem_full_time_job</th>\n",
       "      <th>dem_has_children</th>\n",
       "      <th>question_bbi_2016wave4_basicincome_awareness</th>\n",
       "      <th>question_bbi_2016wave4_basicincome_vote</th>\n",
       "      <th>question_bbi_2016wave4_basicincome_effect</th>\n",
       "      <th>question_bbi_2016wave4_basicincome_argumentsfor</th>\n",
       "      <th>question_bbi_2016wave4_basicincome_argumentsagainst</th>\n",
       "      <th>age_group</th>\n",
       "      <th>weight</th>\n",
       "    </tr>\n",
       "  </thead>\n",
       "  <tbody>\n",
       "    <tr>\n",
       "      <th>0</th>\n",
       "      <td>AT</td>\n",
       "      <td>f6e7ee00-deac-0133-4de8-0a81e8b09a82</td>\n",
       "      <td>61</td>\n",
       "      <td>male</td>\n",
       "      <td>rural</td>\n",
       "      <td>no</td>\n",
       "      <td>no</td>\n",
       "      <td>no</td>\n",
       "      <td>I know something about it</td>\n",
       "      <td>I would not vote</td>\n",
       "      <td>None of the above</td>\n",
       "      <td>None of the above</td>\n",
       "      <td>None of the above</td>\n",
       "      <td>40_65</td>\n",
       "      <td>1.105.534.474</td>\n",
       "    </tr>\n",
       "    <tr>\n",
       "      <th>1</th>\n",
       "      <td>AT</td>\n",
       "      <td>54f0f1c0-dda1-0133-a559-0a81e8b09a82</td>\n",
       "      <td>57</td>\n",
       "      <td>male</td>\n",
       "      <td>urban</td>\n",
       "      <td>high</td>\n",
       "      <td>yes</td>\n",
       "      <td>yes</td>\n",
       "      <td>I understand it fully</td>\n",
       "      <td>I would probably vote for it</td>\n",
       "      <td>A basic income would not affect my work choices</td>\n",
       "      <td>It increases appreciation for household work a...</td>\n",
       "      <td>It might encourage people to stop working</td>\n",
       "      <td>40_65</td>\n",
       "      <td>1.533.248.826</td>\n",
       "    </tr>\n",
       "    <tr>\n",
       "      <th>2</th>\n",
       "      <td>AT</td>\n",
       "      <td>83127080-da3d-0133-c74f-0a81e8b09a82</td>\n",
       "      <td>32</td>\n",
       "      <td>male</td>\n",
       "      <td>urban</td>\n",
       "      <td>NaN</td>\n",
       "      <td>no</td>\n",
       "      <td>no</td>\n",
       "      <td>I have heard just a little about it</td>\n",
       "      <td>I would not vote</td>\n",
       "      <td>‰Û_ gain additional skills</td>\n",
       "      <td>It creates more equality of opportunity</td>\n",
       "      <td>Foreigners might come to my country and take a...</td>\n",
       "      <td>26_39</td>\n",
       "      <td>0.9775919155</td>\n",
       "    </tr>\n",
       "    <tr>\n",
       "      <th>3</th>\n",
       "      <td>AT</td>\n",
       "      <td>15626d40-db13-0133-ea5c-0a81e8b09a82</td>\n",
       "      <td>45</td>\n",
       "      <td>male</td>\n",
       "      <td>rural</td>\n",
       "      <td>high</td>\n",
       "      <td>yes</td>\n",
       "      <td>yes</td>\n",
       "      <td>I have heard just a little about it</td>\n",
       "      <td>I would probably vote for it</td>\n",
       "      <td>‰Û_ work less</td>\n",
       "      <td>It reduces anxiety about financing basic needs</td>\n",
       "      <td>None of the above</td>\n",
       "      <td>40_65</td>\n",
       "      <td>1.105.534.474</td>\n",
       "    </tr>\n",
       "    <tr>\n",
       "      <th>4</th>\n",
       "      <td>AT</td>\n",
       "      <td>24954a70-db98-0133-4a64-0a81e8b09a82</td>\n",
       "      <td>41</td>\n",
       "      <td>female</td>\n",
       "      <td>urban</td>\n",
       "      <td>high</td>\n",
       "      <td>yes</td>\n",
       "      <td>yes</td>\n",
       "      <td>I have heard just a little about it</td>\n",
       "      <td>I would probably vote for it</td>\n",
       "      <td>None of the above</td>\n",
       "      <td>It reduces anxiety about financing basic needs</td>\n",
       "      <td>It is impossible to finance | It might encoura...</td>\n",
       "      <td>40_65</td>\n",
       "      <td>58.731.136</td>\n",
       "    </tr>\n",
       "  </tbody>\n",
       "</table>\n",
       "</div>"
      ],
      "text/plain": [
       "  country_code                                  uuid  age  gender  rural  \\\n",
       "0           AT  f6e7ee00-deac-0133-4de8-0a81e8b09a82   61    male  rural   \n",
       "1           AT  54f0f1c0-dda1-0133-a559-0a81e8b09a82   57    male  urban   \n",
       "2           AT  83127080-da3d-0133-c74f-0a81e8b09a82   32    male  urban   \n",
       "3           AT  15626d40-db13-0133-ea5c-0a81e8b09a82   45    male  rural   \n",
       "4           AT  24954a70-db98-0133-4a64-0a81e8b09a82   41  female  urban   \n",
       "\n",
       "  dem_education_level dem_full_time_job dem_has_children  \\\n",
       "0                  no                no               no   \n",
       "1                high               yes              yes   \n",
       "2                 NaN                no               no   \n",
       "3                high               yes              yes   \n",
       "4                high               yes              yes   \n",
       "\n",
       "  question_bbi_2016wave4_basicincome_awareness  \\\n",
       "0                    I know something about it   \n",
       "1                        I understand it fully   \n",
       "2          I have heard just a little about it   \n",
       "3          I have heard just a little about it   \n",
       "4          I have heard just a little about it   \n",
       "\n",
       "  question_bbi_2016wave4_basicincome_vote  \\\n",
       "0                        I would not vote   \n",
       "1            I would probably vote for it   \n",
       "2                        I would not vote   \n",
       "3            I would probably vote for it   \n",
       "4            I would probably vote for it   \n",
       "\n",
       "         question_bbi_2016wave4_basicincome_effect  \\\n",
       "0                                None of the above   \n",
       "1  A basic income would not affect my work choices   \n",
       "2                       ‰Û_ gain additional skills   \n",
       "3                                    ‰Û_ work less   \n",
       "4                                None of the above   \n",
       "\n",
       "     question_bbi_2016wave4_basicincome_argumentsfor  \\\n",
       "0                                  None of the above   \n",
       "1  It increases appreciation for household work a...   \n",
       "2            It creates more equality of opportunity   \n",
       "3     It reduces anxiety about financing basic needs   \n",
       "4     It reduces anxiety about financing basic needs   \n",
       "\n",
       "  question_bbi_2016wave4_basicincome_argumentsagainst age_group         weight  \n",
       "0                                  None of the above      40_65  1.105.534.474  \n",
       "1          It might encourage people to stop working      40_65  1.533.248.826  \n",
       "2  Foreigners might come to my country and take a...      26_39   0.9775919155  \n",
       "3                                  None of the above      40_65  1.105.534.474  \n",
       "4  It is impossible to finance | It might encoura...      40_65     58.731.136  "
      ]
     },
     "execution_count": 2,
     "metadata": {},
     "output_type": "execute_result"
    }
   ],
   "source": [
    "# reading in dataset and viewing it\n",
    "df = pd.read_csv('basic_income_dataset_dalia.csv')\n",
    "df.head()"
   ]
  },
  {
   "cell_type": "code",
   "execution_count": 3,
   "metadata": {},
   "outputs": [
    {
     "name": "stdout",
     "output_type": "stream",
     "text": [
      "(9649, 15)\n",
      "\n",
      "<class 'pandas.core.frame.DataFrame'>\n",
      "RangeIndex: 9649 entries, 0 to 9648\n",
      "Data columns (total 15 columns):\n",
      "country_code                                           9649 non-null object\n",
      "uuid                                                   9649 non-null object\n",
      "age                                                    9649 non-null int64\n",
      "gender                                                 9649 non-null object\n",
      "rural                                                  9649 non-null object\n",
      "dem_education_level                                    8986 non-null object\n",
      "dem_full_time_job                                      9649 non-null object\n",
      "dem_has_children                                       9649 non-null object\n",
      "question_bbi_2016wave4_basicincome_awareness           9649 non-null object\n",
      "question_bbi_2016wave4_basicincome_vote                9649 non-null object\n",
      "question_bbi_2016wave4_basicincome_effect              9649 non-null object\n",
      "question_bbi_2016wave4_basicincome_argumentsfor        9649 non-null object\n",
      "question_bbi_2016wave4_basicincome_argumentsagainst    9649 non-null object\n",
      "age_group                                              9649 non-null object\n",
      "weight                                                 9649 non-null object\n",
      "dtypes: int64(1), object(14)\n",
      "memory usage: 1.1+ MB\n",
      "None\n"
     ]
    }
   ],
   "source": [
    "# get the number of rows and columns\n",
    "print(df.shape)\n",
    "\n",
    "# get datetype info\n",
    "print()\n",
    "print(df.info())"
   ]
  },
  {
   "cell_type": "code",
   "execution_count": 4,
   "metadata": {},
   "outputs": [
    {
     "data": {
      "text/html": [
       "<div>\n",
       "<style scoped>\n",
       "    .dataframe tbody tr th:only-of-type {\n",
       "        vertical-align: middle;\n",
       "    }\n",
       "\n",
       "    .dataframe tbody tr th {\n",
       "        vertical-align: top;\n",
       "    }\n",
       "\n",
       "    .dataframe thead th {\n",
       "        text-align: right;\n",
       "    }\n",
       "</style>\n",
       "<table border=\"1\" class=\"dataframe\">\n",
       "  <thead>\n",
       "    <tr style=\"text-align: right;\">\n",
       "      <th></th>\n",
       "      <th>count</th>\n",
       "      <th>mean</th>\n",
       "      <th>std</th>\n",
       "      <th>min</th>\n",
       "      <th>25%</th>\n",
       "      <th>50%</th>\n",
       "      <th>75%</th>\n",
       "      <th>max</th>\n",
       "    </tr>\n",
       "  </thead>\n",
       "  <tbody>\n",
       "    <tr>\n",
       "      <th>age</th>\n",
       "      <td>9649.0</td>\n",
       "      <td>37.712716</td>\n",
       "      <td>12.27063</td>\n",
       "      <td>14.0</td>\n",
       "      <td>28.0</td>\n",
       "      <td>40.0</td>\n",
       "      <td>46.0</td>\n",
       "      <td>65.0</td>\n",
       "    </tr>\n",
       "  </tbody>\n",
       "</table>\n",
       "</div>"
      ],
      "text/plain": [
       "      count       mean       std   min   25%   50%   75%   max\n",
       "age  9649.0  37.712716  12.27063  14.0  28.0  40.0  46.0  65.0"
      ]
     },
     "execution_count": 4,
     "metadata": {},
     "output_type": "execute_result"
    }
   ],
   "source": [
    "# get an overview of the numeric agecolumn (.T = transposing the dataframe's order)\n",
    "df.describe().T"
   ]
  },
  {
   "cell_type": "code",
   "execution_count": 5,
   "metadata": {
    "scrolled": false
   },
   "outputs": [
    {
     "data": {
      "text/html": [
       "<div>\n",
       "<style scoped>\n",
       "    .dataframe tbody tr th:only-of-type {\n",
       "        vertical-align: middle;\n",
       "    }\n",
       "\n",
       "    .dataframe tbody tr th {\n",
       "        vertical-align: top;\n",
       "    }\n",
       "\n",
       "    .dataframe thead th {\n",
       "        text-align: right;\n",
       "    }\n",
       "</style>\n",
       "<table border=\"1\" class=\"dataframe\">\n",
       "  <thead>\n",
       "    <tr style=\"text-align: right;\">\n",
       "      <th></th>\n",
       "      <th>count</th>\n",
       "      <th>unique</th>\n",
       "      <th>top</th>\n",
       "      <th>freq</th>\n",
       "    </tr>\n",
       "  </thead>\n",
       "  <tbody>\n",
       "    <tr>\n",
       "      <th>country_code</th>\n",
       "      <td>9649</td>\n",
       "      <td>28</td>\n",
       "      <td>DE</td>\n",
       "      <td>1420</td>\n",
       "    </tr>\n",
       "    <tr>\n",
       "      <th>uuid</th>\n",
       "      <td>9649</td>\n",
       "      <td>9649</td>\n",
       "      <td>6eff8b00-d965-0133-f5d5-0a81e8b09a82</td>\n",
       "      <td>1</td>\n",
       "    </tr>\n",
       "    <tr>\n",
       "      <th>gender</th>\n",
       "      <td>9649</td>\n",
       "      <td>2</td>\n",
       "      <td>male</td>\n",
       "      <td>5094</td>\n",
       "    </tr>\n",
       "    <tr>\n",
       "      <th>rural</th>\n",
       "      <td>9649</td>\n",
       "      <td>2</td>\n",
       "      <td>urban</td>\n",
       "      <td>6878</td>\n",
       "    </tr>\n",
       "    <tr>\n",
       "      <th>dem_education_level</th>\n",
       "      <td>8986</td>\n",
       "      <td>4</td>\n",
       "      <td>medium</td>\n",
       "      <td>3578</td>\n",
       "    </tr>\n",
       "    <tr>\n",
       "      <th>dem_full_time_job</th>\n",
       "      <td>9649</td>\n",
       "      <td>2</td>\n",
       "      <td>yes</td>\n",
       "      <td>5702</td>\n",
       "    </tr>\n",
       "    <tr>\n",
       "      <th>dem_has_children</th>\n",
       "      <td>9649</td>\n",
       "      <td>2</td>\n",
       "      <td>yes</td>\n",
       "      <td>5049</td>\n",
       "    </tr>\n",
       "    <tr>\n",
       "      <th>question_bbi_2016wave4_basicincome_awareness</th>\n",
       "      <td>9649</td>\n",
       "      <td>4</td>\n",
       "      <td>I know something about it</td>\n",
       "      <td>3389</td>\n",
       "    </tr>\n",
       "    <tr>\n",
       "      <th>question_bbi_2016wave4_basicincome_vote</th>\n",
       "      <td>9649</td>\n",
       "      <td>5</td>\n",
       "      <td>I would probably vote for it</td>\n",
       "      <td>3272</td>\n",
       "    </tr>\n",
       "    <tr>\n",
       "      <th>question_bbi_2016wave4_basicincome_effect</th>\n",
       "      <td>9649</td>\n",
       "      <td>9</td>\n",
       "      <td>A basic income would not affect my work choices</td>\n",
       "      <td>3349</td>\n",
       "    </tr>\n",
       "    <tr>\n",
       "      <th>question_bbi_2016wave4_basicincome_argumentsfor</th>\n",
       "      <td>9649</td>\n",
       "      <td>674</td>\n",
       "      <td>None of the above</td>\n",
       "      <td>2163</td>\n",
       "    </tr>\n",
       "    <tr>\n",
       "      <th>question_bbi_2016wave4_basicincome_argumentsagainst</th>\n",
       "      <td>9649</td>\n",
       "      <td>881</td>\n",
       "      <td>None of the above</td>\n",
       "      <td>1381</td>\n",
       "    </tr>\n",
       "    <tr>\n",
       "      <th>age_group</th>\n",
       "      <td>9649</td>\n",
       "      <td>3</td>\n",
       "      <td>40_65</td>\n",
       "      <td>4896</td>\n",
       "    </tr>\n",
       "    <tr>\n",
       "      <th>weight</th>\n",
       "      <td>9649</td>\n",
       "      <td>854</td>\n",
       "      <td>0.8507042634</td>\n",
       "      <td>116</td>\n",
       "    </tr>\n",
       "  </tbody>\n",
       "</table>\n",
       "</div>"
      ],
      "text/plain": [
       "                                                   count unique  \\\n",
       "country_code                                        9649     28   \n",
       "uuid                                                9649   9649   \n",
       "gender                                              9649      2   \n",
       "rural                                               9649      2   \n",
       "dem_education_level                                 8986      4   \n",
       "dem_full_time_job                                   9649      2   \n",
       "dem_has_children                                    9649      2   \n",
       "question_bbi_2016wave4_basicincome_awareness        9649      4   \n",
       "question_bbi_2016wave4_basicincome_vote             9649      5   \n",
       "question_bbi_2016wave4_basicincome_effect           9649      9   \n",
       "question_bbi_2016wave4_basicincome_argumentsfor     9649    674   \n",
       "question_bbi_2016wave4_basicincome_argumentsaga...  9649    881   \n",
       "age_group                                           9649      3   \n",
       "weight                                              9649    854   \n",
       "\n",
       "                                                                                                top  \\\n",
       "country_code                                                                                     DE   \n",
       "uuid                                                           6eff8b00-d965-0133-f5d5-0a81e8b09a82   \n",
       "gender                                                                                         male   \n",
       "rural                                                                                         urban   \n",
       "dem_education_level                                                                          medium   \n",
       "dem_full_time_job                                                                               yes   \n",
       "dem_has_children                                                                                yes   \n",
       "question_bbi_2016wave4_basicincome_awareness                              I know something about it   \n",
       "question_bbi_2016wave4_basicincome_vote                                I would probably vote for it   \n",
       "question_bbi_2016wave4_basicincome_effect           A basic income would not affect my work choices   \n",
       "question_bbi_2016wave4_basicincome_argumentsfor                                   None of the above   \n",
       "question_bbi_2016wave4_basicincome_argumentsaga...                                None of the above   \n",
       "age_group                                                                                     40_65   \n",
       "weight                                                                                 0.8507042634   \n",
       "\n",
       "                                                    freq  \n",
       "country_code                                        1420  \n",
       "uuid                                                   1  \n",
       "gender                                              5094  \n",
       "rural                                               6878  \n",
       "dem_education_level                                 3578  \n",
       "dem_full_time_job                                   5702  \n",
       "dem_has_children                                    5049  \n",
       "question_bbi_2016wave4_basicincome_awareness        3389  \n",
       "question_bbi_2016wave4_basicincome_vote             3272  \n",
       "question_bbi_2016wave4_basicincome_effect           3349  \n",
       "question_bbi_2016wave4_basicincome_argumentsfor     2163  \n",
       "question_bbi_2016wave4_basicincome_argumentsaga...  1381  \n",
       "age_group                                           4896  \n",
       "weight                                               116  "
      ]
     },
     "execution_count": 5,
     "metadata": {},
     "output_type": "execute_result"
    }
   ],
   "source": [
    "# get an overview of all 14 object columns/features\n",
    "df.describe(include='object').T"
   ]
  },
  {
   "cell_type": "markdown",
   "metadata": {},
   "source": [
    "*Back to: <a href='#Table of contents'> Table of contents</a>*\n",
    "### 2. Preprocessing the data\n",
    "<a id='2. Preprocessing the data'></a>"
   ]
  },
  {
   "cell_type": "markdown",
   "metadata": {},
   "source": [
    "#### 2.1. Renaming columns \n",
    "<a id='2.1. Renaming columns'></a>"
   ]
  },
  {
   "cell_type": "markdown",
   "metadata": {},
   "source": [
    "The column labels are quite wordy. Let's change that:"
   ]
  },
  {
   "cell_type": "code",
   "execution_count": 6,
   "metadata": {},
   "outputs": [],
   "source": [
    "df.rename(columns = {'rural':'city_or_rural',\n",
    "                     'dem_education_level':'education',\n",
    "                     'dem_full_time_job':'full_time_job',\n",
    "                     'dem_has_children':'has_children',\n",
    "                     'question_bbi_2016wave4_basicincome_awareness':'awareness',\n",
    "                     'question_bbi_2016wave4_basicincome_vote':'vote',\n",
    "                     'question_bbi_2016wave4_basicincome_effect':'effect',\n",
    "                     'question_bbi_2016wave4_basicincome_argumentsfor':'arg_for',\n",
    "                     'question_bbi_2016wave4_basicincome_argumentsagainst':'arg_against'},\n",
    "          inplace=True)"
   ]
  },
  {
   "cell_type": "markdown",
   "metadata": {},
   "source": [
    "#### 2.2. Excluding unrelated data\n",
    "<a id='2.2. Excluding unrelated data'></a>"
   ]
  },
  {
   "cell_type": "markdown",
   "metadata": {},
   "source": [
    "Again, our target is to predict how people are likely to vote. Hence, features should be included only if they're suspected to be related to the target variable. Insofar as the goal of supervised classification is to predict the target, features that obviously have nothing to do with the target should be excluded.\n",
    "\n",
    "Both variables the **uuid** and the **weight** (given to obtain census representative results) are irrelevant for our classification task here. As we want to construct our own age groups later, we will also drop the predefined **age group**:"
   ]
  },
  {
   "cell_type": "code",
   "execution_count": 7,
   "metadata": {},
   "outputs": [],
   "source": [
    "df.drop(['uuid', 'weight', 'age_group'], axis=1, inplace=True)"
   ]
  },
  {
   "cell_type": "code",
   "execution_count": 8,
   "metadata": {},
   "outputs": [
    {
     "data": {
      "text/plain": [
       "(9649, 12)"
      ]
     },
     "execution_count": 8,
     "metadata": {},
     "output_type": "execute_result"
    }
   ],
   "source": [
    "# new number of rows and columns\n",
    "df.shape"
   ]
  },
  {
   "cell_type": "markdown",
   "metadata": {},
   "source": [
    "#### 2.3. Dealing with misleading data\n",
    "<a id='2.3. Dealing with misleading data'></a>"
   ]
  },
  {
   "cell_type": "markdown",
   "metadata": {},
   "source": [
    "All data make perfectly sense, there is nothing to correct."
   ]
  },
  {
   "cell_type": "markdown",
   "metadata": {},
   "source": [
    "#### 2.4. Dealing with missing data\n",
    "<a id='2.4. Dealing with missing data'></a>"
   ]
  },
  {
   "cell_type": "code",
   "execution_count": 9,
   "metadata": {
    "scrolled": false
   },
   "outputs": [
    {
     "data": {
      "text/plain": [
       "country_code       0\n",
       "age                0\n",
       "gender             0\n",
       "city_or_rural      0\n",
       "education        663\n",
       "full_time_job      0\n",
       "has_children       0\n",
       "awareness          0\n",
       "vote               0\n",
       "effect             0\n",
       "arg_for            0\n",
       "arg_against        0\n",
       "dtype: int64"
      ]
     },
     "execution_count": 9,
     "metadata": {},
     "output_type": "execute_result"
    }
   ],
   "source": [
    "# checking how much missing data we have in total\n",
    "df.isna().sum()"
   ]
  },
  {
   "cell_type": "code",
   "execution_count": 10,
   "metadata": {},
   "outputs": [
    {
     "data": {
      "text/plain": [
       "0.069"
      ]
     },
     "execution_count": 10,
     "metadata": {},
     "output_type": "execute_result"
    }
   ],
   "source": [
    "# in percentage: 7%\n",
    "round(df['education'].isna().sum() / len(df), 3)"
   ]
  },
  {
   "cell_type": "code",
   "execution_count": 11,
   "metadata": {},
   "outputs": [
    {
     "data": {
      "text/plain": [
       "array(['no', 'high', nan, 'medium', 'low'], dtype=object)"
      ]
     },
     "execution_count": 11,
     "metadata": {},
     "output_type": "execute_result"
    }
   ],
   "source": [
    "df.education.unique()"
   ]
  },
  {
   "cell_type": "code",
   "execution_count": 12,
   "metadata": {},
   "outputs": [
    {
     "data": {
      "text/plain": [
       "medium    3578\n",
       "high      3270\n",
       "low       1815\n",
       "no         323\n",
       "Name: education, dtype: int64"
      ]
     },
     "execution_count": 12,
     "metadata": {},
     "output_type": "execute_result"
    }
   ],
   "source": [
    "df.education.value_counts()"
   ]
  },
  {
   "cell_type": "markdown",
   "metadata": {},
   "source": [
    "We talk about 663 missing values - that is of no small concern! I'm pretty sure that these records are mostly people with **no** formal education who might be ashamed of revealing this or thought this would be the right answer. So I decide to fill the NaN's with the **no formal education**:"
   ]
  },
  {
   "cell_type": "code",
   "execution_count": 13,
   "metadata": {},
   "outputs": [],
   "source": [
    "df['education'].fillna('no', inplace=True)"
   ]
  },
  {
   "cell_type": "code",
   "execution_count": 14,
   "metadata": {},
   "outputs": [
    {
     "data": {
      "text/plain": [
       "0"
      ]
     },
     "execution_count": 14,
     "metadata": {},
     "output_type": "execute_result"
    }
   ],
   "source": [
    "df.isna().sum().sum()"
   ]
  },
  {
   "cell_type": "code",
   "execution_count": 15,
   "metadata": {},
   "outputs": [
    {
     "data": {
      "text/plain": [
       "medium    3578\n",
       "high      3270\n",
       "low       1815\n",
       "no         986\n",
       "Name: education, dtype: int64"
      ]
     },
     "execution_count": 15,
     "metadata": {},
     "output_type": "execute_result"
    }
   ],
   "source": [
    "df.education.value_counts()"
   ]
  },
  {
   "cell_type": "code",
   "execution_count": 16,
   "metadata": {},
   "outputs": [
    {
     "data": {
      "text/plain": [
       "(9649, 12)"
      ]
     },
     "execution_count": 16,
     "metadata": {},
     "output_type": "execute_result"
    }
   ],
   "source": [
    "# new number of rows and columns\n",
    "df.shape"
   ]
  },
  {
   "cell_type": "markdown",
   "metadata": {},
   "source": [
    "#### 2.5. Dealing with duplicate data\n",
    "<a id='2.5. Dealing with duplicate data'></a>"
   ]
  },
  {
   "cell_type": "code",
   "execution_count": 17,
   "metadata": {},
   "outputs": [
    {
     "data": {
      "text/plain": [
       "29"
      ]
     },
     "execution_count": 17,
     "metadata": {},
     "output_type": "execute_result"
    }
   ],
   "source": [
    "# check if there are any duplicates\n",
    "df.duplicated().sum()"
   ]
  },
  {
   "cell_type": "markdown",
   "metadata": {},
   "source": [
    "Indeed, we have some duplicates, so let's drop them:"
   ]
  },
  {
   "cell_type": "code",
   "execution_count": 18,
   "metadata": {},
   "outputs": [],
   "source": [
    "df.drop_duplicates(keep='first', inplace=True)"
   ]
  },
  {
   "cell_type": "code",
   "execution_count": 19,
   "metadata": {},
   "outputs": [
    {
     "data": {
      "text/plain": [
       "(9620, 12)"
      ]
     },
     "execution_count": 19,
     "metadata": {},
     "output_type": "execute_result"
    }
   ],
   "source": [
    "# final number of rows and columns\n",
    "df.shape"
   ]
  },
  {
   "cell_type": "markdown",
   "metadata": {},
   "source": [
    "#### 2.6. Basic feature extraction and engineering\n",
    "<a id='2.6. Basic feature extraction and engineering'></a>"
   ]
  },
  {
   "cell_type": "markdown",
   "metadata": {},
   "source": [
    "1. Someone who \"probably votes for\" the basic income, votes the same way, namely with \"yes\", as someone who \"votes for it\". The same holds for rejection. Our target first and foremost is to predict whether someone is for or against basic income, we're not so much interested in predicting someone who has no opinion and/or won't vote. So let's **simplify our target** and recode the answers and drop all records that won't take any clear action:"
   ]
  },
  {
   "cell_type": "code",
   "execution_count": 20,
   "metadata": {},
   "outputs": [],
   "source": [
    "# recode voting\n",
    "def vote_coding(row):\n",
    "    if row == 'I would vote for it' : return('for')\n",
    "    elif row == 'I would probably vote for it': return('for')\n",
    "    elif row == 'I would vote against it': return('against')\n",
    "    elif row == 'I would probably vote against it': return('against')\n",
    "    elif row == 'I would not vote': return('no_action')\n",
    "\n",
    "# apply function\n",
    "df['vote'] = df['vote'].apply(vote_coding)"
   ]
  },
  {
   "cell_type": "code",
   "execution_count": 21,
   "metadata": {},
   "outputs": [],
   "source": [
    "# drop all records who are not \"for\" or \"against\"\n",
    "df = df.query(\"vote != 'no_action'\")"
   ]
  },
  {
   "cell_type": "code",
   "execution_count": 22,
   "metadata": {},
   "outputs": [
    {
     "data": {
      "text/plain": [
       "for        0.716917\n",
       "against    0.283083\n",
       "Name: vote, dtype: float64"
      ]
     },
     "execution_count": 22,
     "metadata": {},
     "output_type": "execute_result"
    }
   ],
   "source": [
    "df.vote.value_counts(normalize=True)"
   ]
  },
  {
   "cell_type": "markdown",
   "metadata": {},
   "source": [
    "2. Another two columns, **\"awareness\" and \"effect\"**, contain whole sentences that need to be shortened to one word to then be ultimately ready for being processed later:"
   ]
  },
  {
   "cell_type": "code",
   "execution_count": 23,
   "metadata": {},
   "outputs": [],
   "source": [
    "def awareness_coding(row):\n",
    "    if row == 'I understand it fully': return('fully')\n",
    "    elif row == 'I know something about it': return('something')\n",
    "    elif row == 'I have heard just a little about it': return('little')\n",
    "    elif row == 'I have never heard of it': return('nothing')\n",
    "\n",
    "df['awareness'] = df['awareness'].apply(awareness_coding)"
   ]
  },
  {
   "cell_type": "code",
   "execution_count": 24,
   "metadata": {},
   "outputs": [],
   "source": [
    "def effect_coding(row):\n",
    "    if row == '‰Û_ stop working': return('stop_working')\n",
    "    elif row == '‰Û_ work less': return('work_less')\n",
    "    elif row == '‰Û_ do more volunteering work': return('volunteering_work')\n",
    "    elif row == '‰Û_ spend more time with my family': return('more_family_time')\n",
    "    elif row == '‰Û_ look for a different job': return('different_job')\n",
    "    elif row == '‰Û_ work as a freelancer': return('freelancer')\n",
    "    elif row == '‰Û_ gain additional skills': return('additional_skills')\n",
    "    elif row == 'A basic income would not affect my work choices': return('no_effect')\n",
    "    else: return('none_of_the_above')\n",
    "    \n",
    "df['effect'] = df['effect'].apply(effect_coding).astype(str)"
   ]
  },
  {
   "cell_type": "markdown",
   "metadata": {},
   "source": [
    "3. Next, let's build **new age groups** according to the 0.2 percentiles and then drop the numeric \"age\" column:"
   ]
  },
  {
   "cell_type": "code",
   "execution_count": 25,
   "metadata": {},
   "outputs": [
    {
     "data": {
      "text/plain": [
       "count    8471.000000\n",
       "mean       38.111439\n",
       "std        12.139920\n",
       "min        14.000000\n",
       "20%        26.000000\n",
       "40%        35.000000\n",
       "50%        40.000000\n",
       "60%        42.000000\n",
       "80%        49.000000\n",
       "max        65.000000\n",
       "Name: age, dtype: float64"
      ]
     },
     "execution_count": 25,
     "metadata": {},
     "output_type": "execute_result"
    }
   ],
   "source": [
    "df.age.describe(percentiles=[.2, .4, .6, .8])"
   ]
  },
  {
   "cell_type": "code",
   "execution_count": 26,
   "metadata": {},
   "outputs": [],
   "source": [
    "def age_groups(row):\n",
    "    if row <= 26: return('14_26')\n",
    "    elif row <= 35: return('27_35')\n",
    "    elif row <= 42: return('36_42')\n",
    "    elif row <= 49: return('43_49')\n",
    "    else: return('above_50')\n",
    "    \n",
    "df['age_group'] = df['age'].apply(age_groups)\n",
    "df.drop(['age'], axis=1, inplace=True)"
   ]
  },
  {
   "cell_type": "code",
   "execution_count": 27,
   "metadata": {},
   "outputs": [
    {
     "data": {
      "image/png": "[encoded data removed]",
      "text/plain": [
       "<Figure size 576x288 with 1 Axes>"
      ]
     },
     "metadata": {
      "needs_background": "light"
     },
     "output_type": "display_data"
    }
   ],
   "source": [
    "df['age_group'].value_counts(normalize=True).plot(kind='barh', figsize=(8,4));"
   ]
  },
  {
   "cell_type": "markdown",
   "metadata": {},
   "source": [
    "4. Lastly, let's extract the **2 or 3 most mentioned arguments PRO** and the **2 or 3 most mentioned arguments CONTRA** a basic income and build new columns with boolean values:"
   ]
  },
  {
   "cell_type": "code",
   "execution_count": 28,
   "metadata": {},
   "outputs": [
    {
     "data": {
      "image/png": "[encoded data removed]",
      "text/plain": [
       "<Figure size 720x432 with 1 Axes>"
      ]
     },
     "metadata": {
      "needs_background": "light"
     },
     "output_type": "display_data"
    }
   ],
   "source": [
    "arg_for = ['It reduces anxiety about financing basic needs',\n",
    "           'It creates more equality of opportunity',\n",
    "           'It encourages financial independence and self-responsibility',\n",
    "           'It increases solidarity, because it is funded by everyone',\n",
    "           'It reduces bureaucracy and administrative expenses',\n",
    "           'It increases appreciation for household work and volunteering',\n",
    "           'None of the above']\n",
    "\n",
    "# count all arguments\n",
    "counter = [0,0,0,0,0,0,0]\n",
    "\n",
    "for row in df.iterrows():\n",
    "    for i in range(0, len(arg_for)):\n",
    "        if arg_for[i] in row[1]['arg_for'].split('|'):\n",
    "            counter[i] = counter[i] + 1\n",
    "\n",
    "# create a new dictionary \n",
    "dict_keys = ['less anxiety', 'more equality', 'financial independance', \n",
    "             'more solidarity', 'less bureaucracy', 'appreciates volunteering', 'none']\n",
    "\n",
    "arg_dict = {}\n",
    "\n",
    "for i in range(0, len(arg_for)):\n",
    "    arg_dict[dict_keys[i]] = counter[i]\n",
    "\n",
    "# sub-df for counted arguments\n",
    "sub_df = pd.DataFrame(list(arg_dict.items()), columns=['Arguments PRO basic income', 'count'])\n",
    "\n",
    "# plotting\n",
    "sub_df.sort_values(by=['count'], ascending=True).plot(kind='barh', x='Arguments PRO basic income', y='count',  \n",
    "                                                      figsize=(10,6), legend=False, color='darkgrey',\n",
    "                                                      title='Arguments PRO basic income')\n",
    "plt.xlabel('Count'); "
   ]
  },
  {
   "cell_type": "code",
   "execution_count": 29,
   "metadata": {},
   "outputs": [],
   "source": [
    "df['less_anxiety'] = df['arg_for'].str.contains('anxiety')\n",
    "df['more_equality'] = df['arg_for'].str.contains('equality')"
   ]
  },
  {
   "cell_type": "code",
   "execution_count": 30,
   "metadata": {},
   "outputs": [
    {
     "data": {
      "image/png": "[encoded data removed]",
      "text/plain": [
       "<Figure size 720x432 with 1 Axes>"
      ]
     },
     "metadata": {
      "needs_background": "light"
     },
     "output_type": "display_data"
    }
   ],
   "source": [
    "arg_against = ['It is impossible to finance', 'It might encourage people to stop working',\n",
    "               'Foreigners might come to my country and take advantage of the benefit',\n",
    "               'It is against the principle of linking merit and reward', \n",
    "               'Only the people who need it most should get something from the state',\n",
    "               'It increases dependence on the state', 'None of the above']\n",
    "\n",
    "# count all arguments\n",
    "counter = [0,0,0,0,0,0,0]\n",
    "\n",
    "for row in df.iterrows():\n",
    "    for i in range(0, len(arg_against)):\n",
    "        if arg_against[i] in row[1]['arg_against'].split('|'):\n",
    "            counter[i] = counter[i] + 1\n",
    "\n",
    "# create a new dictionary \n",
    "dict_keys = ['impossible to finance', 'people stop working', 'foreigners take advantage', \n",
    "             'against meritocracy', 'only for people in need', 'more dependence on state', 'none']\n",
    "\n",
    "arg_dict = {}\n",
    "\n",
    "for i in range(0, len(arg_against)):\n",
    "    arg_dict[dict_keys[i]] = counter[i]\n",
    "\n",
    "# sub-df for counted arguments\n",
    "sub_df = pd.DataFrame(list(arg_dict.items()), columns=['Arguments AGAINST basic income', 'count'])\n",
    "\n",
    "# plotting\n",
    "sub_df.sort_values(by=['count'], ascending=True).plot(kind='barh', x='Arguments AGAINST basic income', y='count',  \n",
    "                                                      figsize=(10,6), legend=False, color='darkgrey',\n",
    "                                                      title='Arguments AGAINST basic income')\n",
    "plt.xlabel('Count'); "
   ]
  },
  {
   "cell_type": "code",
   "execution_count": 31,
   "metadata": {},
   "outputs": [],
   "source": [
    "df['in_need'] = df['arg_against'].str.contains('need')\n",
    "df['stop_working'] = df['arg_against'].str.contains('stop working')\n",
    "df['too_costly'] = df['arg_against'].str.contains('impossible')"
   ]
  },
  {
   "cell_type": "code",
   "execution_count": 32,
   "metadata": {},
   "outputs": [],
   "source": [
    "df.drop(['arg_for', 'arg_against'], axis=1, inplace=True)"
   ]
  },
  {
   "cell_type": "code",
   "execution_count": 33,
   "metadata": {},
   "outputs": [
    {
     "data": {
      "text/html": [
       "<div>\n",
       "<style scoped>\n",
       "    .dataframe tbody tr th:only-of-type {\n",
       "        vertical-align: middle;\n",
       "    }\n",
       "\n",
       "    .dataframe tbody tr th {\n",
       "        vertical-align: top;\n",
       "    }\n",
       "\n",
       "    .dataframe thead th {\n",
       "        text-align: right;\n",
       "    }\n",
       "</style>\n",
       "<table border=\"1\" class=\"dataframe\">\n",
       "  <thead>\n",
       "    <tr style=\"text-align: right;\">\n",
       "      <th></th>\n",
       "      <th>country_code</th>\n",
       "      <th>gender</th>\n",
       "      <th>city_or_rural</th>\n",
       "      <th>education</th>\n",
       "      <th>full_time_job</th>\n",
       "      <th>has_children</th>\n",
       "      <th>awareness</th>\n",
       "      <th>vote</th>\n",
       "      <th>effect</th>\n",
       "      <th>age_group</th>\n",
       "      <th>less_anxiety</th>\n",
       "      <th>more_equality</th>\n",
       "      <th>in_need</th>\n",
       "      <th>stop_working</th>\n",
       "      <th>too_costly</th>\n",
       "    </tr>\n",
       "  </thead>\n",
       "  <tbody>\n",
       "    <tr>\n",
       "      <th>1</th>\n",
       "      <td>AT</td>\n",
       "      <td>male</td>\n",
       "      <td>urban</td>\n",
       "      <td>high</td>\n",
       "      <td>yes</td>\n",
       "      <td>yes</td>\n",
       "      <td>fully</td>\n",
       "      <td>for</td>\n",
       "      <td>no_effect</td>\n",
       "      <td>above_50</td>\n",
       "      <td>True</td>\n",
       "      <td>False</td>\n",
       "      <td>False</td>\n",
       "      <td>True</td>\n",
       "      <td>False</td>\n",
       "    </tr>\n",
       "    <tr>\n",
       "      <th>3</th>\n",
       "      <td>AT</td>\n",
       "      <td>male</td>\n",
       "      <td>rural</td>\n",
       "      <td>high</td>\n",
       "      <td>yes</td>\n",
       "      <td>yes</td>\n",
       "      <td>little</td>\n",
       "      <td>for</td>\n",
       "      <td>work_less</td>\n",
       "      <td>43_49</td>\n",
       "      <td>True</td>\n",
       "      <td>False</td>\n",
       "      <td>False</td>\n",
       "      <td>False</td>\n",
       "      <td>False</td>\n",
       "    </tr>\n",
       "    <tr>\n",
       "      <th>4</th>\n",
       "      <td>AT</td>\n",
       "      <td>female</td>\n",
       "      <td>urban</td>\n",
       "      <td>high</td>\n",
       "      <td>yes</td>\n",
       "      <td>yes</td>\n",
       "      <td>little</td>\n",
       "      <td>for</td>\n",
       "      <td>none_of_the_above</td>\n",
       "      <td>36_42</td>\n",
       "      <td>True</td>\n",
       "      <td>False</td>\n",
       "      <td>False</td>\n",
       "      <td>True</td>\n",
       "      <td>True</td>\n",
       "    </tr>\n",
       "    <tr>\n",
       "      <th>5</th>\n",
       "      <td>AT</td>\n",
       "      <td>female</td>\n",
       "      <td>rural</td>\n",
       "      <td>high</td>\n",
       "      <td>yes</td>\n",
       "      <td>no</td>\n",
       "      <td>fully</td>\n",
       "      <td>against</td>\n",
       "      <td>no_effect</td>\n",
       "      <td>14_26</td>\n",
       "      <td>True</td>\n",
       "      <td>False</td>\n",
       "      <td>False</td>\n",
       "      <td>True</td>\n",
       "      <td>True</td>\n",
       "    </tr>\n",
       "    <tr>\n",
       "      <th>6</th>\n",
       "      <td>AT</td>\n",
       "      <td>female</td>\n",
       "      <td>urban</td>\n",
       "      <td>medium</td>\n",
       "      <td>no</td>\n",
       "      <td>no</td>\n",
       "      <td>something</td>\n",
       "      <td>for</td>\n",
       "      <td>freelancer</td>\n",
       "      <td>14_26</td>\n",
       "      <td>True</td>\n",
       "      <td>False</td>\n",
       "      <td>False</td>\n",
       "      <td>True</td>\n",
       "      <td>False</td>\n",
       "    </tr>\n",
       "  </tbody>\n",
       "</table>\n",
       "</div>"
      ],
      "text/plain": [
       "  country_code  gender city_or_rural education full_time_job has_children  \\\n",
       "1           AT    male         urban      high           yes          yes   \n",
       "3           AT    male         rural      high           yes          yes   \n",
       "4           AT  female         urban      high           yes          yes   \n",
       "5           AT  female         rural      high           yes           no   \n",
       "6           AT  female         urban    medium            no           no   \n",
       "\n",
       "   awareness     vote             effect age_group  less_anxiety  \\\n",
       "1      fully      for          no_effect  above_50          True   \n",
       "3     little      for          work_less     43_49          True   \n",
       "4     little      for  none_of_the_above     36_42          True   \n",
       "5      fully  against          no_effect     14_26          True   \n",
       "6  something      for         freelancer     14_26          True   \n",
       "\n",
       "   more_equality  in_need  stop_working  too_costly  \n",
       "1          False    False          True       False  \n",
       "3          False    False         False       False  \n",
       "4          False    False          True        True  \n",
       "5          False    False          True        True  \n",
       "6          False    False          True       False  "
      ]
     },
     "execution_count": 33,
     "metadata": {},
     "output_type": "execute_result"
    }
   ],
   "source": [
    "df.head()"
   ]
  },
  {
   "cell_type": "code",
   "execution_count": 34,
   "metadata": {},
   "outputs": [
    {
     "data": {
      "text/plain": [
       "(8471, 15)"
      ]
     },
     "execution_count": 34,
     "metadata": {},
     "output_type": "execute_result"
    }
   ],
   "source": [
    "df.shape"
   ]
  },
  {
   "cell_type": "markdown",
   "metadata": {},
   "source": [
    "*Back to: <a href='#Table of contents'> Table of contents</a>*\n",
    "### 3. Data visualization\n",
    "<a id='3. Data visualization'></a>"
   ]
  },
  {
   "cell_type": "markdown",
   "metadata": {},
   "source": [
    "Between preprocessing and model buildung lies the important step of data visualization. It serves as a sanity check of the features and target and may help explore the relationship between both, which will guide us in model building and assist us in our understanding of the model and predictions. The target is what we are asked to predict: either a \"yes\" to basic income or a \"no\" or indifference. \n",
    "\n",
    "**We should first examine the number of votes falling into each category.**"
   ]
  },
  {
   "cell_type": "code",
   "execution_count": 35,
   "metadata": {},
   "outputs": [
    {
     "data": {
      "image/png": "[encoded data removed]",
      "text/plain": [
       "<Figure size 576x288 with 1 Axes>"
      ]
     },
     "metadata": {
      "needs_background": "light"
     },
     "output_type": "display_data"
    }
   ],
   "source": [
    "df['vote'].value_counts(normalize=True).plot(kind='barh', figsize=(8,4), \n",
    "                                             color=['maroon','midnightblue']);"
   ]
  },
  {
   "cell_type": "markdown",
   "metadata": {},
   "source": [
    "By looking at the number of records we have for each class, we see that we have roughly 70% voting for a basic income vs. 30% against."
   ]
  },
  {
   "cell_type": "markdown",
   "metadata": {},
   "source": [
    "#### 3.1. Mosaic Plots\n",
    "<a id='3.1. Mosaic Plots'></a>"
   ]
  },
  {
   "cell_type": "code",
   "execution_count": 36,
   "metadata": {},
   "outputs": [
    {
     "data": {
      "image/png": "[encoded data removed]",
      "text/plain": [
       "<Figure size 432x288 with 3 Axes>"
      ]
     },
     "metadata": {
      "needs_background": "light"
     },
     "output_type": "display_data"
    }
   ],
   "source": [
    "from statsmodels.graphics.mosaicplot import mosaic\n",
    "\n",
    "mosaic(df, ['gender', 'vote'], gap=0.015, title='Vote vs. Gender - Mosaic Chart');"
   ]
  },
  {
   "cell_type": "code",
   "execution_count": 37,
   "metadata": {},
   "outputs": [
    {
     "data": {
      "image/png": "[encoded data removed]",
      "text/plain": [
       "<Figure size 432x288 with 3 Axes>"
      ]
     },
     "metadata": {
      "needs_background": "light"
     },
     "output_type": "display_data"
    }
   ],
   "source": [
    "mosaic(df, ['city_or_rural', 'vote'], gap=0.015, title='Vote vs. Area - Mosaic Chart');"
   ]
  },
  {
   "cell_type": "code",
   "execution_count": 38,
   "metadata": {},
   "outputs": [
    {
     "data": {
      "image/png": "[encoded data removed]",
      "text/plain": [
       "<Figure size 432x288 with 3 Axes>"
      ]
     },
     "metadata": {
      "needs_background": "light"
     },
     "output_type": "display_data"
    }
   ],
   "source": [
    "mosaic(df, ['full_time_job', 'vote'], gap=0.015, \n",
    "       title='Vote vs. Having a Full Time Job or not - Mosaic Chart');"
   ]
  },
  {
   "cell_type": "code",
   "execution_count": 39,
   "metadata": {},
   "outputs": [
    {
     "data": {
      "image/png": "[encoded data removed]",
      "text/plain": [
       "<Figure size 432x288 with 3 Axes>"
      ]
     },
     "metadata": {
      "needs_background": "light"
     },
     "output_type": "display_data"
    }
   ],
   "source": [
    "mosaic(df, ['has_children', 'vote'], gap=0.015, \n",
    "       title='Vote vs. Having children or not - Mosaic Chart');"
   ]
  },
  {
   "cell_type": "markdown",
   "metadata": {},
   "source": [
    "#### 3.2. Bar Charts\n",
    "<a id='3.2. Bar Charts'></a>"
   ]
  },
  {
   "cell_type": "markdown",
   "metadata": {},
   "source": [
    "##### Vote and Full Time Job"
   ]
  },
  {
   "cell_type": "code",
   "execution_count": 40,
   "metadata": {},
   "outputs": [
    {
     "data": {
      "image/png": "[encoded data removed]",
      "text/plain": [
       "<Figure size 504x288 with 1 Axes>"
      ]
     },
     "metadata": {
      "needs_background": "light"
     },
     "output_type": "display_data"
    }
   ],
   "source": [
    "# Votes depending on having a full-time-job\n",
    "\n",
    "sub_df = df.groupby('full_time_job')['vote'].value_counts(normalize=True).unstack()\n",
    "sub_df.plot(kind='bar', color=['midnightblue', 'maroon'], figsize=(7,4))\n",
    "plt.xlabel(\"Full Time Job\")\n",
    "plt.xticks(rotation=0)\n",
    "plt.ylabel(\"Percentage of Voters\\n\")\n",
    "plt.title('\\nVote depending on having a full-time-job\\n', fontsize=14, fontweight='bold')\n",
    "plt.legend(bbox_to_anchor=(1.2, 1.0), title='Vote');"
   ]
  },
  {
   "cell_type": "code",
   "execution_count": 41,
   "metadata": {},
   "outputs": [
    {
     "data": {
      "image/png": "[encoded data removed]",
      "text/plain": [
       "<Figure size 1008x360 with 2 Axes>"
      ]
     },
     "metadata": {
      "needs_background": "light"
     },
     "output_type": "display_data"
    }
   ],
   "source": [
    "# Votes in GERMANY and GREECE - depending on having a full-time-job\n",
    "\n",
    "fig, (ax1, ax2) = plt.subplots(1, 2, figsize=(14,5))\n",
    "\n",
    "# creating sub-df for Germany\n",
    "sub_df_1 = df[df['country_code']=='DE'].groupby('full_time_job')['vote'].value_counts(normalize=True).unstack()\n",
    "sub_df_1.plot(kind='bar', color = ['midnightblue', 'maroon'], ax=ax1, legend=False)\n",
    "ax1.set_title('\\nVotes in GERMANY depending on having a full-time-job\\n', fontsize=14, fontweight='bold')\n",
    "ax1.set_xlabel(\"Full Time Job\")\n",
    "ax1.set_xticklabels(labels=['No', 'Yes'], rotation=0)\n",
    "ax1.set_ylabel(\"Percentage of Voters\\n\")\n",
    "\n",
    "# creating sub-df for Greece\n",
    "sub_df_2 = df[df['country_code']=='GR'].groupby('full_time_job')['vote'].value_counts(normalize=True).unstack()\n",
    "sub_df_2.plot(kind='bar', color = ['midnightblue', 'maroon'], ax=ax2, legend=False)\n",
    "ax2.set_title('\\nVotes in GREECE depending on having a full-time-job\\n', fontsize=14, fontweight='bold')\n",
    "ax2.set_xlabel(\"Full Time Job\")\n",
    "ax2.set_xticklabels(labels=['No', 'Yes'], rotation=0)\n",
    "ax2.set_ylabel(\"Percentage of Voters\\n\")\n",
    "\n",
    "# create one legend\n",
    "handles, labels = ax2.get_legend_handles_labels()\n",
    "fig.legend(handles, labels, bbox_to_anchor=(0.84, 0.85))\n",
    "plt.show();"
   ]
  },
  {
   "cell_type": "markdown",
   "metadata": {},
   "source": [
    "##### Vote and Education Level"
   ]
  },
  {
   "cell_type": "code",
   "execution_count": 42,
   "metadata": {},
   "outputs": [
    {
     "data": {
      "image/png": "[encoded data removed]",
      "text/plain": [
       "<Figure size 864x360 with 1 Axes>"
      ]
     },
     "metadata": {
      "needs_background": "light"
     },
     "output_type": "display_data"
    }
   ],
   "source": [
    "# Plotting vote depending on education level\n",
    "\n",
    "sub_df = df.groupby('education')['vote'].value_counts(normalize=True).unstack()\n",
    "sub_df.plot(kind='bar', color = ['midnightblue','maroon'], figsize=(12,5))\n",
    "plt.xlabel(\"Education Level\")\n",
    "plt.xticks(rotation=0)\n",
    "plt.ylabel(\"Percentage of Voters\\n\")\n",
    "plt.title('\\nVote depending on education level\\n', fontsize=14, fontweight='bold')\n",
    "plt.legend(bbox_to_anchor=(1.15, 1), title='Vote');"
   ]
  },
  {
   "cell_type": "code",
   "execution_count": 45,
   "metadata": {},
   "outputs": [
    {
     "data": {
      "image/png": "[encoded data removed]",
      "text/plain": [
       "<Figure size 864x360 with 2 Axes>"
      ]
     },
     "metadata": {
      "needs_background": "light"
     },
     "output_type": "display_data"
    }
   ],
   "source": [
    "# Plotting votes in GERMANY and GREECE - depending on education level\n",
    "\n",
    "fig, (ax1, ax2) = plt.subplots(1, 2, figsize=(12,5))\n",
    "\n",
    "# creating sub-df for Germany\n",
    "sub_df_1 = df[df['country_code']=='DE'].groupby('education')['vote'].value_counts(normalize=True).unstack()\n",
    "sub_df_1.plot(kind='bar', color = ['midnightblue', 'maroon'], ax=ax1, legend=False)\n",
    "ax1.set_title('\\nVotes in GERMANY depending on education level\\n', fontsize=14, fontweight='bold')\n",
    "ax1.set_xlabel(\"Education Level\")\n",
    "ax1.set_xticklabels(labels=['High', 'Low', 'Medium', 'No'], rotation=0)\n",
    "ax1.set_ylabel(\"Percentage of Voters\\n\")\n",
    "\n",
    "# creating df for Greece\n",
    "sub_df_2 = df[df['country_code']=='GR'].groupby('education')['vote'].value_counts(normalize=True).unstack()\n",
    "sub_df_2.plot(kind='bar', color = ['midnightblue', 'maroon'], ax=ax2, legend=False)\n",
    "ax2.set_title('\\nVotes in GREECE depending on education level\\n', fontsize=14, fontweight='bold')\n",
    "ax2.set_xlabel(\"Education Level\")\n",
    "ax2.set_xticklabels(labels=['High', 'Low', 'Medium', 'No'], rotation=0)\n",
    "\n",
    "# create one legend\n",
    "handles, labels = ax2.get_legend_handles_labels()\n",
    "fig.legend(handles, labels, bbox_to_anchor=(0.83, 0.85))\n",
    "plt.show();"
   ]
  },
  {
   "cell_type": "code",
   "execution_count": 46,
   "metadata": {
    "scrolled": false
   },
   "outputs": [
    {
     "data": {
      "image/png": "[encoded data removed]",
      "text/plain": [
       "<Figure size 1008x720 with 4 Axes>"
      ]
     },
     "metadata": {
      "needs_background": "light"
     },
     "output_type": "display_data"
    }
   ],
   "source": [
    "# Plotting votes in 4 countries - depending on education level\n",
    "\n",
    "fig, ((ax1, ax2), (ax3, ax4)) = plt.subplots(2, 2, figsize=(14,10))\n",
    "\n",
    "# creating sub-df for Germany\n",
    "sub_df_1 = df[df['country_code']=='DE'].groupby('education')['vote'].value_counts(normalize=True).unstack()\n",
    "sub_df_1.plot(kind='bar', color = ['midnightblue', 'maroon'], ax=ax1, legend=False)\n",
    "ax1.set_title('\\nVotes in GERMANY depending on education level\\n', fontsize=14, fontweight='bold')\n",
    "ax1.set_xlabel(\"Education Level\")\n",
    "ax1.set_xticklabels(labels=['High', 'Low', 'Medium', 'No'], rotation=0)\n",
    "ax1.set_ylabel(\"Percentage of Voters\\n\")\n",
    "\n",
    "# creating sub-df for France\n",
    "sub_df_2 = df[df['country_code']=='FR'].groupby('education')['vote'].value_counts(normalize=True).unstack()\n",
    "sub_df_2.plot(kind='bar', color = ['midnightblue', 'maroon'], ax=ax2, legend=False)\n",
    "ax2.set_title('\\nVotes in France depending on education level\\n', fontsize=14, fontweight='bold')\n",
    "ax2.set_xlabel(\"Education Level\")\n",
    "ax2.set_xticklabels(labels=['High', 'Low', 'Medium', 'No'], rotation=0)\n",
    "ax2.set_ylabel(\"Percentage of Voters\\n\")\n",
    "\n",
    "# creating sub-df for Italy\n",
    "sub_df_3 = df[df['country_code']=='IT'].groupby('education')['vote'].value_counts(normalize=True).unstack()\n",
    "sub_df_3.plot(kind='bar', color = ['midnightblue', 'maroon'], ax=ax3, legend=False)\n",
    "ax3.set_title('\\nVotes in Italy depending on education level\\n', fontsize=14, fontweight='bold')\n",
    "ax3.set_xlabel(\"Education Level\")\n",
    "ax3.set_xticklabels(labels=['High', 'Low', 'Medium', 'No'], rotation=0)\n",
    "\n",
    "# creating sub-df for Slovakia\n",
    "sub_df_4 = df[df['country_code']=='SK'].groupby('education')['vote'].value_counts(normalize=True).unstack()\n",
    "sub_df_4.plot(kind='bar', color = ['midnightblue', 'maroon'], ax=ax4, legend=False)\n",
    "ax4.set_title('\\nVotes in Slovakia depending on education level\\n', fontsize=14, fontweight='bold')\n",
    "ax4.set_xlabel(\"Education Level\")\n",
    "ax4.set_xticklabels(labels=['High', 'Low', 'Medium', 'No'], rotation=0)\n",
    "\n",
    "# create only one legend\n",
    "handles, labels = ax2.get_legend_handles_labels()\n",
    "fig.legend(handles, labels, bbox_to_anchor=(1.0, 0.95))\n",
    "plt.tight_layout()\n",
    "plt.show();"
   ]
  },
  {
   "cell_type": "markdown",
   "metadata": {},
   "source": [
    "##### Vote and Awareness"
   ]
  },
  {
   "cell_type": "code",
   "execution_count": 47,
   "metadata": {},
   "outputs": [
    {
     "data": {
      "image/png": "[encoded data removed]",
      "text/plain": [
       "<Figure size 504x288 with 1 Axes>"
      ]
     },
     "metadata": {
      "needs_background": "light"
     },
     "output_type": "display_data"
    }
   ],
   "source": [
    "# Votes depending on awareness\n",
    "\n",
    "sub_df = df.groupby('awareness')['vote'].value_counts(normalize=True).unstack()\n",
    "sub_df.plot(kind='bar', color=['midnightblue', 'maroon'], figsize=(7,4))\n",
    "plt.xlabel(\"Awareness\")\n",
    "plt.xticks(rotation=0)\n",
    "plt.ylabel(\"Percentage of Voters\\n\")\n",
    "plt.title('\\nVote depending on awareness\\n', fontsize=14, fontweight='bold')\n",
    "plt.legend(bbox_to_anchor=(1.2, 1.0), title='Vote');"
   ]
  },
  {
   "cell_type": "markdown",
   "metadata": {},
   "source": [
    "##### Vote and age group"
   ]
  },
  {
   "cell_type": "code",
   "execution_count": 48,
   "metadata": {},
   "outputs": [
    {
     "data": {
      "image/png": "[encoded data removed]",
      "text/plain": [
       "<Figure size 648x360 with 1 Axes>"
      ]
     },
     "metadata": {
      "needs_background": "light"
     },
     "output_type": "display_data"
    }
   ],
   "source": [
    "# Votes depending on age\n",
    "\n",
    "sub_df = df.groupby('age_group')['vote'].value_counts(normalize=True).unstack()\n",
    "sub_df.plot(kind='bar', color=['midnightblue', 'maroon'], figsize=(9,5))\n",
    "plt.xlabel(\"Age Group\")\n",
    "plt.xticks(rotation=0)\n",
    "plt.ylabel(\"Percentage of Voters\\n\")\n",
    "plt.title('\\nVote depending on age\\n', fontsize=14, fontweight='bold')\n",
    "plt.legend(bbox_to_anchor=(1.2, 1.0), title='Vote');"
   ]
  },
  {
   "cell_type": "markdown",
   "metadata": {},
   "source": [
    "##### Vote and expected effect"
   ]
  },
  {
   "cell_type": "code",
   "execution_count": 49,
   "metadata": {},
   "outputs": [
    {
     "data": {
      "image/png": "[encoded data removed]",
      "text/plain": [
       "<Figure size 1008x360 with 1 Axes>"
      ]
     },
     "metadata": {
      "needs_background": "light"
     },
     "output_type": "display_data"
    }
   ],
   "source": [
    "# Votes depending on effect\n",
    "\n",
    "sub_df = df.groupby('effect')['vote'].value_counts(normalize=True).unstack()\n",
    "sub_df.plot(kind='bar', color=['midnightblue', 'maroon'], figsize=(14,5))\n",
    "plt.xlabel(\"\\nEffect of Basic Income\")\n",
    "plt.xticks(rotation=0)\n",
    "plt.ylabel(\"Percentage of Voters\\n\")\n",
    "plt.title('\\nVote depending on effect\\n', fontsize=14, fontweight='bold')\n",
    "plt.legend(bbox_to_anchor=(1.1, 1.0), title='Vote');"
   ]
  },
  {
   "cell_type": "markdown",
   "metadata": {},
   "source": [
    "##### Vote and arguments"
   ]
  },
  {
   "cell_type": "code",
   "execution_count": 50,
   "metadata": {},
   "outputs": [
    {
     "data": {
      "image/png": "[encoded data removed]",
      "text/plain": [
       "<Figure size 1152x864 with 4 Axes>"
      ]
     },
     "metadata": {
      "needs_background": "light"
     },
     "output_type": "display_data"
    }
   ],
   "source": [
    "# Plotting votes in 4 countries - depending on education level\n",
    "\n",
    "fig, ((ax1, ax2), (ax3, ax4)) = plt.subplots(2, 2, figsize=(16,12))\n",
    "\n",
    "# creating sub-df for those who agree/disagree to the argument:\n",
    "# \"It reduces anxiety about financing basic needs\"\n",
    "sub_df_1 = df.groupby('less_anxiety')['vote'].value_counts(normalize=True).unstack()\n",
    "sub_df_1.plot(kind='bar', color = ['midnightblue', 'maroon'], ax=ax1, legend=False)\n",
    "ax1.set_title('\\nVotes depending on attitude towards reducing_anxiety\\n', fontsize=14, fontweight='bold')\n",
    "ax1.set_xlabel('\"It reduces anxiety about financing basic needs\"')\n",
    "ax1.set_xticklabels(labels=['False', 'True'], rotation=0)\n",
    "ax1.set_ylabel(\"Percentage of Voters\\n\")\n",
    "\n",
    "# creating sub-df for those who agree/disagree to the argument:\n",
    "# \"It creates more equality of opportunity\"\n",
    "sub_df_2 = df.groupby('more_equality')['vote'].value_counts(normalize=True).unstack()\n",
    "sub_df_2.plot(kind='bar', color = ['midnightblue', 'maroon'], ax=ax2, legend=False)\n",
    "ax2.set_title('\\nVotes depending on attitude towards more_equality\\n', fontsize=14, fontweight='bold')\n",
    "ax2.set_xlabel('\"It creates more equality of opportunity\"')\n",
    "ax2.set_xticklabels(labels=['False', 'True'], rotation=0)\n",
    "\n",
    "# creating sub-df for those who agree/disagree to the argument:\n",
    "# \"It might encourage people to stop working\"\n",
    "sub_df_3 = df.groupby('stop_working')['vote'].value_counts(normalize=True).unstack()\n",
    "sub_df_3.plot(kind='bar', color = ['midnightblue', 'maroon'], ax=ax3, legend=False)\n",
    "ax3.set_title('\\nVotes depending on attitude towards people_stop_working\\n', fontsize=14, fontweight='bold')\n",
    "ax3.set_xlabel('\"It might encourage people to stop working\"')\n",
    "ax3.set_xticklabels(labels=['False', 'True'], rotation=0)\n",
    "ax3.set_ylabel(\"Percentage of Voters\\n\")\n",
    "\n",
    "# creating sub-df for those who agree/disagree to the argument:\n",
    "# \"Only the people who need it most should get something from the state\"\n",
    "sub_df_4 = df.groupby('in_need')['vote'].value_counts(normalize=True).unstack()\n",
    "sub_df_4.plot(kind='bar', color = ['midnightblue', 'maroon'], ax=ax4, legend=False)\n",
    "ax4.set_title('\\nVotes depending on attitude towards only_for_people_in_need\\n', fontsize=14, fontweight='bold')\n",
    "ax4.set_xlabel('\"Only the people who need it most should get something from the state\"')\n",
    "ax4.set_xticklabels(labels=['False', 'True'], rotation=0)\n",
    "\n",
    "# create only one legend\n",
    "handles, labels = ax2.get_legend_handles_labels()\n",
    "fig.legend(handles, labels, bbox_to_anchor=(1.0, 0.95))\n",
    "plt.tight_layout()\n",
    "plt.show();"
   ]
  },
  {
   "cell_type": "markdown",
   "metadata": {},
   "source": [
    "*Back to: <a href='#Table of contents'> Table of contents</a>*\n",
    "### 4. Machine Learning\n",
    "<a id='4. Machine Learning'></a>"
   ]
  },
  {
   "cell_type": "markdown",
   "metadata": {},
   "source": [
    "#### 4.1. Recoding categorical features\n",
    "<a id='4.1. Recoding categorical features'></a>"
   ]
  },
  {
   "cell_type": "markdown",
   "metadata": {},
   "source": [
    "Machine learning algorithms generally need all data - including categorical data - in numeric form. To satisfy them, categorical features are converted into separate binary features called dummy variables.\n",
    "Therefore, we have to find a way to represent these variables as numbers before handing them off to the model. One usual way is **One-hot encoding**, which creates a new column for each unique category in a categorical variable. And each observation recieves a 1 in the column for its corresponding category and a 0 in all other new columns. To conduct For one-hot encoding, we use the **pandas get_dummies(df) function.**"
   ]
  },
  {
   "cell_type": "code",
   "execution_count": 134,
   "metadata": {},
   "outputs": [],
   "source": [
    "# Define our features \n",
    "features = df.drop([\"vote\"], axis=1)\n",
    "\n",
    "# Define our target\n",
    "target = df[[\"vote\"]]\n",
    "\n",
    "# create dummy variables\n",
    "features = pd.get_dummies(features)"
   ]
  },
  {
   "cell_type": "code",
   "execution_count": 135,
   "metadata": {},
   "outputs": [
    {
     "name": "stdout",
     "output_type": "stream",
     "text": [
      "(8471, 63)\n"
     ]
    },
    {
     "data": {
      "text/html": [
       "<div>\n",
       "<style scoped>\n",
       "    .dataframe tbody tr th:only-of-type {\n",
       "        vertical-align: middle;\n",
       "    }\n",
       "\n",
       "    .dataframe tbody tr th {\n",
       "        vertical-align: top;\n",
       "    }\n",
       "\n",
       "    .dataframe thead th {\n",
       "        text-align: right;\n",
       "    }\n",
       "</style>\n",
       "<table border=\"1\" class=\"dataframe\">\n",
       "  <thead>\n",
       "    <tr style=\"text-align: right;\">\n",
       "      <th></th>\n",
       "      <th>less_anxiety</th>\n",
       "      <th>more_equality</th>\n",
       "      <th>in_need</th>\n",
       "      <th>stop_working</th>\n",
       "      <th>too_costly</th>\n",
       "      <th>country_code_AT</th>\n",
       "      <th>country_code_BE</th>\n",
       "      <th>country_code_BG</th>\n",
       "      <th>country_code_CY</th>\n",
       "      <th>country_code_CZ</th>\n",
       "      <th>...</th>\n",
       "      <th>effect_no_effect</th>\n",
       "      <th>effect_none_of_the_above</th>\n",
       "      <th>effect_stop_working</th>\n",
       "      <th>effect_volunteering_work</th>\n",
       "      <th>effect_work_less</th>\n",
       "      <th>age_group_14_26</th>\n",
       "      <th>age_group_27_35</th>\n",
       "      <th>age_group_36_42</th>\n",
       "      <th>age_group_43_49</th>\n",
       "      <th>age_group_above_50</th>\n",
       "    </tr>\n",
       "  </thead>\n",
       "  <tbody>\n",
       "    <tr>\n",
       "      <th>9647</th>\n",
       "      <td>True</td>\n",
       "      <td>True</td>\n",
       "      <td>False</td>\n",
       "      <td>False</td>\n",
       "      <td>False</td>\n",
       "      <td>0</td>\n",
       "      <td>0</td>\n",
       "      <td>0</td>\n",
       "      <td>0</td>\n",
       "      <td>0</td>\n",
       "      <td>...</td>\n",
       "      <td>1</td>\n",
       "      <td>0</td>\n",
       "      <td>0</td>\n",
       "      <td>0</td>\n",
       "      <td>0</td>\n",
       "      <td>0</td>\n",
       "      <td>0</td>\n",
       "      <td>0</td>\n",
       "      <td>1</td>\n",
       "      <td>0</td>\n",
       "    </tr>\n",
       "    <tr>\n",
       "      <th>9648</th>\n",
       "      <td>False</td>\n",
       "      <td>False</td>\n",
       "      <td>False</td>\n",
       "      <td>True</td>\n",
       "      <td>False</td>\n",
       "      <td>0</td>\n",
       "      <td>0</td>\n",
       "      <td>0</td>\n",
       "      <td>0</td>\n",
       "      <td>0</td>\n",
       "      <td>...</td>\n",
       "      <td>1</td>\n",
       "      <td>0</td>\n",
       "      <td>0</td>\n",
       "      <td>0</td>\n",
       "      <td>0</td>\n",
       "      <td>0</td>\n",
       "      <td>0</td>\n",
       "      <td>0</td>\n",
       "      <td>0</td>\n",
       "      <td>1</td>\n",
       "    </tr>\n",
       "  </tbody>\n",
       "</table>\n",
       "<p>2 rows × 63 columns</p>\n",
       "</div>"
      ],
      "text/plain": [
       "      less_anxiety  more_equality  in_need  stop_working  too_costly  \\\n",
       "9647          True           True    False         False       False   \n",
       "9648         False          False    False          True       False   \n",
       "\n",
       "      country_code_AT  country_code_BE  country_code_BG  country_code_CY  \\\n",
       "9647                0                0                0                0   \n",
       "9648                0                0                0                0   \n",
       "\n",
       "      country_code_CZ         ...          effect_no_effect  \\\n",
       "9647                0         ...                         1   \n",
       "9648                0         ...                         1   \n",
       "\n",
       "      effect_none_of_the_above  effect_stop_working  effect_volunteering_work  \\\n",
       "9647                         0                    0                         0   \n",
       "9648                         0                    0                         0   \n",
       "\n",
       "      effect_work_less  age_group_14_26  age_group_27_35  age_group_36_42  \\\n",
       "9647                 0                0                0                0   \n",
       "9648                 0                0                0                0   \n",
       "\n",
       "      age_group_43_49  age_group_above_50  \n",
       "9647                1                   0  \n",
       "9648                0                   1  \n",
       "\n",
       "[2 rows x 63 columns]"
      ]
     },
     "execution_count": 135,
     "metadata": {},
     "output_type": "execute_result"
    }
   ],
   "source": [
    "print(features.shape)\n",
    "features.tail(2)"
   ]
  },
  {
   "cell_type": "code",
   "execution_count": 136,
   "metadata": {
    "scrolled": false
   },
   "outputs": [
    {
     "name": "stdout",
     "output_type": "stream",
     "text": [
      "(8471, 1)\n"
     ]
    }
   ],
   "source": [
    "print(target.shape)"
   ]
  },
  {
   "cell_type": "markdown",
   "metadata": {},
   "source": [
    "*Back to: <a href='#Table of contents'> Table of contents</a>*\n",
    "#### 4.2. Training a Logistic Regression\n",
    "<a id='4.2. Training a Logistic Regression'></a>"
   ]
  },
  {
   "cell_type": "markdown",
   "metadata": {},
   "source": [
    "When approaching a supervised learning problem like ours, we should always use multiple algorithms and compare the performances of the various models. Sometimes simplest is best, and so we will start by applying logistic regression. Logistic regression makes use of what's called the logistic function to calculate the odds that a given data point belongs to a given class. Once we have more models, we can compare them on a few performance metrics.\n",
    "\n",
    "Before we start, let's prepare our work and import all libraries we need for classifying our data:"
   ]
  },
  {
   "cell_type": "code",
   "execution_count": 137,
   "metadata": {},
   "outputs": [],
   "source": [
    "# Import train_test_split function\n",
    "from sklearn.model_selection import train_test_split\n",
    "\n",
    "# Import LogisticRegression\n",
    "from sklearn.linear_model import LogisticRegression\n",
    "\n",
    "# import metrics\n",
    "from sklearn.metrics import classification_report, accuracy_score, roc_auc_score\n",
    "\n",
    "# suppress all warnings\n",
    "import warnings\n",
    "warnings.filterwarnings(\"ignore\")"
   ]
  },
  {
   "cell_type": "code",
   "execution_count": 138,
   "metadata": {},
   "outputs": [],
   "source": [
    "# Split our data\n",
    "X_train, X_test, y_train, y_test = train_test_split(features, target, test_size=0.2)"
   ]
  },
  {
   "cell_type": "code",
   "execution_count": 58,
   "metadata": {},
   "outputs": [
    {
     "name": "stdout",
     "output_type": "stream",
     "text": [
      "Logistic Regression\n",
      "------------------------\n",
      "Training Accuracy: 77.6%\n",
      "Test Accuracy:     77.88%\n"
     ]
    }
   ],
   "source": [
    "# Instantiate the logistic regression\n",
    "logreg = LogisticRegression()\n",
    "\n",
    "# Train\n",
    "logreg.fit(X_train, y_train)\n",
    "\n",
    "# Predict\n",
    "train_preds = logreg.predict(X_train)\n",
    "test_preds = logreg.predict(X_test)\n",
    "\n",
    "# Evaluate\n",
    "train_accuracy_logreg = accuracy_score(y_train, train_preds)\n",
    "test_accuracy_logreg = accuracy_score(y_test, test_preds)\n",
    "report_logreg = classification_report(y_test, test_preds)\n",
    "\n",
    "print(\"Logistic Regression\")\n",
    "print(\"------------------------\")\n",
    "print(f\"Training Accuracy: {(train_accuracy_logreg * 100):.4}%\")\n",
    "print(f\"Test Accuracy:     {(test_accuracy_logreg * 100):.4}%\")\n",
    "\n",
    "# store accuracy in a new dataframe\n",
    "score_logreg = ['Logistic Regression', train_accuracy_logreg, test_accuracy_logreg]\n",
    "models = pd.DataFrame([score_logreg])"
   ]
  },
  {
   "cell_type": "markdown",
   "metadata": {},
   "source": [
    "#### 4.3. Training a Random Forest Classifier\n",
    "<a id='4.3. Training a Random Forest Classifier'></a>"
   ]
  },
  {
   "cell_type": "markdown",
   "metadata": {},
   "source": [
    "Next, let's run a Random Forest Classifier with predefined specifications or \"hyperparameters\". Some of the important ones to tune for a Random Forest are:\n",
    "\n",
    "* n_estimators = number of trees\n",
    "* criterion = splitting criterion (for maximizing the information gain from each split)\n",
    "* max_features = max number of features considered for splitting a node\n",
    "* max_depth = max number of levels in each decision tree\n",
    "* min_samples_split = min samples needed to make a split"
   ]
  },
  {
   "cell_type": "code",
   "execution_count": 62,
   "metadata": {},
   "outputs": [],
   "source": [
    "# Import random forest classifier\n",
    "from sklearn.ensemble import RandomForestClassifier\n",
    "from sklearn.model_selection import GridSearchCV"
   ]
  },
  {
   "cell_type": "code",
   "execution_count": 64,
   "metadata": {},
   "outputs": [],
   "source": [
    "# creating a baseline\n",
    "forest = RandomForestClassifier()"
   ]
  },
  {
   "cell_type": "code",
   "execution_count": 65,
   "metadata": {},
   "outputs": [
    {
     "name": "stdout",
     "output_type": "stream",
     "text": [
      "{'criterion': 'gini', 'max_depth': 10, 'max_features': 9, 'min_samples_split': 4, 'n_estimators': 120}\n"
     ]
    }
   ],
   "source": [
    "# Create Grid              \n",
    "param_grid = {'n_estimators': [80, 100, 120],\n",
    "              'criterion': ['gini', 'entropy'],\n",
    "              'max_features': [5, 7, 9],         \n",
    "              'max_depth': [5, 8, 10], \n",
    "              'min_samples_split': [2, 3, 4]}\n",
    "\n",
    "# Instantiate the tuned random forest\n",
    "forest_grid_search = GridSearchCV(forest, param_grid, cv=3, n_jobs=-1)\n",
    "\n",
    "# Train the tuned random forest\n",
    "forest_grid_search.fit(X_train, y_train)\n",
    "\n",
    "# print best estimator parameters found during the grid search\n",
    "print(forest_grid_search.best_params_)"
   ]
  },
  {
   "cell_type": "code",
   "execution_count": 66,
   "metadata": {},
   "outputs": [
    {
     "name": "stdout",
     "output_type": "stream",
     "text": [
      "Random Forest\n",
      "-------------------------\n",
      "Training Accuracy: 80.9%\n",
      "Test Accuracy:     76.76%\n"
     ]
    }
   ],
   "source": [
    "# Instantiate the tuned random forest with the best found parameters\n",
    "forest = RandomForestClassifier(n_estimators=120, criterion='gini', max_features=9, \n",
    "                                max_depth=10, min_samples_split=4, random_state=4)\n",
    "\n",
    "# Train the random forest\n",
    "forest.fit(X_train, y_train)\n",
    "\n",
    "# Predict\n",
    "train_preds = forest.predict(X_train)\n",
    "test_preds = forest.predict(X_test)\n",
    "\n",
    "# Evaluate\n",
    "train_accuracy_forest = accuracy_score(y_train, train_preds)\n",
    "test_accuracy_forest = accuracy_score(y_test, test_preds)\n",
    "report_forest = classification_report(y_test, test_preds)\n",
    "\n",
    "print(\"Random Forest\")\n",
    "print(\"-------------------------\")\n",
    "print(f\"Training Accuracy: {(train_accuracy_forest * 100):.4}%\")\n",
    "print(f\"Test Accuracy:     {(test_accuracy_forest * 100):.4}%\")\n",
    "\n",
    "# append accuracy score to our dataframe\n",
    "score_forest = ['Random Forest', train_accuracy_forest, test_accuracy_forest]\n",
    "models = models.append([score_forest])"
   ]
  },
  {
   "cell_type": "markdown",
   "metadata": {},
   "source": [
    "#### 4.4. Training an XGBoost Classifier\n",
    "<a id='4.4. Training an XGBoost Classifier'></a>"
   ]
  },
  {
   "cell_type": "markdown",
   "metadata": {},
   "source": [
    "Gradient Boosting is one of the most powerful concepts in machine learning right now. The term Gradient Boosting refers to a class of algorithms rather than any single one. The version with the highest performance right now is XGBoost, which is short for eXtreme Gradient Boosting. XGBoost is a great choice for classification tasks. It provides best-in-class performance compared to other classification algorithms (with the exception of Deep Learning)."
   ]
  },
  {
   "cell_type": "markdown",
   "metadata": {},
   "source": [
    "Some of the important hyperparameters to tune for an XGBoost are:\n",
    "\n",
    "* n_estimators = number of trees\n",
    "* learning_rate = rate at which our model learns patterns in data (After every round, it shrinks the feature weights to reach the best optimum:)\n",
    "* max_depth = max number of levels in each decision tree\n",
    "* colsample_bytree = similar to max_features (max number of features considered for splitting a node)\n",
    "* gamma = specifies the minimum loss reduction required to make a split"
   ]
  },
  {
   "cell_type": "code",
   "execution_count": 67,
   "metadata": {},
   "outputs": [],
   "source": [
    "# creating a baseline\n",
    "booster = xgb.XGBClassifier()"
   ]
  },
  {
   "cell_type": "code",
   "execution_count": 68,
   "metadata": {},
   "outputs": [
    {
     "name": "stdout",
     "output_type": "stream",
     "text": [
      "{'colsample_bytree': 0.7, 'gamma': 0.1, 'learning_rate': 0.1, 'max_depth': 5, 'n_estimators': 100}\n"
     ]
    }
   ],
   "source": [
    "# Create Grid\n",
    "param_grid = {'n_estimators': [100],\n",
    "              'learning_rate': [0.05, 0.1], \n",
    "              'max_depth': [3, 5, 10],\n",
    "              'colsample_bytree': [0.7, 1],\n",
    "              'gamma': [0.0, 0.1, 0.2]}\n",
    "\n",
    "# Instantiate the tuned random forest\n",
    "booster_grid_search = GridSearchCV(booster, param_grid, scoring='accuracy', cv=3, n_jobs=-1)\n",
    "\n",
    "# Train the tuned random forest\n",
    "booster_grid_search.fit(X_train, y_train)\n",
    "\n",
    "# print best estimator parameters found during the grid search\n",
    "print(booster_grid_search.best_params_)"
   ]
  },
  {
   "cell_type": "code",
   "execution_count": 69,
   "metadata": {},
   "outputs": [
    {
     "name": "stdout",
     "output_type": "stream",
     "text": [
      "XGBoost\n",
      "-------------------------\n",
      "Training Accuracy: 81.6%\n",
      "Test Accuracy:     77.99%\n"
     ]
    }
   ],
   "source": [
    "# Instantiate tuned xgboost\n",
    "booster = xgb.XGBClassifier(learning_rate=0.1, max_depth=5, n_estimators=100,\n",
    "                            colsample_bytree=0.7, gamma=0.1, random_state=4)\n",
    "\n",
    "# Train\n",
    "booster.fit(X_train, y_train)\n",
    "\n",
    "# Predict\n",
    "train_preds = booster.predict(X_train)\n",
    "test_preds = booster.predict(X_test)\n",
    "\n",
    "# Evaluate\n",
    "train_accuracy_booster = accuracy_score(y_train, train_preds)\n",
    "test_accuracy_booster = accuracy_score(y_test, test_preds)\n",
    "report_booster = classification_report(y_test, test_preds)\n",
    "\n",
    "print(\"XGBoost\")\n",
    "print(\"-------------------------\")\n",
    "print(f\"Training Accuracy: {(train_accuracy_booster * 100):.4}%\")\n",
    "print(f\"Test Accuracy:     {(test_accuracy_booster * 100):.4}%\")\n",
    "\n",
    "# append accuracy score to our dataframe\n",
    "score_booster = ['XGBoost', train_accuracy_booster, test_accuracy_booster]\n",
    "models = models.append([score_booster])"
   ]
  },
  {
   "cell_type": "markdown",
   "metadata": {},
   "source": [
    "#### 4.5. Training a Support Vector Machine\n",
    "<a id='4.5. Training a Support Vector Machine'></a>"
   ]
  },
  {
   "cell_type": "markdown",
   "metadata": {},
   "source": [
    "Another fast and popular classification technique is: Support Vector Machines (also referred to as SVMs). The idea behind SVMs is that we perform classification by finding the seperation line or \"hyperplane\" that best differates between two classes."
   ]
  },
  {
   "cell_type": "code",
   "execution_count": 70,
   "metadata": {},
   "outputs": [],
   "source": [
    "from sklearn import svm"
   ]
  },
  {
   "cell_type": "code",
   "execution_count": 71,
   "metadata": {},
   "outputs": [
    {
     "name": "stdout",
     "output_type": "stream",
     "text": [
      "Support Vector Machine\n",
      "-------------------------\n",
      "Training Accuracy: 77.94%\n",
      "Test Accuracy:     77.46%\n"
     ]
    }
   ],
   "source": [
    "# instantiate Support Vector Classification\n",
    "svm = svm.SVC(kernel='rbf', random_state=4)\n",
    "\n",
    "# Train\n",
    "svm.fit(X_train, y_train)\n",
    "\n",
    "# Predict\n",
    "train_preds = svm.predict(X_train)\n",
    "test_preds = svm.predict(X_test)\n",
    "\n",
    "# Evaluate\n",
    "train_accuracy_svm = accuracy_score(y_train, train_preds)\n",
    "test_accuracy_svm = accuracy_score(y_test, test_preds)\n",
    "report_svm = classification_report(y_test, test_preds)\n",
    "\n",
    "print(\"Support Vector Machine\")\n",
    "print(\"-------------------------\")\n",
    "print(f\"Training Accuracy: {(train_accuracy_svm * 100):.4}%\")\n",
    "print(f\"Test Accuracy:     {(test_accuracy_svm * 100):.4}%\")\n",
    "\n",
    "# append accuracy score to our dataframe\n",
    "score_svm = ['Support Vector Machine', train_accuracy_svm, test_accuracy_svm]\n",
    "models = models.append([score_svm])"
   ]
  },
  {
   "cell_type": "markdown",
   "metadata": {},
   "source": [
    "*Back to: <a href='#Table of contents'> Table of contents</a>*\n",
    "#### 4.6. Model comparison\n",
    "<a id='4.6. Model comparison'></a>"
   ]
  },
  {
   "cell_type": "markdown",
   "metadata": {},
   "source": [
    "Now that we run several models, let's check the testing accuracy we built on the go and the classification reports:"
   ]
  },
  {
   "cell_type": "code",
   "execution_count": 72,
   "metadata": {},
   "outputs": [
    {
     "data": {
      "text/html": [
       "<div>\n",
       "<style scoped>\n",
       "    .dataframe tbody tr th:only-of-type {\n",
       "        vertical-align: middle;\n",
       "    }\n",
       "\n",
       "    .dataframe tbody tr th {\n",
       "        vertical-align: top;\n",
       "    }\n",
       "\n",
       "    .dataframe thead th {\n",
       "        text-align: right;\n",
       "    }\n",
       "</style>\n",
       "<table border=\"1\" class=\"dataframe\">\n",
       "  <thead>\n",
       "    <tr style=\"text-align: right;\">\n",
       "      <th></th>\n",
       "      <th>0</th>\n",
       "      <th>1</th>\n",
       "      <th>2</th>\n",
       "    </tr>\n",
       "  </thead>\n",
       "  <tbody>\n",
       "    <tr>\n",
       "      <th>0</th>\n",
       "      <td>Logistic Regression</td>\n",
       "      <td>0.775974</td>\n",
       "      <td>0.778761</td>\n",
       "    </tr>\n",
       "    <tr>\n",
       "      <th>0</th>\n",
       "      <td>Random Forest</td>\n",
       "      <td>0.809032</td>\n",
       "      <td>0.767552</td>\n",
       "    </tr>\n",
       "    <tr>\n",
       "      <th>0</th>\n",
       "      <td>XGBoost</td>\n",
       "      <td>0.815968</td>\n",
       "      <td>0.779941</td>\n",
       "    </tr>\n",
       "    <tr>\n",
       "      <th>0</th>\n",
       "      <td>Support Vector Machine</td>\n",
       "      <td>0.779368</td>\n",
       "      <td>0.774631</td>\n",
       "    </tr>\n",
       "  </tbody>\n",
       "</table>\n",
       "</div>"
      ],
      "text/plain": [
       "                        0         1         2\n",
       "0     Logistic Regression  0.775974  0.778761\n",
       "0           Random Forest  0.809032  0.767552\n",
       "0                 XGBoost  0.815968  0.779941\n",
       "0  Support Vector Machine  0.779368  0.774631"
      ]
     },
     "execution_count": 72,
     "metadata": {},
     "output_type": "execute_result"
    }
   ],
   "source": [
    "models"
   ]
  },
  {
   "cell_type": "code",
   "execution_count": 73,
   "metadata": {},
   "outputs": [
    {
     "data": {
      "text/html": [
       "<div>\n",
       "<style scoped>\n",
       "    .dataframe tbody tr th:only-of-type {\n",
       "        vertical-align: middle;\n",
       "    }\n",
       "\n",
       "    .dataframe tbody tr th {\n",
       "        vertical-align: top;\n",
       "    }\n",
       "\n",
       "    .dataframe thead th {\n",
       "        text-align: right;\n",
       "    }\n",
       "</style>\n",
       "<table border=\"1\" class=\"dataframe\">\n",
       "  <thead>\n",
       "    <tr style=\"text-align: right;\">\n",
       "      <th></th>\n",
       "      <th>Training Accuracy</th>\n",
       "      <th>Testing Accuracy</th>\n",
       "    </tr>\n",
       "    <tr>\n",
       "      <th>Classifier</th>\n",
       "      <th></th>\n",
       "      <th></th>\n",
       "    </tr>\n",
       "  </thead>\n",
       "  <tbody>\n",
       "    <tr>\n",
       "      <th>XGBoost</th>\n",
       "      <td>0.815968</td>\n",
       "      <td>0.779941</td>\n",
       "    </tr>\n",
       "    <tr>\n",
       "      <th>Logistic Regression</th>\n",
       "      <td>0.775974</td>\n",
       "      <td>0.778761</td>\n",
       "    </tr>\n",
       "    <tr>\n",
       "      <th>Support Vector Machine</th>\n",
       "      <td>0.779368</td>\n",
       "      <td>0.774631</td>\n",
       "    </tr>\n",
       "    <tr>\n",
       "      <th>Random Forest</th>\n",
       "      <td>0.809032</td>\n",
       "      <td>0.767552</td>\n",
       "    </tr>\n",
       "  </tbody>\n",
       "</table>\n",
       "</div>"
      ],
      "text/plain": [
       "                        Training Accuracy  Testing Accuracy\n",
       "Classifier                                                 \n",
       "XGBoost                          0.815968          0.779941\n",
       "Logistic Regression              0.775974          0.778761\n",
       "Support Vector Machine           0.779368          0.774631\n",
       "Random Forest                    0.809032          0.767552"
      ]
     },
     "execution_count": 73,
     "metadata": {},
     "output_type": "execute_result"
    }
   ],
   "source": [
    "models.columns = ['Classifier', 'Training Accuracy', \"Testing Accuracy\"]\n",
    "models.set_index(['Classifier'], inplace=True)\n",
    "# sort by testing accuracy\n",
    "models.sort_values(['Testing Accuracy'], ascending=[False])"
   ]
  },
  {
   "cell_type": "code",
   "execution_count": 74,
   "metadata": {},
   "outputs": [
    {
     "name": "stdout",
     "output_type": "stream",
     "text": [
      "Classification Report XGBoost: \n",
      "               precision    recall  f1-score   support\n",
      "\n",
      "     against       0.68      0.40      0.50       472\n",
      "         for       0.80      0.93      0.86      1223\n",
      "\n",
      "   micro avg       0.78      0.78      0.78      1695\n",
      "   macro avg       0.74      0.66      0.68      1695\n",
      "weighted avg       0.77      0.78      0.76      1695\n",
      "\n",
      "------------------------------------------------------\n",
      "Classification Report Logistic Regression: \n",
      "               precision    recall  f1-score   support\n",
      "\n",
      "     against       0.67      0.41      0.51       472\n",
      "         for       0.80      0.92      0.86      1223\n",
      "\n",
      "   micro avg       0.78      0.78      0.78      1695\n",
      "   macro avg       0.73      0.67      0.68      1695\n",
      "weighted avg       0.76      0.78      0.76      1695\n",
      "\n",
      "------------------------------------------------------\n",
      "Classification Report SVM: \n",
      "               precision    recall  f1-score   support\n",
      "\n",
      "     against       0.75      0.28      0.41       472\n",
      "         for       0.78      0.96      0.86      1223\n",
      "\n",
      "   micro avg       0.77      0.77      0.77      1695\n",
      "   macro avg       0.77      0.62      0.64      1695\n",
      "weighted avg       0.77      0.77      0.74      1695\n",
      "\n",
      "------------------------------------------------------\n",
      "Classification Report Random Forest: \n",
      "               precision    recall  f1-score   support\n",
      "\n",
      "     against       0.74      0.25      0.38       472\n",
      "         for       0.77      0.97      0.86      1223\n",
      "\n",
      "   micro avg       0.77      0.77      0.77      1695\n",
      "   macro avg       0.76      0.61      0.62      1695\n",
      "weighted avg       0.76      0.77      0.72      1695\n",
      "\n"
     ]
    }
   ],
   "source": [
    "print('Classification Report XGBoost: \\n', report_booster)\n",
    "print('------------------------------------------------------')\n",
    "print('Classification Report Logistic Regression: \\n', report_logreg)\n",
    "print('------------------------------------------------------')\n",
    "print('Classification Report SVM: \\n', report_svm)\n",
    "print('------------------------------------------------------')\n",
    "print('Classification Report Random Forest: \\n', report_forest)"
   ]
  },
  {
   "cell_type": "markdown",
   "metadata": {},
   "source": [
    "#### 4.7. Balancing the data\n",
    "<a id='4.7. Balancing the data'></a>"
   ]
  },
  {
   "cell_type": "markdown",
   "metadata": {},
   "source": [
    "All our models do similarly well, boasting an **weighted average** F1 score between 72% to 76%. However, looking at our classification report, we can see that *for* votes are fairly well classified, but *against* votes are disproportionately misclassified.\n",
    "\n",
    "Why might this be the case? Well, just by looking at the number of data points we have for each class, we see that we have far more data points for the *for* votes than for *against* votes, potentially skewing our model's ability to distinguish between classes. This also tells us that most of our model's accuracy is driven by its ability to classify just *for* votes, which is less than ideal.\n",
    "\n",
    "To account for our imbalanced dataset, we can use an oversampling algorithm called SMOTE (Synthetic Minority Oversampling Technique). SMOTE uses the nearest neighbors of observations to create synthetic data. Important to know is that we oversample **only on the training data** - that way none of the information in the validation data is being used to create synthetic observations."
   ]
  },
  {
   "cell_type": "code",
   "execution_count": 170,
   "metadata": {},
   "outputs": [],
   "source": [
    "from imblearn.over_sampling import SMOTE"
   ]
  },
  {
   "cell_type": "code",
   "execution_count": 171,
   "metadata": {},
   "outputs": [
    {
     "name": "stdout",
     "output_type": "stream",
     "text": [
      "for        6073\n",
      "against    2398\n",
      "Name: vote, dtype: int64\n",
      "for        3419\n",
      "against    3419\n",
      "dtype: int64\n"
     ]
    }
   ],
   "source": [
    "# View previous class distribution\n",
    "print(target['vote'].value_counts()) \n",
    "\n",
    "# resample data ONLY on training data\n",
    "X_resampled, y_resampled = SMOTE().fit_sample(X_train, y_train) \n",
    "\n",
    "# View synthetic sample class distribution\n",
    "print(pd.Series(y_resampled).value_counts()) "
   ]
  },
  {
   "cell_type": "code",
   "execution_count": 172,
   "metadata": {},
   "outputs": [],
   "source": [
    "# then perform ususal train-test-split\n",
    "X_train, X_test, y_train, y_test = train_test_split(X_resampled, y_resampled, random_state=0)"
   ]
  },
  {
   "cell_type": "markdown",
   "metadata": {},
   "source": [
    "**Logistic Regression:**"
   ]
  },
  {
   "cell_type": "code",
   "execution_count": 173,
   "metadata": {},
   "outputs": [
    {
     "name": "stdout",
     "output_type": "stream",
     "text": [
      "Logistic Regression with balanced classes\n",
      "------------------------\n",
      "Training Accuracy: 73.99%\n",
      "Test Accuracy:     71.23%\n"
     ]
    }
   ],
   "source": [
    "# Instantiate the logistic regression\n",
    "logreg2 = LogisticRegression()\n",
    "\n",
    "# Train\n",
    "logreg2.fit(X_train, y_train)\n",
    "\n",
    "# Predict\n",
    "train_preds = logreg2.predict(X_train)\n",
    "test_preds = logreg2.predict(X_test)\n",
    "\n",
    "# Evaluate\n",
    "train_accuracy_logreg2 = accuracy_score(y_train, train_preds)\n",
    "test_accuracy_logreg2 = accuracy_score(y_test, test_preds)\n",
    "report_logreg2 = classification_report(y_test, test_preds)\n",
    "\n",
    "print(\"Logistic Regression with balanced classes\")\n",
    "print(\"------------------------\")\n",
    "print(f\"Training Accuracy: {(train_accuracy_logreg2 * 100):.4}%\")\n",
    "print(f\"Test Accuracy:     {(test_accuracy_logreg2 * 100):.4}%\")\n",
    "\n",
    "# store accuracy in a new dataframe\n",
    "score_logreg2 = ['Logistic Regression balanced', train_accuracy_logreg2, test_accuracy_logreg2]\n",
    "models2 = pd.DataFrame([score_logreg2])"
   ]
  },
  {
   "cell_type": "markdown",
   "metadata": {},
   "source": [
    "**Random Forest:**"
   ]
  },
  {
   "cell_type": "code",
   "execution_count": 174,
   "metadata": {},
   "outputs": [
    {
     "name": "stdout",
     "output_type": "stream",
     "text": [
      "Random Forest with balanced classes\n",
      "-------------------------\n",
      "Training Accuracy: 87.89%\n",
      "Test Accuracy:     81.58%\n"
     ]
    }
   ],
   "source": [
    "# Instantiate the random forest with the best found parameters\n",
    "forest2 = RandomForestClassifier(n_estimators=120, criterion='gini', max_features=9, \n",
    "                                 max_depth=10, min_samples_split=4, random_state=4)\n",
    "\n",
    "# Train the random forest\n",
    "forest2.fit(X_train, y_train)\n",
    "\n",
    "# Predict\n",
    "train_preds = forest2.predict(X_train)\n",
    "test_preds = forest2.predict(X_test)\n",
    "\n",
    "# Evaluate\n",
    "train_accuracy_forest2 = accuracy_score(y_train, train_preds)\n",
    "test_accuracy_forest2 = accuracy_score(y_test, test_preds)\n",
    "report_forest2 = classification_report(y_test, test_preds)\n",
    "\n",
    "print(\"Random Forest with balanced classes\")\n",
    "print(\"-------------------------\")\n",
    "print(f\"Training Accuracy: {(train_accuracy_forest2 * 100):.4}%\")\n",
    "print(f\"Test Accuracy:     {(test_accuracy_forest2 * 100):.4}%\")\n",
    "\n",
    "# append accuracy score to our dataframe\n",
    "score_forest2 = ['Random Forest balanced', train_accuracy_forest2, test_accuracy_forest2]\n",
    "models2 = models2.append([score_forest2])"
   ]
  },
  {
   "cell_type": "markdown",
   "metadata": {},
   "source": [
    "**XGBoost:**"
   ]
  },
  {
   "cell_type": "code",
   "execution_count": 175,
   "metadata": {},
   "outputs": [
    {
     "name": "stdout",
     "output_type": "stream",
     "text": [
      "XGBoost with balanced classes\n",
      "-------------------------\n",
      "Training Accuracy: 86.88%\n",
      "Test Accuracy:     83.63%\n"
     ]
    }
   ],
   "source": [
    "# Instantiate tuned xgboost\n",
    "booster2 = xgb.XGBClassifier(learning_rate=0.1, max_depth=5, n_estimators=100,\n",
    "                            colsample_bytree=0.7, gamma=0.1, random_state=4)\n",
    "\n",
    "# Train\n",
    "booster2.fit(X_train, y_train)\n",
    "\n",
    "# Predict\n",
    "train_preds = booster2.predict(X_train)\n",
    "test_preds = booster2.predict(X_test)\n",
    "\n",
    "# Evaluate\n",
    "train_accuracy_booster2 = accuracy_score(y_train, train_preds)\n",
    "test_accuracy_booster2 = accuracy_score(y_test, test_preds)\n",
    "report_booster2 = classification_report(y_test, test_preds)\n",
    "\n",
    "print(\"XGBoost with balanced classes\")\n",
    "print(\"-------------------------\")\n",
    "print(f\"Training Accuracy: {(train_accuracy_booster2 * 100):.4}%\")\n",
    "print(f\"Test Accuracy:     {(test_accuracy_booster2 * 100):.4}%\")\n",
    "\n",
    "# append accuracy score to our dataframe\n",
    "score_booster2 = ['XGBoost balanced', train_accuracy_booster2, test_accuracy_booster2]\n",
    "models2 = models2.append([score_booster2])"
   ]
  },
  {
   "cell_type": "markdown",
   "metadata": {},
   "source": [
    "**SVM:**"
   ]
  },
  {
   "cell_type": "code",
   "execution_count": 161,
   "metadata": {},
   "outputs": [],
   "source": [
    "from sklearn import svm"
   ]
  },
  {
   "cell_type": "code",
   "execution_count": 176,
   "metadata": {},
   "outputs": [
    {
     "name": "stdout",
     "output_type": "stream",
     "text": [
      "Support Vector Machine with balanced classes\n",
      "-------------------------\n",
      "Training Accuracy: 76.25%\n",
      "Test Accuracy:     73.63%\n"
     ]
    }
   ],
   "source": [
    "# instantiate Support Vector Classification\n",
    "svm2 = svm.SVC(kernel='rbf')\n",
    "\n",
    "# Train\n",
    "svm2.fit(X_train, y_train)\n",
    "\n",
    "# Predict\n",
    "train_preds = svm2.predict(X_train)\n",
    "test_preds = svm2.predict(X_test)\n",
    "\n",
    "# Evaluate\n",
    "train_accuracy_svm2 = accuracy_score(y_train, train_preds)\n",
    "test_accuracy_svm2 = accuracy_score(y_test, test_preds)\n",
    "report_svm2 = classification_report(y_test, test_preds)\n",
    "\n",
    "print(\"Support Vector Machine with balanced classes\")\n",
    "print(\"-------------------------\")\n",
    "print(f\"Training Accuracy: {(train_accuracy_svm2 * 100):.4}%\")\n",
    "print(f\"Test Accuracy:     {(test_accuracy_svm2 * 100):.4}%\")\n",
    "\n",
    "# append accuracy score to our dataframe\n",
    "score_svm2 = ['SVM balanced', train_accuracy_svm2, test_accuracy_svm2]\n",
    "models2 = models2.append([score_svm2])"
   ]
  },
  {
   "cell_type": "markdown",
   "metadata": {},
   "source": [
    "#### 4.8. Model comparison II\n",
    "<a id='4.8. Model comparison II'></a>"
   ]
  },
  {
   "cell_type": "markdown",
   "metadata": {},
   "source": [
    "We've now balanced our dataset. Did balancing our dataset improved the models' bias?"
   ]
  },
  {
   "cell_type": "code",
   "execution_count": 177,
   "metadata": {},
   "outputs": [
    {
     "data": {
      "text/html": [
       "<div>\n",
       "<style scoped>\n",
       "    .dataframe tbody tr th:only-of-type {\n",
       "        vertical-align: middle;\n",
       "    }\n",
       "\n",
       "    .dataframe tbody tr th {\n",
       "        vertical-align: top;\n",
       "    }\n",
       "\n",
       "    .dataframe thead th {\n",
       "        text-align: right;\n",
       "    }\n",
       "</style>\n",
       "<table border=\"1\" class=\"dataframe\">\n",
       "  <thead>\n",
       "    <tr style=\"text-align: right;\">\n",
       "      <th></th>\n",
       "      <th>0</th>\n",
       "      <th>1</th>\n",
       "      <th>2</th>\n",
       "    </tr>\n",
       "  </thead>\n",
       "  <tbody>\n",
       "    <tr>\n",
       "      <th>0</th>\n",
       "      <td>Logistic Regression balanced</td>\n",
       "      <td>0.73986</td>\n",
       "      <td>0.712281</td>\n",
       "    </tr>\n",
       "    <tr>\n",
       "      <th>0</th>\n",
       "      <td>Random Forest balanced</td>\n",
       "      <td>0.87890</td>\n",
       "      <td>0.815789</td>\n",
       "    </tr>\n",
       "    <tr>\n",
       "      <th>0</th>\n",
       "      <td>XGBoost balanced</td>\n",
       "      <td>0.86876</td>\n",
       "      <td>0.836257</td>\n",
       "    </tr>\n",
       "    <tr>\n",
       "      <th>0</th>\n",
       "      <td>SVM balanced</td>\n",
       "      <td>0.76248</td>\n",
       "      <td>0.736257</td>\n",
       "    </tr>\n",
       "  </tbody>\n",
       "</table>\n",
       "</div>"
      ],
      "text/plain": [
       "                              0        1         2\n",
       "0  Logistic Regression balanced  0.73986  0.712281\n",
       "0        Random Forest balanced  0.87890  0.815789\n",
       "0              XGBoost balanced  0.86876  0.836257\n",
       "0                  SVM balanced  0.76248  0.736257"
      ]
     },
     "execution_count": 177,
     "metadata": {},
     "output_type": "execute_result"
    }
   ],
   "source": [
    "models2"
   ]
  },
  {
   "cell_type": "code",
   "execution_count": 178,
   "metadata": {},
   "outputs": [
    {
     "data": {
      "text/html": [
       "<div>\n",
       "<style scoped>\n",
       "    .dataframe tbody tr th:only-of-type {\n",
       "        vertical-align: middle;\n",
       "    }\n",
       "\n",
       "    .dataframe tbody tr th {\n",
       "        vertical-align: top;\n",
       "    }\n",
       "\n",
       "    .dataframe thead th {\n",
       "        text-align: right;\n",
       "    }\n",
       "</style>\n",
       "<table border=\"1\" class=\"dataframe\">\n",
       "  <thead>\n",
       "    <tr style=\"text-align: right;\">\n",
       "      <th></th>\n",
       "      <th>Training Accuracy</th>\n",
       "      <th>Testing Accuracy</th>\n",
       "    </tr>\n",
       "    <tr>\n",
       "      <th>Classifier balanced</th>\n",
       "      <th></th>\n",
       "      <th></th>\n",
       "    </tr>\n",
       "  </thead>\n",
       "  <tbody>\n",
       "    <tr>\n",
       "      <th>XGBoost balanced</th>\n",
       "      <td>0.86876</td>\n",
       "      <td>0.836257</td>\n",
       "    </tr>\n",
       "    <tr>\n",
       "      <th>Random Forest balanced</th>\n",
       "      <td>0.87890</td>\n",
       "      <td>0.815789</td>\n",
       "    </tr>\n",
       "    <tr>\n",
       "      <th>SVM balanced</th>\n",
       "      <td>0.76248</td>\n",
       "      <td>0.736257</td>\n",
       "    </tr>\n",
       "    <tr>\n",
       "      <th>Logistic Regression balanced</th>\n",
       "      <td>0.73986</td>\n",
       "      <td>0.712281</td>\n",
       "    </tr>\n",
       "  </tbody>\n",
       "</table>\n",
       "</div>"
      ],
      "text/plain": [
       "                              Training Accuracy  Testing Accuracy\n",
       "Classifier balanced                                              \n",
       "XGBoost balanced                        0.86876          0.836257\n",
       "Random Forest balanced                  0.87890          0.815789\n",
       "SVM balanced                            0.76248          0.736257\n",
       "Logistic Regression balanced            0.73986          0.712281"
      ]
     },
     "execution_count": 178,
     "metadata": {},
     "output_type": "execute_result"
    }
   ],
   "source": [
    "# Accuracy for balanced data\n",
    "models2.columns = ['Classifier balanced', 'Training Accuracy', \"Testing Accuracy\"]\n",
    "models2.set_index(['Classifier balanced'], inplace=True)\n",
    "models2.sort_values(['Testing Accuracy'], ascending=[False])"
   ]
  },
  {
   "cell_type": "code",
   "execution_count": 179,
   "metadata": {},
   "outputs": [
    {
     "data": {
      "text/html": [
       "<div>\n",
       "<style scoped>\n",
       "    .dataframe tbody tr th:only-of-type {\n",
       "        vertical-align: middle;\n",
       "    }\n",
       "\n",
       "    .dataframe tbody tr th {\n",
       "        vertical-align: top;\n",
       "    }\n",
       "\n",
       "    .dataframe thead th {\n",
       "        text-align: right;\n",
       "    }\n",
       "</style>\n",
       "<table border=\"1\" class=\"dataframe\">\n",
       "  <thead>\n",
       "    <tr style=\"text-align: right;\">\n",
       "      <th></th>\n",
       "      <th>Training Accuracy</th>\n",
       "      <th>Testing Accuracy</th>\n",
       "    </tr>\n",
       "    <tr>\n",
       "      <th>Classifier</th>\n",
       "      <th></th>\n",
       "      <th></th>\n",
       "    </tr>\n",
       "  </thead>\n",
       "  <tbody>\n",
       "    <tr>\n",
       "      <th>XGBoost</th>\n",
       "      <td>0.815968</td>\n",
       "      <td>0.779941</td>\n",
       "    </tr>\n",
       "    <tr>\n",
       "      <th>Logistic Regression</th>\n",
       "      <td>0.775974</td>\n",
       "      <td>0.778761</td>\n",
       "    </tr>\n",
       "    <tr>\n",
       "      <th>Support Vector Machine</th>\n",
       "      <td>0.779368</td>\n",
       "      <td>0.774631</td>\n",
       "    </tr>\n",
       "    <tr>\n",
       "      <th>Random Forest</th>\n",
       "      <td>0.809032</td>\n",
       "      <td>0.767552</td>\n",
       "    </tr>\n",
       "  </tbody>\n",
       "</table>\n",
       "</div>"
      ],
      "text/plain": [
       "                        Training Accuracy  Testing Accuracy\n",
       "Classifier                                                 \n",
       "XGBoost                          0.815968          0.779941\n",
       "Logistic Regression              0.775974          0.778761\n",
       "Support Vector Machine           0.779368          0.774631\n",
       "Random Forest                    0.809032          0.767552"
      ]
     },
     "execution_count": 179,
     "metadata": {},
     "output_type": "execute_result"
    }
   ],
   "source": [
    "# Accuracy for imbalanced data\n",
    "models.sort_values(['Testing Accuracy'], ascending=[False])"
   ]
  },
  {
   "cell_type": "code",
   "execution_count": 180,
   "metadata": {},
   "outputs": [
    {
     "name": "stdout",
     "output_type": "stream",
     "text": [
      "Classification Report XGBoost: \n",
      "               precision    recall  f1-score   support\n",
      "\n",
      "     against       0.86      0.80      0.83       860\n",
      "         for       0.81      0.87      0.84       850\n",
      "\n",
      "   micro avg       0.84      0.84      0.84      1710\n",
      "   macro avg       0.84      0.84      0.84      1710\n",
      "weighted avg       0.84      0.84      0.84      1710\n",
      "\n",
      "------------------------------------------------------\n",
      "Classification Report Logistic Regression: \n",
      "               precision    recall  f1-score   support\n",
      "\n",
      "     against       0.70      0.74      0.72       860\n",
      "         for       0.72      0.69      0.70       850\n",
      "\n",
      "   micro avg       0.71      0.71      0.71      1710\n",
      "   macro avg       0.71      0.71      0.71      1710\n",
      "weighted avg       0.71      0.71      0.71      1710\n",
      "\n",
      "------------------------------------------------------\n",
      "Classification Report SVM: \n",
      "               precision    recall  f1-score   support\n",
      "\n",
      "     against       0.73      0.76      0.74       860\n",
      "         for       0.75      0.71      0.73       850\n",
      "\n",
      "   micro avg       0.74      0.74      0.74      1710\n",
      "   macro avg       0.74      0.74      0.74      1710\n",
      "weighted avg       0.74      0.74      0.74      1710\n",
      "\n",
      "------------------------------------------------------\n",
      "Classification Report Random Forest: \n",
      "               precision    recall  f1-score   support\n",
      "\n",
      "     against       0.84      0.78      0.81       860\n",
      "         for       0.79      0.85      0.82       850\n",
      "\n",
      "   micro avg       0.82      0.82      0.82      1710\n",
      "   macro avg       0.82      0.82      0.82      1710\n",
      "weighted avg       0.82      0.82      0.82      1710\n",
      "\n"
     ]
    }
   ],
   "source": [
    "print('Classification Report XGBoost: \\n', report_booster2)\n",
    "print('------------------------------------------------------')\n",
    "print('Classification Report Logistic Regression: \\n', report_logreg2)\n",
    "print('------------------------------------------------------')\n",
    "print('Classification Report SVM: \\n', report_svm2)\n",
    "print('------------------------------------------------------')\n",
    "print('Classification Report Random Forest: \\n', report_forest2)"
   ]
  },
  {
   "cell_type": "markdown",
   "metadata": {},
   "source": [
    "Success! Balancing our data has removed bias towards the more prevalent class."
   ]
  },
  {
   "cell_type": "markdown",
   "metadata": {},
   "source": [
    "*Back to: <a href='#Table of contents'> Table of contents</a>*\n",
    "### 5. Conclusions\n",
    "<a id='5. Conclusions'></a>"
   ]
  },
  {
   "cell_type": "markdown",
   "metadata": {},
   "source": [
    "#### 5.1. Feature importance \n",
    "<a id='5.1. Feature importance'></a>"
   ]
  },
  {
   "cell_type": "markdown",
   "metadata": {},
   "source": [
    "Close to the end, let's eventually glance at the 10 most important features for prediction. For the sake of simplicity we take the **XGBoost** classifier and the **Random Forest** classifier:"
   ]
  },
  {
   "cell_type": "code",
   "execution_count": 167,
   "metadata": {},
   "outputs": [
    {
     "data": {
      "image/png": "[encoded data removed]",
      "text/plain": [
       "<Figure size 720x360 with 1 Axes>"
      ]
     },
     "metadata": {
      "needs_background": "light"
     },
     "output_type": "display_data"
    }
   ],
   "source": [
    "# plot the important features - based on XGBoost\n",
    "feat_importances = pd.Series(booster.feature_importances_, index=features.columns)\n",
    "feat_importances.nlargest(10).sort_values().plot(kind='barh', color='darkgrey', figsize=(10,5))\n",
    "plt.xlabel('Relative Feature Importance with XGBoost');"
   ]
  },
  {
   "cell_type": "code",
   "execution_count": 168,
   "metadata": {},
   "outputs": [
    {
     "data": {
      "image/png": "[encoded data removed]",
      "text/plain": [
       "<Figure size 720x360 with 1 Axes>"
      ]
     },
     "metadata": {
      "needs_background": "light"
     },
     "output_type": "display_data"
    }
   ],
   "source": [
    "# plot the important features - based on Random Forest\n",
    "feat_importances = pd.Series(forest.feature_importances_, index=features.columns)\n",
    "feat_importances.nlargest(10).sort_values().plot(kind='barh', color='darkgrey', figsize=(10,5))\n",
    "plt.xlabel('Relative Feature Importance with Random Forest');"
   ]
  },
  {
   "cell_type": "markdown",
   "metadata": {},
   "source": [
    "This last plot, produced by our tuned Random Forest, draws the most distinct picture. We see that the attitude towards the argument **\"It creates more equality of opportunity\"** is the first and most important feature to split people."
   ]
  },
  {
   "cell_type": "markdown",
   "metadata": {},
   "source": [
    "#### 5.2. Recommendation \n",
    "<a id='5.2. Recommendation'></a>"
   ]
  },
  {
   "cell_type": "markdown",
   "metadata": {},
   "source": [
    "Back to our question from the beginning: \"Could we predict the vote someone would give?\" The answer is: \"YES.\"\n",
    "\n",
    "With an XGBoost and the SMOTE algorithm to account for the imbalanced classes in our target variable we were able to not only improve our accuracy by just under 4& to almost 84% - moreover, we could remove any bias towards the yes-voters. So let's take the **XGBoost**."
   ]
  },
  {
   "cell_type": "markdown",
   "metadata": {},
   "source": [
    "*Back to: <a href='#Table of contents'> Table of contents</a>*"
   ]
  }
 ],
 "metadata": {
  "kernelspec": {
   "display_name": "Python 3",
   "language": "python",
   "name": "python3"
  },
  "language_info": {
   "codemirror_mode": {
    "name": "ipython",
    "version": 3
   },
   "file_extension": ".py",
   "mimetype": "text/x-python",
   "name": "python",
   "nbconvert_exporter": "python",
   "pygments_lexer": "ipython3",
   "version": "3.6.6"
  }
 },
 "nbformat": 4,
 "nbformat_minor": 2
}
